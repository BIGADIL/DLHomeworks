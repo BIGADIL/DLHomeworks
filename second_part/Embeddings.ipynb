{
 "cells": [
  {
   "cell_type": "markdown",
   "metadata": {
    "id": "Ot3c4fjZwC4T"
   },
   "source": [
    "<img src=\"https://s8.hostingkartinok.com/uploads/images/2018/08/308b49fcfbc619d629fe4604bceb67ac.jpg\" width=500, height=450>\n",
    "<h3 style=\"text-align: center;\"><b>Физтех-Школа Прикладной математики и информатики (ФПМИ) МФТИ</b></h3>"
   ]
  },
  {
   "cell_type": "markdown",
   "metadata": {
    "id": "P2JdzEXmwRU5"
   },
   "source": [
    "---"
   ]
  },
  {
   "cell_type": "markdown",
   "metadata": {
    "id": "eYtJxkhKpYK2"
   },
   "source": [
    "# Embeddings\n",
    "\n",
    "Привет! В этом домашнем задании мы с помощью эмбеддингов решим задачу семантической классификации твитов.\n",
    "\n",
    "Для этого мы воспользуемся предобученными эмбеддингами word2vec."
   ]
  },
  {
   "cell_type": "markdown",
   "metadata": {
    "id": "jBOdoFS8AdpP"
   },
   "source": [
    "Для начала скачаем датасет для семантической классификации твитов:"
   ]
  },
  {
   "cell_type": "code",
   "execution_count": 1,
   "metadata": {
    "colab": {
     "base_uri": "https://localhost:8080/"
    },
    "id": "wXjhtsfF_gBK",
    "outputId": "96939715-9d7a-40d8-e43b-dfefc1db6827"
   },
   "outputs": [
    {
     "name": "stderr",
     "output_type": "stream",
     "text": [
      "Downloading...\n",
      "From: https://drive.google.com/uc?id=1eE1FiUkXkcbw0McId4i7qY-L8hH-_Qph\n",
      "To: C:\\Users\\Halfdan\\Disk_L\\code\\Python\\dl-homework\\archive.zip\n",
      "\n",
      "  0%|          | 0.00/84.9M [00:00<?, ?B/s]\n",
      "  1%|          | 524k/84.9M [00:00<00:54, 1.54MB/s]\n",
      "  1%|1         | 1.05M/84.9M [00:00<00:33, 2.50MB/s]\n",
      "  3%|3         | 2.62M/84.9M [00:00<00:13, 6.08MB/s]\n",
      "  8%|8         | 6.82M/84.9M [00:00<00:04, 15.8MB/s]\n",
      " 19%|#8        | 15.7M/84.9M [00:00<00:02, 30.5MB/s]\n",
      " 23%|##2       | 19.4M/84.9M [00:01<00:03, 20.9MB/s]\n",
      " 30%|###       | 25.7M/84.9M [00:01<00:02, 28.7MB/s]\n",
      " 38%|###7      | 32.0M/84.9M [00:01<00:01, 32.2MB/s]\n",
      " 43%|####2     | 36.2M/84.9M [00:01<00:01, 30.0MB/s]\n",
      " 50%|#####     | 42.5M/84.9M [00:01<00:01, 36.7MB/s]\n",
      " 57%|#####6    | 48.2M/84.9M [00:01<00:00, 41.5MB/s]\n",
      " 65%|######5   | 55.6M/84.9M [00:01<00:00, 49.3MB/s]\n",
      " 75%|#######4  | 63.4M/84.9M [00:01<00:00, 56.4MB/s]\n",
      " 85%|########5 | 72.4M/84.9M [00:02<00:00, 64.7MB/s]\n",
      " 96%|#########5| 81.3M/84.9M [00:02<00:00, 71.0MB/s]\n",
      "100%|##########| 84.9M/84.9M [00:02<00:00, 37.9MB/s]\n",
      "\"export\" не является внутренней или внешней\n",
      "командой, исполняемой программой или пакетным файлом.\n",
      "\"unzip\" не является внутренней или внешней\n",
      "командой, исполняемой программой или пакетным файлом.\n"
     ]
    }
   ],
   "source": [
    "!gdown https://drive.google.com/uc?id=1eE1FiUkXkcbw0McId4i7qY-L8hH-_Qph&export=download\n",
    "!unzip archive.zip"
   ]
  },
  {
   "cell_type": "markdown",
   "metadata": {
    "id": "Sh6wW-K53Mle"
   },
   "source": [
    "Импортируем нужные библиотеки:"
   ]
  },
  {
   "cell_type": "code",
   "execution_count": 1,
   "metadata": {
    "id": "A2Y5CHRm6NFe"
   },
   "outputs": [],
   "source": [
    "import math\n",
    "import random\n",
    "import string\n",
    "\n",
    "import numpy as np\n",
    "import pandas as pd\n",
    "import seaborn as sns\n",
    "\n",
    "import torch\n",
    "import nltk\n",
    "import gensim\n",
    "import gensim.downloader as api"
   ]
  },
  {
   "cell_type": "code",
   "execution_count": 2,
   "metadata": {
    "id": "73Lb0wbESrgQ"
   },
   "outputs": [],
   "source": [
    "random.seed(42)\n",
    "np.random.seed(42)\n",
    "torch.random.manual_seed(42)\n",
    "torch.cuda.random.manual_seed(42)\n",
    "torch.cuda.random.manual_seed_all(42)\n",
    "\n",
    "device = \"cuda\" if torch.cuda.is_available() else \"cpu\""
   ]
  },
  {
   "cell_type": "code",
   "execution_count": 3,
   "metadata": {
    "id": "L_Wv-4bu83Fl"
   },
   "outputs": [],
   "source": [
    "data = pd.read_csv(\"training.1600000.processed.noemoticon.csv\", encoding=\"latin\", header=None, names=[\"emotion\", \"id\", \"date\", \"flag\", \"user\", \"text\"])"
   ]
  },
  {
   "cell_type": "markdown",
   "metadata": {
    "id": "RY1pvYDS3Yuj"
   },
   "source": [
    "Посмотрим на данные:"
   ]
  },
  {
   "cell_type": "code",
   "execution_count": 4,
   "metadata": {
    "colab": {
     "base_uri": "https://localhost:8080/",
     "height": 204
    },
    "id": "jST2tjgjCTWD",
    "outputId": "2b9ae0f2-a812-4f5c-c4c5-e6e01cc19ae5"
   },
   "outputs": [
    {
     "data": {
      "text/html": [
       "<div>\n",
       "<style scoped>\n",
       "    .dataframe tbody tr th:only-of-type {\n",
       "        vertical-align: middle;\n",
       "    }\n",
       "\n",
       "    .dataframe tbody tr th {\n",
       "        vertical-align: top;\n",
       "    }\n",
       "\n",
       "    .dataframe thead th {\n",
       "        text-align: right;\n",
       "    }\n",
       "</style>\n",
       "<table border=\"1\" class=\"dataframe\">\n",
       "  <thead>\n",
       "    <tr style=\"text-align: right;\">\n",
       "      <th></th>\n",
       "      <th>emotion</th>\n",
       "      <th>id</th>\n",
       "      <th>date</th>\n",
       "      <th>flag</th>\n",
       "      <th>user</th>\n",
       "      <th>text</th>\n",
       "    </tr>\n",
       "  </thead>\n",
       "  <tbody>\n",
       "    <tr>\n",
       "      <th>0</th>\n",
       "      <td>0</td>\n",
       "      <td>1467810369</td>\n",
       "      <td>Mon Apr 06 22:19:45 PDT 2009</td>\n",
       "      <td>NO_QUERY</td>\n",
       "      <td>_TheSpecialOne_</td>\n",
       "      <td>@switchfoot http://twitpic.com/2y1zl - Awww, t...</td>\n",
       "    </tr>\n",
       "    <tr>\n",
       "      <th>1</th>\n",
       "      <td>0</td>\n",
       "      <td>1467810672</td>\n",
       "      <td>Mon Apr 06 22:19:49 PDT 2009</td>\n",
       "      <td>NO_QUERY</td>\n",
       "      <td>scotthamilton</td>\n",
       "      <td>is upset that he can't update his Facebook by ...</td>\n",
       "    </tr>\n",
       "    <tr>\n",
       "      <th>2</th>\n",
       "      <td>0</td>\n",
       "      <td>1467810917</td>\n",
       "      <td>Mon Apr 06 22:19:53 PDT 2009</td>\n",
       "      <td>NO_QUERY</td>\n",
       "      <td>mattycus</td>\n",
       "      <td>@Kenichan I dived many times for the ball. Man...</td>\n",
       "    </tr>\n",
       "    <tr>\n",
       "      <th>3</th>\n",
       "      <td>0</td>\n",
       "      <td>1467811184</td>\n",
       "      <td>Mon Apr 06 22:19:57 PDT 2009</td>\n",
       "      <td>NO_QUERY</td>\n",
       "      <td>ElleCTF</td>\n",
       "      <td>my whole body feels itchy and like its on fire</td>\n",
       "    </tr>\n",
       "    <tr>\n",
       "      <th>4</th>\n",
       "      <td>0</td>\n",
       "      <td>1467811193</td>\n",
       "      <td>Mon Apr 06 22:19:57 PDT 2009</td>\n",
       "      <td>NO_QUERY</td>\n",
       "      <td>Karoli</td>\n",
       "      <td>@nationwideclass no, it's not behaving at all....</td>\n",
       "    </tr>\n",
       "  </tbody>\n",
       "</table>\n",
       "</div>"
      ],
      "text/plain": [
       "   emotion          id                          date      flag  \\\n",
       "0        0  1467810369  Mon Apr 06 22:19:45 PDT 2009  NO_QUERY   \n",
       "1        0  1467810672  Mon Apr 06 22:19:49 PDT 2009  NO_QUERY   \n",
       "2        0  1467810917  Mon Apr 06 22:19:53 PDT 2009  NO_QUERY   \n",
       "3        0  1467811184  Mon Apr 06 22:19:57 PDT 2009  NO_QUERY   \n",
       "4        0  1467811193  Mon Apr 06 22:19:57 PDT 2009  NO_QUERY   \n",
       "\n",
       "              user                                               text  \n",
       "0  _TheSpecialOne_  @switchfoot http://twitpic.com/2y1zl - Awww, t...  \n",
       "1    scotthamilton  is upset that he can't update his Facebook by ...  \n",
       "2         mattycus  @Kenichan I dived many times for the ball. Man...  \n",
       "3          ElleCTF    my whole body feels itchy and like its on fire   \n",
       "4           Karoli  @nationwideclass no, it's not behaving at all....  "
      ]
     },
     "execution_count": 4,
     "metadata": {},
     "output_type": "execute_result"
    }
   ],
   "source": [
    "data.head()"
   ]
  },
  {
   "cell_type": "markdown",
   "metadata": {
    "id": "OhbR5JJyA2VW"
   },
   "source": [
    "Выведем несколько примеров твитов, чтобы понимать, с чем мы имеем дело:"
   ]
  },
  {
   "cell_type": "code",
   "execution_count": 5,
   "metadata": {
    "colab": {
     "base_uri": "https://localhost:8080/"
    },
    "id": "kCBwe0wR83C2",
    "outputId": "1eb247e7-2337-4f6c-d210-023e51f6d357"
   },
   "outputs": [
    {
     "name": "stdout",
     "output_type": "stream",
     "text": [
      "@chrishasboobs AHHH I HOPE YOUR OK!!! \n",
      "@misstoriblack cool , i have no tweet apps  for my razr 2\n",
      "@TiannaChaos i know  just family drama. its lame.hey next time u hang out with kim n u guys like have a sleepover or whatever, ill call u\n",
      "School email won't open  and I have geography stuff on there to revise! *Stupid School* :'(\n",
      "upper airways problem \n",
      "Going to miss Pastor's sermon on Faith... \n",
      "on lunch....dj should come eat with me \n",
      "@piginthepoke oh why are you feeling like that? \n",
      "gahh noo!peyton needs to live!this is horrible \n",
      "@mrstessyman thank you glad you like it! There is a product review bit on the site  Enjoy knitting it!\n"
     ]
    }
   ],
   "source": [
    "examples = data[\"text\"].sample(10)\n",
    "print(\"\\n\".join(examples))"
   ]
  },
  {
   "cell_type": "markdown",
   "metadata": {
    "id": "GvcYW8aX3mKt"
   },
   "source": [
    "Как вилим, тексты твитов очень \"грязные\". Нужно предобработать датасет, прежде чем строить для него модель классификации.\n",
    "\n",
    "Чтобы сравнивать различные методы обработки текста/модели/прочее, разделим датасет на dev(для обучения модели) и test(для получения качества модели)."
   ]
  },
  {
   "cell_type": "code",
   "execution_count": 6,
   "metadata": {
    "id": "f8hUK-jnQg6O"
   },
   "outputs": [],
   "source": [
    "indexes = np.arange(data.shape[0])\n",
    "np.random.shuffle(indexes)\n",
    "dev_size = math.ceil(data.shape[0] * 0.8)\n",
    "\n",
    "dev_indexes = indexes[:dev_size]\n",
    "test_indexes = indexes[dev_size:]\n",
    "\n",
    "dev_data = data.iloc[dev_indexes]\n",
    "test_data = data.iloc[test_indexes]\n",
    "\n",
    "dev_data.reset_index(drop=True, inplace=True)\n",
    "test_data.reset_index(drop=True, inplace=True)"
   ]
  },
  {
   "cell_type": "markdown",
   "metadata": {
    "id": "6ivcpeFoCnZA"
   },
   "source": [
    "## Обработка текста"
   ]
  },
  {
   "cell_type": "markdown",
   "metadata": {
    "id": "Df4nca285Dar"
   },
   "source": [
    "Токенизируем текст, избавимся от знаков пунктуации и выкинем все слова, состоящие менее чем из 4 букв:"
   ]
  },
  {
   "cell_type": "code",
   "execution_count": 7,
   "metadata": {
    "colab": {
     "base_uri": "https://localhost:8080/"
    },
    "id": "nsNHNDES9ZVF",
    "outputId": "38d4570e-74e5-41eb-f669-0e8654a9635b"
   },
   "outputs": [
    {
     "name": "stdout",
     "output_type": "stream",
     "text": [
      "@ claire_nelson i ' m on the north devon coast the next few weeks will be down in devon again in may sometime i hope though !\n"
     ]
    }
   ],
   "source": [
    "tokenizer = nltk.WordPunctTokenizer()\n",
    "line = tokenizer.tokenize(dev_data[\"text\"][0].lower())\n",
    "print(\" \".join(line))"
   ]
  },
  {
   "cell_type": "code",
   "execution_count": 8,
   "metadata": {
    "colab": {
     "base_uri": "https://localhost:8080/"
    },
    "id": "GcBS_u_hTuxp",
    "outputId": "2dbb4e4b-5730-48e8-c211-f864d9f6eb2e"
   },
   "outputs": [
    {
     "name": "stdout",
     "output_type": "stream",
     "text": [
      "north devon coast next weeks will down devon again sometime hope though\n"
     ]
    }
   ],
   "source": [
    "filtered_line = [w for w in line if all(c not in string.punctuation for c in w) and len(w) > 3]\n",
    "print(\" \".join(filtered_line))"
   ]
  },
  {
   "cell_type": "markdown",
   "metadata": {
    "id": "cuFmlXkC6E7X"
   },
   "source": [
    "Загрузим предобученную модель эмбеддингов. \n",
    "\n",
    "Если хотите, можно попробовать другую. Полный список можно найти здесь: https://github.com/RaRe-Technologies/gensim-data.\n",
    "\n",
    "Данная модель выдает эмбеддинги для **слов**. Строить по эмбеддингам слов эмбеддинги предложений мы будем ниже."
   ]
  },
  {
   "cell_type": "code",
   "execution_count": 9,
   "metadata": {
    "colab": {
     "base_uri": "https://localhost:8080/"
    },
    "id": "cACJpje2T5bc",
    "outputId": "c822db63-6032-4ec5-f0bd-1b81ed37d536",
    "scrolled": true
   },
   "outputs": [],
   "source": [
    "word2vec = api.load(\"word2vec-google-news-300\")"
   ]
  },
  {
   "cell_type": "code",
   "execution_count": 10,
   "metadata": {
    "colab": {
     "base_uri": "https://localhost:8080/"
    },
    "id": "NafmYHrkT5YD",
    "outputId": "7d7befe7-f024-4989-93b2-31cc77a1c74d"
   },
   "outputs": [
    {
     "name": "stdout",
     "output_type": "stream",
     "text": [
      "(300,)\n"
     ]
    }
   ],
   "source": [
    "emb_line = [word2vec.get_vector(w) for w in filtered_line if w in word2vec]\n",
    "print(sum(emb_line).shape)"
   ]
  },
  {
   "cell_type": "markdown",
   "metadata": {
    "id": "LTS6LCkd6_E7"
   },
   "source": [
    "Нормализуем эмбеддинги, прежде чем обучать на них сеть. \n",
    "(наверное, вы помните, что нейронные сети гораздо лучше обучаются на нормализованных данных)"
   ]
  },
  {
   "cell_type": "code",
   "execution_count": 11,
   "metadata": {
    "colab": {
     "base_uri": "https://localhost:8080/"
    },
    "id": "3PyLTZ6xf3Oq",
    "outputId": "b11e92af-2d90-445e-906b-3ef700a984a4"
   },
   "outputs": [
    {
     "name": "stdout",
     "output_type": "stream",
     "text": [
      "(300,)\n",
      "[False, False, False, False, False, False, False, False, False, False, False, False]\n"
     ]
    }
   ],
   "source": [
    "mean = np.mean(word2vec.vectors, 0)\n",
    "std = np.std(word2vec.vectors, 0)\n",
    "norm_emb_line = [(word2vec.get_vector(w) - mean) / std for w in filtered_line if w in word2vec and len(w) > 3]\n",
    "print(sum(norm_emb_line).shape)\n",
    "print([all(norm_emb_line[i] == emb_line[i]) for i in range(len(emb_line))])"
   ]
  },
  {
   "cell_type": "markdown",
   "metadata": {
    "id": "q7vm6Ppd7Ubw"
   },
   "source": [
    "Сделаем датасет, который будет по запросу возвращать подготовленные данные."
   ]
  },
  {
   "cell_type": "code",
   "execution_count": 12,
   "metadata": {
    "id": "b4eZajF7pZ1X"
   },
   "outputs": [],
   "source": [
    "from torch.utils.data import Dataset, random_split\n",
    "\n",
    "\n",
    "class TwitterDataset(Dataset):\n",
    "    def __init__(self, data: pd.DataFrame, feature_column: str, target_column: str, word2vec: gensim.models.Word2Vec):\n",
    "        self.tokenizer = nltk.WordPunctTokenizer()\n",
    "        \n",
    "        self.data = data\n",
    "\n",
    "        self.feature_column = feature_column\n",
    "        self.target_column = target_column\n",
    "\n",
    "        self.word2vec = word2vec\n",
    "\n",
    "        self.label2num = lambda label: 0 if label == 0 else 1\n",
    "        self.mean = np.mean(word2vec.vectors, axis=0)\n",
    "        self.std = np.std(word2vec.vectors, axis=0)\n",
    "\n",
    "    def __getitem__(self, item):\n",
    "        text = self.data[self.feature_column][item]\n",
    "        label = self.label2num(self.data[self.target_column][item])\n",
    "\n",
    "        tokens = self.get_tokens_(text)\n",
    "        embeddings = self.get_embeddings_(tokens)\n",
    "\n",
    "        return {\"feature\": embeddings, \"target\": label}\n",
    "\n",
    "    def get_tokens_(self, text):\n",
    "        # Получи все токены из текста и профильтруй их\n",
    "        return [w for w in tokenizer.tokenize(text) if all(c not in string.punctuation for c in w) and len(w) > 3]\n",
    "\n",
    "    def get_embeddings_(self, tokens):\n",
    "        embeddings = [(self.word2vec.get_vector(w) - self.mean) / self.std for w in tokens if w in self.word2vec]\n",
    "\n",
    "        if len(embeddings) == 0:\n",
    "            embeddings = np.zeros((1, self.word2vec.vector_size))\n",
    "        else:\n",
    "            embeddings = np.array(embeddings)\n",
    "            if len(embeddings.shape) == 1:\n",
    "                embeddings = embeddings.reshape(-1, 1)\n",
    "\n",
    "        return embeddings\n",
    "\n",
    "    def __len__(self):\n",
    "        return self.data.shape[0]"
   ]
  },
  {
   "cell_type": "code",
   "execution_count": 13,
   "metadata": {
    "id": "IZJpttbXpZyz"
   },
   "outputs": [],
   "source": [
    "dev = TwitterDataset(dev_data, \"text\", \"emotion\", word2vec)"
   ]
  },
  {
   "cell_type": "markdown",
   "metadata": {
    "id": "Sr-aetH0_LH1"
   },
   "source": [
    "Отлично, мы готовы с помощью эмбеддингов слов превращать твиты в векторы и обучать нейронную сеть.\n",
    "\n",
    "Превращать твиты в векторы, используя эмбеддинги слов, можно несколькими способами. А именно такими:"
   ]
  },
  {
   "cell_type": "markdown",
   "metadata": {
    "id": "4AhHrWa196Yc"
   },
   "source": [
    "## Average embedding (2 балла)\n",
    "---\n",
    "Это самый простой вариант, как получить вектор предложения, используя векторные представления слов в предложении. А именно: вектор предложения есть средний вектор всех слов в предлоежнии (которые остались после токенизации и удаления коротких слов, конечно). "
   ]
  },
  {
   "cell_type": "code",
   "execution_count": 14,
   "metadata": {
    "colab": {
     "base_uri": "https://localhost:8080/"
    },
    "id": "ScdokSW-994t",
    "outputId": "df1d3a99-2c29-425b-e8ca-417c160bfc16"
   },
   "outputs": [
    {
     "name": "stdout",
     "output_type": "stream",
     "text": [
      "1280\n"
     ]
    }
   ],
   "source": [
    "indexes = np.arange(len(dev))\n",
    "np.random.shuffle(indexes)\n",
    "example_indexes = indexes[::1000]\n",
    "\n",
    "examples = {\"features\": [np.sum(dev[i][\"feature\"], axis=0) for i in example_indexes], \n",
    "            \"targets\": [dev[i][\"target\"] for i in example_indexes]}\n",
    "print(len(examples[\"features\"]))"
   ]
  },
  {
   "cell_type": "markdown",
   "metadata": {
    "id": "1yGQ_lOx_1NL"
   },
   "source": [
    "Давайте сделаем визуализацию полученных векторов твитов тренировочного (dev) датасета. Так мы увидим, насколько хорошо твиты с разными target значениями отделяются друг от друга, т.е. насколько хорошо усреднение эмбеддингов слов предложения передает информацию о предложении."
   ]
  },
  {
   "cell_type": "markdown",
   "metadata": {
    "id": "LZwFksd_8uYO"
   },
   "source": [
    "Для визуализации векторов надо получить их проекцию на плоскость. Сделаем это с помощью `PCA`. Если хотите, можете вместо PCA использовать TSNE: так у вас получится более точная проекция на плоскость (а значит, более информативная, т.е. отражающая реальное положение векторов твитов в пространстве). Но TSNE будет работать намного дольше."
   ]
  },
  {
   "cell_type": "code",
   "execution_count": 15,
   "metadata": {
    "id": "aKFZRSHdtIac"
   },
   "outputs": [],
   "source": [
    "from sklearn.decomposition import PCA\n",
    "\n",
    "\n",
    "pca = PCA(n_components=2)\n",
    "examples[\"transformed_features\"] = pca.fit_transform(examples[\"features\"])"
   ]
  },
  {
   "cell_type": "code",
   "execution_count": 16,
   "metadata": {
    "id": "szEOWdiNtIX8"
   },
   "outputs": [
    {
     "data": {
      "text/html": [
       "\n",
       "    <div class=\"bk-root\">\n",
       "        <a href=\"https://bokeh.org\" target=\"_blank\" class=\"bk-logo bk-logo-small bk-logo-notebook\"></a>\n",
       "        <span id=\"1002\">Loading BokehJS ...</span>\n",
       "    </div>"
      ]
     },
     "metadata": {},
     "output_type": "display_data"
    },
    {
     "data": {
      "application/javascript": [
       "\n",
       "(function(root) {\n",
       "  function now() {\n",
       "    return new Date();\n",
       "  }\n",
       "\n",
       "  var force = true;\n",
       "\n",
       "  if (typeof root._bokeh_onload_callbacks === \"undefined\" || force === true) {\n",
       "    root._bokeh_onload_callbacks = [];\n",
       "    root._bokeh_is_loading = undefined;\n",
       "  }\n",
       "\n",
       "  var JS_MIME_TYPE = 'application/javascript';\n",
       "  var HTML_MIME_TYPE = 'text/html';\n",
       "  var EXEC_MIME_TYPE = 'application/vnd.bokehjs_exec.v0+json';\n",
       "  var CLASS_NAME = 'output_bokeh rendered_html';\n",
       "\n",
       "  /**\n",
       "   * Render data to the DOM node\n",
       "   */\n",
       "  function render(props, node) {\n",
       "    var script = document.createElement(\"script\");\n",
       "    node.appendChild(script);\n",
       "  }\n",
       "\n",
       "  /**\n",
       "   * Handle when an output is cleared or removed\n",
       "   */\n",
       "  function handleClearOutput(event, handle) {\n",
       "    var cell = handle.cell;\n",
       "\n",
       "    var id = cell.output_area._bokeh_element_id;\n",
       "    var server_id = cell.output_area._bokeh_server_id;\n",
       "    // Clean up Bokeh references\n",
       "    if (id != null && id in Bokeh.index) {\n",
       "      Bokeh.index[id].model.document.clear();\n",
       "      delete Bokeh.index[id];\n",
       "    }\n",
       "\n",
       "    if (server_id !== undefined) {\n",
       "      // Clean up Bokeh references\n",
       "      var cmd = \"from bokeh.io.state import curstate; print(curstate().uuid_to_server['\" + server_id + \"'].get_sessions()[0].document.roots[0]._id)\";\n",
       "      cell.notebook.kernel.execute(cmd, {\n",
       "        iopub: {\n",
       "          output: function(msg) {\n",
       "            var id = msg.content.text.trim();\n",
       "            if (id in Bokeh.index) {\n",
       "              Bokeh.index[id].model.document.clear();\n",
       "              delete Bokeh.index[id];\n",
       "            }\n",
       "          }\n",
       "        }\n",
       "      });\n",
       "      // Destroy server and session\n",
       "      var cmd = \"import bokeh.io.notebook as ion; ion.destroy_server('\" + server_id + \"')\";\n",
       "      cell.notebook.kernel.execute(cmd);\n",
       "    }\n",
       "  }\n",
       "\n",
       "  /**\n",
       "   * Handle when a new output is added\n",
       "   */\n",
       "  function handleAddOutput(event, handle) {\n",
       "    var output_area = handle.output_area;\n",
       "    var output = handle.output;\n",
       "\n",
       "    // limit handleAddOutput to display_data with EXEC_MIME_TYPE content only\n",
       "    if ((output.output_type != \"display_data\") || (!Object.prototype.hasOwnProperty.call(output.data, EXEC_MIME_TYPE))) {\n",
       "      return\n",
       "    }\n",
       "\n",
       "    var toinsert = output_area.element.find(\".\" + CLASS_NAME.split(' ')[0]);\n",
       "\n",
       "    if (output.metadata[EXEC_MIME_TYPE][\"id\"] !== undefined) {\n",
       "      toinsert[toinsert.length - 1].firstChild.textContent = output.data[JS_MIME_TYPE];\n",
       "      // store reference to embed id on output_area\n",
       "      output_area._bokeh_element_id = output.metadata[EXEC_MIME_TYPE][\"id\"];\n",
       "    }\n",
       "    if (output.metadata[EXEC_MIME_TYPE][\"server_id\"] !== undefined) {\n",
       "      var bk_div = document.createElement(\"div\");\n",
       "      bk_div.innerHTML = output.data[HTML_MIME_TYPE];\n",
       "      var script_attrs = bk_div.children[0].attributes;\n",
       "      for (var i = 0; i < script_attrs.length; i++) {\n",
       "        toinsert[toinsert.length - 1].firstChild.setAttribute(script_attrs[i].name, script_attrs[i].value);\n",
       "        toinsert[toinsert.length - 1].firstChild.textContent = bk_div.children[0].textContent\n",
       "      }\n",
       "      // store reference to server id on output_area\n",
       "      output_area._bokeh_server_id = output.metadata[EXEC_MIME_TYPE][\"server_id\"];\n",
       "    }\n",
       "  }\n",
       "\n",
       "  function register_renderer(events, OutputArea) {\n",
       "\n",
       "    function append_mime(data, metadata, element) {\n",
       "      // create a DOM node to render to\n",
       "      var toinsert = this.create_output_subarea(\n",
       "        metadata,\n",
       "        CLASS_NAME,\n",
       "        EXEC_MIME_TYPE\n",
       "      );\n",
       "      this.keyboard_manager.register_events(toinsert);\n",
       "      // Render to node\n",
       "      var props = {data: data, metadata: metadata[EXEC_MIME_TYPE]};\n",
       "      render(props, toinsert[toinsert.length - 1]);\n",
       "      element.append(toinsert);\n",
       "      return toinsert\n",
       "    }\n",
       "\n",
       "    /* Handle when an output is cleared or removed */\n",
       "    events.on('clear_output.CodeCell', handleClearOutput);\n",
       "    events.on('delete.Cell', handleClearOutput);\n",
       "\n",
       "    /* Handle when a new output is added */\n",
       "    events.on('output_added.OutputArea', handleAddOutput);\n",
       "\n",
       "    /**\n",
       "     * Register the mime type and append_mime function with output_area\n",
       "     */\n",
       "    OutputArea.prototype.register_mime_type(EXEC_MIME_TYPE, append_mime, {\n",
       "      /* Is output safe? */\n",
       "      safe: true,\n",
       "      /* Index of renderer in `output_area.display_order` */\n",
       "      index: 0\n",
       "    });\n",
       "  }\n",
       "\n",
       "  // register the mime type if in Jupyter Notebook environment and previously unregistered\n",
       "  if (root.Jupyter !== undefined) {\n",
       "    var events = require('base/js/events');\n",
       "    var OutputArea = require('notebook/js/outputarea').OutputArea;\n",
       "\n",
       "    if (OutputArea.prototype.mime_types().indexOf(EXEC_MIME_TYPE) == -1) {\n",
       "      register_renderer(events, OutputArea);\n",
       "    }\n",
       "  }\n",
       "\n",
       "  \n",
       "  if (typeof (root._bokeh_timeout) === \"undefined\" || force === true) {\n",
       "    root._bokeh_timeout = Date.now() + 5000;\n",
       "    root._bokeh_failed_load = false;\n",
       "  }\n",
       "\n",
       "  var NB_LOAD_WARNING = {'data': {'text/html':\n",
       "     \"<div style='background-color: #fdd'>\\n\"+\n",
       "     \"<p>\\n\"+\n",
       "     \"BokehJS does not appear to have successfully loaded. If loading BokehJS from CDN, this \\n\"+\n",
       "     \"may be due to a slow or bad network connection. Possible fixes:\\n\"+\n",
       "     \"</p>\\n\"+\n",
       "     \"<ul>\\n\"+\n",
       "     \"<li>re-rerun `output_notebook()` to attempt to load from CDN again, or</li>\\n\"+\n",
       "     \"<li>use INLINE resources instead, as so:</li>\\n\"+\n",
       "     \"</ul>\\n\"+\n",
       "     \"<code>\\n\"+\n",
       "     \"from bokeh.resources import INLINE\\n\"+\n",
       "     \"output_notebook(resources=INLINE)\\n\"+\n",
       "     \"</code>\\n\"+\n",
       "     \"</div>\"}};\n",
       "\n",
       "  function display_loaded() {\n",
       "    var el = document.getElementById(\"1002\");\n",
       "    if (el != null) {\n",
       "      el.textContent = \"BokehJS is loading...\";\n",
       "    }\n",
       "    if (root.Bokeh !== undefined) {\n",
       "      if (el != null) {\n",
       "        el.textContent = \"BokehJS \" + root.Bokeh.version + \" successfully loaded.\";\n",
       "      }\n",
       "    } else if (Date.now() < root._bokeh_timeout) {\n",
       "      setTimeout(display_loaded, 100)\n",
       "    }\n",
       "  }\n",
       "\n",
       "\n",
       "  function run_callbacks() {\n",
       "    try {\n",
       "      root._bokeh_onload_callbacks.forEach(function(callback) {\n",
       "        if (callback != null)\n",
       "          callback();\n",
       "      });\n",
       "    } finally {\n",
       "      delete root._bokeh_onload_callbacks\n",
       "    }\n",
       "    console.debug(\"Bokeh: all callbacks have finished\");\n",
       "  }\n",
       "\n",
       "  function load_libs(css_urls, js_urls, callback) {\n",
       "    if (css_urls == null) css_urls = [];\n",
       "    if (js_urls == null) js_urls = [];\n",
       "\n",
       "    root._bokeh_onload_callbacks.push(callback);\n",
       "    if (root._bokeh_is_loading > 0) {\n",
       "      console.debug(\"Bokeh: BokehJS is being loaded, scheduling callback at\", now());\n",
       "      return null;\n",
       "    }\n",
       "    if (js_urls == null || js_urls.length === 0) {\n",
       "      run_callbacks();\n",
       "      return null;\n",
       "    }\n",
       "    console.debug(\"Bokeh: BokehJS not loaded, scheduling load and callback at\", now());\n",
       "    root._bokeh_is_loading = css_urls.length + js_urls.length;\n",
       "\n",
       "    function on_load() {\n",
       "      root._bokeh_is_loading--;\n",
       "      if (root._bokeh_is_loading === 0) {\n",
       "        console.debug(\"Bokeh: all BokehJS libraries/stylesheets loaded\");\n",
       "        run_callbacks()\n",
       "      }\n",
       "    }\n",
       "\n",
       "    function on_error(url) {\n",
       "      console.error(\"failed to load \" + url);\n",
       "    }\n",
       "\n",
       "    for (let i = 0; i < css_urls.length; i++) {\n",
       "      const url = css_urls[i];\n",
       "      const element = document.createElement(\"link\");\n",
       "      element.onload = on_load;\n",
       "      element.onerror = on_error.bind(null, url);\n",
       "      element.rel = \"stylesheet\";\n",
       "      element.type = \"text/css\";\n",
       "      element.href = url;\n",
       "      console.debug(\"Bokeh: injecting link tag for BokehJS stylesheet: \", url);\n",
       "      document.body.appendChild(element);\n",
       "    }\n",
       "\n",
       "    const hashes = {\"https://cdn.bokeh.org/bokeh/release/bokeh-2.3.3.min.js\": \"dM3QQsP+wXdHg42wTqW85BjZQdLNNIXqlPw/BgKoExPmTG7ZLML4EGqLMfqHT6ON\", \"https://cdn.bokeh.org/bokeh/release/bokeh-tables-2.3.3.min.js\": \"8x57I4YuIfu8XyZfFo0XVr2WAT8EK4rh/uDe3wF7YuW2FNUSNEpJbsPaB1nJ2fz2\", \"https://cdn.bokeh.org/bokeh/release/bokeh-widgets-2.3.3.min.js\": \"3QTqdz9LyAm2i0sG5XTePsHec3UHWwVsrOL68SYRoAXsafvfAyqtQ+h440+qIBhS\"};\n",
       "\n",
       "    for (let i = 0; i < js_urls.length; i++) {\n",
       "      const url = js_urls[i];\n",
       "      const element = document.createElement('script');\n",
       "      element.onload = on_load;\n",
       "      element.onerror = on_error.bind(null, url);\n",
       "      element.async = false;\n",
       "      element.src = url;\n",
       "      if (url in hashes) {\n",
       "        element.crossOrigin = \"anonymous\";\n",
       "        element.integrity = \"sha384-\" + hashes[url];\n",
       "      }\n",
       "      console.debug(\"Bokeh: injecting script tag for BokehJS library: \", url);\n",
       "      document.head.appendChild(element);\n",
       "    }\n",
       "  };\n",
       "\n",
       "  function inject_raw_css(css) {\n",
       "    const element = document.createElement(\"style\");\n",
       "    element.appendChild(document.createTextNode(css));\n",
       "    document.body.appendChild(element);\n",
       "  }\n",
       "\n",
       "  \n",
       "  var js_urls = [\"https://cdn.bokeh.org/bokeh/release/bokeh-2.3.3.min.js\", \"https://cdn.bokeh.org/bokeh/release/bokeh-widgets-2.3.3.min.js\", \"https://cdn.bokeh.org/bokeh/release/bokeh-tables-2.3.3.min.js\"];\n",
       "  var css_urls = [];\n",
       "  \n",
       "\n",
       "  var inline_js = [\n",
       "    function(Bokeh) {\n",
       "      Bokeh.set_log_level(\"info\");\n",
       "    },\n",
       "    function(Bokeh) {\n",
       "    \n",
       "    \n",
       "    }\n",
       "  ];\n",
       "\n",
       "  function run_inline_js() {\n",
       "    \n",
       "    if (root.Bokeh !== undefined || force === true) {\n",
       "      \n",
       "    for (var i = 0; i < inline_js.length; i++) {\n",
       "      inline_js[i].call(root, root.Bokeh);\n",
       "    }\n",
       "    if (force === true) {\n",
       "        display_loaded();\n",
       "      }} else if (Date.now() < root._bokeh_timeout) {\n",
       "      setTimeout(run_inline_js, 100);\n",
       "    } else if (!root._bokeh_failed_load) {\n",
       "      console.log(\"Bokeh: BokehJS failed to load within specified timeout.\");\n",
       "      root._bokeh_failed_load = true;\n",
       "    } else if (force !== true) {\n",
       "      var cell = $(document.getElementById(\"1002\")).parents('.cell').data().cell;\n",
       "      cell.output_area.append_execute_result(NB_LOAD_WARNING)\n",
       "    }\n",
       "\n",
       "  }\n",
       "\n",
       "  if (root._bokeh_is_loading === 0) {\n",
       "    console.debug(\"Bokeh: BokehJS loaded, going straight to plotting\");\n",
       "    run_inline_js();\n",
       "  } else {\n",
       "    load_libs(css_urls, js_urls, function() {\n",
       "      console.debug(\"Bokeh: BokehJS plotting callback run at\", now());\n",
       "      run_inline_js();\n",
       "    });\n",
       "  }\n",
       "}(window));"
      ],
      "application/vnd.bokehjs_load.v0+json": "\n(function(root) {\n  function now() {\n    return new Date();\n  }\n\n  var force = true;\n\n  if (typeof root._bokeh_onload_callbacks === \"undefined\" || force === true) {\n    root._bokeh_onload_callbacks = [];\n    root._bokeh_is_loading = undefined;\n  }\n\n  \n\n  \n  if (typeof (root._bokeh_timeout) === \"undefined\" || force === true) {\n    root._bokeh_timeout = Date.now() + 5000;\n    root._bokeh_failed_load = false;\n  }\n\n  var NB_LOAD_WARNING = {'data': {'text/html':\n     \"<div style='background-color: #fdd'>\\n\"+\n     \"<p>\\n\"+\n     \"BokehJS does not appear to have successfully loaded. If loading BokehJS from CDN, this \\n\"+\n     \"may be due to a slow or bad network connection. Possible fixes:\\n\"+\n     \"</p>\\n\"+\n     \"<ul>\\n\"+\n     \"<li>re-rerun `output_notebook()` to attempt to load from CDN again, or</li>\\n\"+\n     \"<li>use INLINE resources instead, as so:</li>\\n\"+\n     \"</ul>\\n\"+\n     \"<code>\\n\"+\n     \"from bokeh.resources import INLINE\\n\"+\n     \"output_notebook(resources=INLINE)\\n\"+\n     \"</code>\\n\"+\n     \"</div>\"}};\n\n  function display_loaded() {\n    var el = document.getElementById(\"1002\");\n    if (el != null) {\n      el.textContent = \"BokehJS is loading...\";\n    }\n    if (root.Bokeh !== undefined) {\n      if (el != null) {\n        el.textContent = \"BokehJS \" + root.Bokeh.version + \" successfully loaded.\";\n      }\n    } else if (Date.now() < root._bokeh_timeout) {\n      setTimeout(display_loaded, 100)\n    }\n  }\n\n\n  function run_callbacks() {\n    try {\n      root._bokeh_onload_callbacks.forEach(function(callback) {\n        if (callback != null)\n          callback();\n      });\n    } finally {\n      delete root._bokeh_onload_callbacks\n    }\n    console.debug(\"Bokeh: all callbacks have finished\");\n  }\n\n  function load_libs(css_urls, js_urls, callback) {\n    if (css_urls == null) css_urls = [];\n    if (js_urls == null) js_urls = [];\n\n    root._bokeh_onload_callbacks.push(callback);\n    if (root._bokeh_is_loading > 0) {\n      console.debug(\"Bokeh: BokehJS is being loaded, scheduling callback at\", now());\n      return null;\n    }\n    if (js_urls == null || js_urls.length === 0) {\n      run_callbacks();\n      return null;\n    }\n    console.debug(\"Bokeh: BokehJS not loaded, scheduling load and callback at\", now());\n    root._bokeh_is_loading = css_urls.length + js_urls.length;\n\n    function on_load() {\n      root._bokeh_is_loading--;\n      if (root._bokeh_is_loading === 0) {\n        console.debug(\"Bokeh: all BokehJS libraries/stylesheets loaded\");\n        run_callbacks()\n      }\n    }\n\n    function on_error(url) {\n      console.error(\"failed to load \" + url);\n    }\n\n    for (let i = 0; i < css_urls.length; i++) {\n      const url = css_urls[i];\n      const element = document.createElement(\"link\");\n      element.onload = on_load;\n      element.onerror = on_error.bind(null, url);\n      element.rel = \"stylesheet\";\n      element.type = \"text/css\";\n      element.href = url;\n      console.debug(\"Bokeh: injecting link tag for BokehJS stylesheet: \", url);\n      document.body.appendChild(element);\n    }\n\n    const hashes = {\"https://cdn.bokeh.org/bokeh/release/bokeh-2.3.3.min.js\": \"dM3QQsP+wXdHg42wTqW85BjZQdLNNIXqlPw/BgKoExPmTG7ZLML4EGqLMfqHT6ON\", \"https://cdn.bokeh.org/bokeh/release/bokeh-tables-2.3.3.min.js\": \"8x57I4YuIfu8XyZfFo0XVr2WAT8EK4rh/uDe3wF7YuW2FNUSNEpJbsPaB1nJ2fz2\", \"https://cdn.bokeh.org/bokeh/release/bokeh-widgets-2.3.3.min.js\": \"3QTqdz9LyAm2i0sG5XTePsHec3UHWwVsrOL68SYRoAXsafvfAyqtQ+h440+qIBhS\"};\n\n    for (let i = 0; i < js_urls.length; i++) {\n      const url = js_urls[i];\n      const element = document.createElement('script');\n      element.onload = on_load;\n      element.onerror = on_error.bind(null, url);\n      element.async = false;\n      element.src = url;\n      if (url in hashes) {\n        element.crossOrigin = \"anonymous\";\n        element.integrity = \"sha384-\" + hashes[url];\n      }\n      console.debug(\"Bokeh: injecting script tag for BokehJS library: \", url);\n      document.head.appendChild(element);\n    }\n  };\n\n  function inject_raw_css(css) {\n    const element = document.createElement(\"style\");\n    element.appendChild(document.createTextNode(css));\n    document.body.appendChild(element);\n  }\n\n  \n  var js_urls = [\"https://cdn.bokeh.org/bokeh/release/bokeh-2.3.3.min.js\", \"https://cdn.bokeh.org/bokeh/release/bokeh-widgets-2.3.3.min.js\", \"https://cdn.bokeh.org/bokeh/release/bokeh-tables-2.3.3.min.js\"];\n  var css_urls = [];\n  \n\n  var inline_js = [\n    function(Bokeh) {\n      Bokeh.set_log_level(\"info\");\n    },\n    function(Bokeh) {\n    \n    \n    }\n  ];\n\n  function run_inline_js() {\n    \n    if (root.Bokeh !== undefined || force === true) {\n      \n    for (var i = 0; i < inline_js.length; i++) {\n      inline_js[i].call(root, root.Bokeh);\n    }\n    if (force === true) {\n        display_loaded();\n      }} else if (Date.now() < root._bokeh_timeout) {\n      setTimeout(run_inline_js, 100);\n    } else if (!root._bokeh_failed_load) {\n      console.log(\"Bokeh: BokehJS failed to load within specified timeout.\");\n      root._bokeh_failed_load = true;\n    } else if (force !== true) {\n      var cell = $(document.getElementById(\"1002\")).parents('.cell').data().cell;\n      cell.output_area.append_execute_result(NB_LOAD_WARNING)\n    }\n\n  }\n\n  if (root._bokeh_is_loading === 0) {\n    console.debug(\"Bokeh: BokehJS loaded, going straight to plotting\");\n    run_inline_js();\n  } else {\n    load_libs(css_urls, js_urls, function() {\n      console.debug(\"Bokeh: BokehJS plotting callback run at\", now());\n      run_inline_js();\n    });\n  }\n}(window));"
     },
     "metadata": {},
     "output_type": "display_data"
    }
   ],
   "source": [
    "import bokeh.models as bm, bokeh.plotting as pl\n",
    "from bokeh.io import output_notebook\n",
    "output_notebook()\n",
    "\n",
    "def draw_vectors(x, y, radius=10, alpha=0.25, color='blue',\n",
    "                 width=600, height=400, show=True, **kwargs):\n",
    "    \"\"\" draws an interactive plot for data points with auxilirary info on hover \"\"\"\n",
    "    data_source = bm.ColumnDataSource({ 'x' : x, 'y' : y, 'color': color, **kwargs })\n",
    "\n",
    "    fig = pl.figure(active_scroll='wheel_zoom', width=width, height=height)\n",
    "    fig.scatter('x', 'y', size=radius, color='color', alpha=alpha, source=data_source)\n",
    "\n",
    "    fig.add_tools(bm.HoverTool(tooltips=[(key, \"@\" + key) for key in kwargs.keys()]))\n",
    "    if show: pl.show(fig)\n",
    "    return fig"
   ]
  },
  {
   "cell_type": "code",
   "execution_count": 17,
   "metadata": {
    "colab": {
     "base_uri": "https://localhost:8080/",
     "height": 434
    },
    "id": "7OONK8ldtIWe",
    "outputId": "ec6dc015-b6fa-4470-98db-79d685c62f63"
   },
   "outputs": [
    {
     "data": {
      "text/html": [
       "\n",
       "\n",
       "\n",
       "\n",
       "\n",
       "\n",
       "  <div class=\"bk-root\" id=\"075db255-ad44-4bf2-b777-0d77e666abfb\" data-root-id=\"1004\"></div>\n"
      ]
     },
     "metadata": {},
     "output_type": "display_data"
    },
    {
     "data": {
      "application/javascript": [
       "(function(root) {\n",
       "  function embed_document(root) {\n",
       "    \n",
       "  var docs_json = {\"02baa931-808e-4e2b-8563-3777c085df2e\":{\"defs\":[],\"roots\":{\"references\":[{\"attributes\":{\"below\":[{\"id\":\"1013\"}],\"center\":[{\"id\":\"1016\"},{\"id\":\"1020\"}],\"height\":400,\"left\":[{\"id\":\"1017\"}],\"renderers\":[{\"id\":\"1038\"}],\"title\":{\"id\":\"1042\"},\"toolbar\":{\"id\":\"1028\"},\"x_range\":{\"id\":\"1005\"},\"x_scale\":{\"id\":\"1009\"},\"y_range\":{\"id\":\"1007\"},\"y_scale\":{\"id\":\"1011\"}},\"id\":\"1004\",\"subtype\":\"Figure\",\"type\":\"Plot\"},{\"attributes\":{},\"id\":\"1022\",\"type\":\"WheelZoomTool\"},{\"attributes\":{},\"id\":\"1045\",\"type\":\"BasicTickFormatter\"},{\"attributes\":{},\"id\":\"1052\",\"type\":\"UnionRenderers\"},{\"attributes\":{\"overlay\":{\"id\":\"1027\"}},\"id\":\"1023\",\"type\":\"BoxZoomTool\"},{\"attributes\":{\"active_multi\":null,\"active_scroll\":{\"id\":\"1022\"},\"tools\":[{\"id\":\"1021\"},{\"id\":\"1022\"},{\"id\":\"1023\"},{\"id\":\"1024\"},{\"id\":\"1025\"},{\"id\":\"1026\"},{\"id\":\"1040\"}]},\"id\":\"1028\",\"type\":\"Toolbar\"},{\"attributes\":{},\"id\":\"1046\",\"type\":\"AllLabels\"},{\"attributes\":{},\"id\":\"1051\",\"type\":\"Selection\"},{\"attributes\":{},\"id\":\"1026\",\"type\":\"HelpTool\"},{\"attributes\":{},\"id\":\"1048\",\"type\":\"BasicTickFormatter\"},{\"attributes\":{\"axis\":{\"id\":\"1017\"},\"dimension\":1,\"ticker\":null},\"id\":\"1020\",\"type\":\"Grid\"},{\"attributes\":{},\"id\":\"1042\",\"type\":\"Title\"},{\"attributes\":{},\"id\":\"1049\",\"type\":\"AllLabels\"},{\"attributes\":{\"bottom_units\":\"screen\",\"fill_alpha\":0.5,\"fill_color\":\"lightgrey\",\"left_units\":\"screen\",\"level\":\"overlay\",\"line_alpha\":1.0,\"line_color\":\"black\",\"line_dash\":[4,4],\"line_width\":2,\"right_units\":\"screen\",\"syncable\":false,\"top_units\":\"screen\"},\"id\":\"1027\",\"type\":\"BoxAnnotation\"},{\"attributes\":{},\"id\":\"1018\",\"type\":\"BasicTicker\"},{\"attributes\":{},\"id\":\"1009\",\"type\":\"LinearScale\"},{\"attributes\":{},\"id\":\"1014\",\"type\":\"BasicTicker\"},{\"attributes\":{},\"id\":\"1021\",\"type\":\"PanTool\"},{\"attributes\":{},\"id\":\"1011\",\"type\":\"LinearScale\"},{\"attributes\":{},\"id\":\"1025\",\"type\":\"ResetTool\"},{\"attributes\":{\"callback\":null,\"tooltips\":[]},\"id\":\"1040\",\"type\":\"HoverTool\"},{\"attributes\":{\"data_source\":{\"id\":\"1003\"},\"glyph\":{\"id\":\"1036\"},\"hover_glyph\":null,\"muted_glyph\":null,\"nonselection_glyph\":{\"id\":\"1037\"},\"view\":{\"id\":\"1039\"}},\"id\":\"1038\",\"type\":\"GlyphRenderer\"},{\"attributes\":{\"formatter\":{\"id\":\"1045\"},\"major_label_policy\":{\"id\":\"1046\"},\"ticker\":{\"id\":\"1018\"}},\"id\":\"1017\",\"type\":\"LinearAxis\"},{\"attributes\":{},\"id\":\"1007\",\"type\":\"DataRange1d\"},{\"attributes\":{\"fill_alpha\":{\"value\":0.25},\"fill_color\":{\"field\":\"color\"},\"line_alpha\":{\"value\":0.25},\"line_color\":{\"field\":\"color\"},\"size\":{\"value\":10},\"x\":{\"field\":\"x\"},\"y\":{\"field\":\"y\"}},\"id\":\"1036\",\"type\":\"Scatter\"},{\"attributes\":{},\"id\":\"1005\",\"type\":\"DataRange1d\"},{\"attributes\":{},\"id\":\"1024\",\"type\":\"SaveTool\"},{\"attributes\":{\"formatter\":{\"id\":\"1048\"},\"major_label_policy\":{\"id\":\"1049\"},\"ticker\":{\"id\":\"1014\"}},\"id\":\"1013\",\"type\":\"LinearAxis\"},{\"attributes\":{\"source\":{\"id\":\"1003\"}},\"id\":\"1039\",\"type\":\"CDSView\"},{\"attributes\":{\"axis\":{\"id\":\"1013\"},\"ticker\":null},\"id\":\"1016\",\"type\":\"Grid\"},{\"attributes\":{\"fill_alpha\":{\"value\":0.1},\"fill_color\":{\"field\":\"color\"},\"line_alpha\":{\"value\":0.1},\"line_color\":{\"field\":\"color\"},\"size\":{\"value\":10},\"x\":{\"field\":\"x\"},\"y\":{\"field\":\"y\"}},\"id\":\"1037\",\"type\":\"Scatter\"},{\"attributes\":{\"data\":{\"color\":[\"red\",\"red\",\"red\",\"blue\",\"red\",\"blue\",\"blue\",\"blue\",\"blue\",\"blue\",\"blue\",\"blue\",\"blue\",\"red\",\"red\",\"blue\",\"blue\",\"blue\",\"red\",\"blue\",\"blue\",\"blue\",\"blue\",\"red\",\"blue\",\"blue\",\"red\",\"red\",\"blue\",\"red\",\"blue\",\"red\",\"red\",\"blue\",\"red\",\"red\",\"blue\",\"red\",\"blue\",\"blue\",\"red\",\"blue\",\"blue\",\"blue\",\"red\",\"red\",\"red\",\"red\",\"blue\",\"red\",\"blue\",\"blue\",\"blue\",\"red\",\"blue\",\"red\",\"blue\",\"blue\",\"red\",\"red\",\"red\",\"blue\",\"blue\",\"red\",\"red\",\"blue\",\"blue\",\"red\",\"blue\",\"blue\",\"blue\",\"blue\",\"red\",\"red\",\"red\",\"red\",\"red\",\"blue\",\"red\",\"red\",\"blue\",\"blue\",\"red\",\"red\",\"blue\",\"red\",\"red\",\"red\",\"blue\",\"red\",\"red\",\"red\",\"red\",\"blue\",\"blue\",\"red\",\"red\",\"blue\",\"red\",\"red\",\"blue\",\"red\",\"blue\",\"red\",\"red\",\"red\",\"red\",\"blue\",\"red\",\"blue\",\"blue\",\"blue\",\"blue\",\"red\",\"red\",\"blue\",\"blue\",\"blue\",\"red\",\"blue\",\"red\",\"red\",\"red\",\"red\",\"blue\",\"blue\",\"red\",\"blue\",\"red\",\"blue\",\"blue\",\"blue\",\"red\",\"blue\",\"red\",\"blue\",\"red\",\"red\",\"blue\",\"red\",\"red\",\"blue\",\"red\",\"red\",\"blue\",\"red\",\"red\",\"blue\",\"blue\",\"blue\",\"blue\",\"red\",\"red\",\"red\",\"blue\",\"red\",\"red\",\"red\",\"blue\",\"red\",\"red\",\"red\",\"red\",\"red\",\"red\",\"blue\",\"blue\",\"red\",\"blue\",\"blue\",\"red\",\"red\",\"red\",\"blue\",\"red\",\"red\",\"blue\",\"red\",\"blue\",\"blue\",\"red\",\"blue\",\"red\",\"red\",\"blue\",\"blue\",\"blue\",\"blue\",\"blue\",\"red\",\"red\",\"red\",\"blue\",\"blue\",\"blue\",\"red\",\"red\",\"blue\",\"blue\",\"blue\",\"blue\",\"blue\",\"blue\",\"red\",\"red\",\"red\",\"red\",\"red\",\"red\",\"red\",\"red\",\"red\",\"blue\",\"blue\",\"blue\",\"red\",\"blue\",\"red\",\"blue\",\"blue\",\"red\",\"blue\",\"red\",\"blue\",\"blue\",\"red\",\"blue\",\"blue\",\"blue\",\"blue\",\"red\",\"blue\",\"red\",\"red\",\"red\",\"blue\",\"red\",\"blue\",\"red\",\"red\",\"red\",\"blue\",\"red\",\"blue\",\"red\",\"blue\",\"red\",\"blue\",\"red\",\"blue\",\"blue\",\"blue\",\"blue\",\"blue\",\"blue\",\"blue\",\"red\",\"red\",\"red\",\"red\",\"blue\",\"red\",\"red\",\"blue\",\"blue\",\"blue\",\"red\",\"red\",\"red\",\"red\",\"blue\",\"blue\",\"blue\",\"blue\",\"blue\",\"blue\",\"blue\",\"red\",\"blue\",\"red\",\"red\",\"red\",\"blue\",\"red\",\"red\",\"blue\",\"blue\",\"red\",\"blue\",\"blue\",\"red\",\"red\",\"blue\",\"red\",\"red\",\"blue\",\"blue\",\"red\",\"blue\",\"red\",\"red\",\"blue\",\"red\",\"red\",\"blue\",\"red\",\"blue\",\"blue\",\"red\",\"red\",\"blue\",\"blue\",\"blue\",\"red\",\"blue\",\"blue\",\"red\",\"red\",\"red\",\"blue\",\"blue\",\"red\",\"blue\",\"red\",\"red\",\"red\",\"red\",\"red\",\"blue\",\"blue\",\"red\",\"red\",\"red\",\"red\",\"red\",\"blue\",\"red\",\"red\",\"red\",\"blue\",\"blue\",\"blue\",\"blue\",\"blue\",\"red\",\"blue\",\"blue\",\"red\",\"red\",\"blue\",\"blue\",\"blue\",\"blue\",\"red\",\"blue\",\"blue\",\"blue\",\"blue\",\"red\",\"blue\",\"red\",\"blue\",\"red\",\"red\",\"blue\",\"blue\",\"blue\",\"red\",\"red\",\"blue\",\"red\",\"red\",\"red\",\"blue\",\"red\",\"blue\",\"blue\",\"blue\",\"red\",\"red\",\"red\",\"blue\",\"blue\",\"red\",\"blue\",\"blue\",\"red\",\"blue\",\"blue\",\"red\",\"blue\",\"blue\",\"red\",\"blue\",\"red\",\"red\",\"blue\",\"blue\",\"blue\",\"red\",\"blue\",\"blue\",\"blue\",\"red\",\"red\",\"blue\",\"blue\",\"blue\",\"red\",\"blue\",\"blue\",\"blue\",\"red\",\"blue\",\"blue\",\"blue\",\"blue\",\"red\",\"blue\",\"blue\",\"red\",\"red\",\"red\",\"blue\",\"blue\",\"blue\",\"red\",\"red\",\"blue\",\"blue\",\"blue\",\"red\",\"blue\",\"blue\",\"blue\",\"blue\",\"blue\",\"red\",\"red\",\"blue\",\"blue\",\"blue\",\"red\",\"red\",\"blue\",\"red\",\"red\",\"red\",\"blue\",\"red\",\"red\",\"blue\",\"red\",\"blue\",\"blue\",\"red\",\"blue\",\"blue\",\"red\",\"red\",\"blue\",\"blue\",\"blue\",\"blue\",\"red\",\"red\",\"red\",\"red\",\"blue\",\"blue\",\"blue\",\"red\",\"blue\",\"blue\",\"red\",\"blue\",\"red\",\"red\",\"blue\",\"red\",\"blue\",\"red\",\"red\",\"blue\",\"red\",\"blue\",\"blue\",\"blue\",\"red\",\"blue\",\"red\",\"blue\",\"blue\",\"blue\",\"blue\",\"blue\",\"red\",\"blue\",\"blue\",\"red\",\"blue\",\"red\",\"blue\",\"red\",\"blue\",\"red\",\"red\",\"red\",\"red\",\"red\",\"red\",\"blue\",\"blue\",\"blue\",\"red\",\"blue\",\"red\",\"red\",\"blue\",\"red\",\"red\",\"red\",\"red\",\"red\",\"red\",\"blue\",\"blue\",\"blue\",\"red\",\"blue\",\"red\",\"blue\",\"blue\",\"red\",\"red\",\"red\",\"blue\",\"red\",\"blue\",\"blue\",\"blue\",\"red\",\"blue\",\"blue\",\"red\",\"blue\",\"blue\",\"blue\",\"blue\",\"blue\",\"blue\",\"red\",\"red\",\"red\",\"blue\",\"blue\",\"red\",\"blue\",\"blue\",\"blue\",\"red\",\"blue\",\"red\",\"blue\",\"blue\",\"red\",\"red\",\"blue\",\"red\",\"red\",\"red\",\"blue\",\"red\",\"red\",\"blue\",\"red\",\"red\",\"blue\",\"blue\",\"blue\",\"red\",\"red\",\"red\",\"blue\",\"blue\",\"blue\",\"red\",\"red\",\"red\",\"red\",\"blue\",\"blue\",\"red\",\"red\",\"red\",\"red\",\"red\",\"red\",\"blue\",\"blue\",\"red\",\"red\",\"red\",\"blue\",\"red\",\"red\",\"red\",\"blue\",\"red\",\"red\",\"blue\",\"red\",\"red\",\"blue\",\"blue\",\"blue\",\"red\",\"blue\",\"blue\",\"blue\",\"red\",\"red\",\"red\",\"blue\",\"blue\",\"red\",\"red\",\"blue\",\"red\",\"blue\",\"blue\",\"blue\",\"red\",\"red\",\"blue\",\"red\",\"red\",\"blue\",\"red\",\"blue\",\"blue\",\"red\",\"red\",\"red\",\"red\",\"red\",\"red\",\"red\",\"red\",\"red\",\"blue\",\"blue\",\"blue\",\"red\",\"red\",\"blue\",\"blue\",\"blue\",\"red\",\"blue\",\"blue\",\"blue\",\"blue\",\"red\",\"blue\",\"red\",\"blue\",\"red\",\"red\",\"red\",\"blue\",\"red\",\"red\",\"red\",\"blue\",\"red\",\"blue\",\"blue\",\"blue\",\"red\",\"red\",\"red\",\"blue\",\"blue\",\"blue\",\"red\",\"red\",\"red\",\"blue\",\"red\",\"red\",\"red\",\"blue\",\"red\",\"blue\",\"red\",\"red\",\"blue\",\"red\",\"blue\",\"blue\",\"red\",\"red\",\"blue\",\"blue\",\"blue\",\"blue\",\"red\",\"blue\",\"blue\",\"red\",\"red\",\"red\",\"red\",\"blue\",\"blue\",\"red\",\"red\",\"red\",\"red\",\"red\",\"blue\",\"blue\",\"red\",\"red\",\"red\",\"blue\",\"blue\",\"blue\",\"blue\",\"blue\",\"red\",\"red\",\"red\",\"blue\",\"blue\",\"red\",\"red\",\"red\",\"red\",\"red\",\"blue\",\"blue\",\"blue\",\"red\",\"red\",\"red\",\"red\",\"red\",\"blue\",\"red\",\"red\",\"red\",\"blue\",\"red\",\"red\",\"red\",\"red\",\"red\",\"red\",\"red\",\"red\",\"red\",\"blue\",\"blue\",\"blue\",\"blue\",\"blue\",\"red\",\"blue\",\"blue\",\"red\",\"blue\",\"red\",\"red\",\"blue\",\"red\",\"red\",\"blue\",\"red\",\"blue\",\"red\",\"red\",\"red\",\"blue\",\"red\",\"blue\",\"blue\",\"blue\",\"red\",\"blue\",\"blue\",\"red\",\"blue\",\"blue\",\"blue\",\"blue\",\"red\",\"blue\",\"red\",\"red\",\"red\",\"red\",\"blue\",\"blue\",\"red\",\"red\",\"blue\",\"red\",\"red\",\"blue\",\"red\",\"blue\",\"red\",\"blue\",\"blue\",\"red\",\"blue\",\"blue\",\"blue\",\"red\",\"blue\",\"red\",\"blue\",\"blue\",\"red\",\"red\",\"red\",\"blue\",\"blue\",\"blue\",\"red\",\"blue\",\"red\",\"blue\",\"blue\",\"red\",\"blue\",\"blue\",\"blue\",\"red\",\"red\",\"red\",\"blue\",\"red\",\"red\",\"red\",\"blue\",\"red\",\"red\",\"blue\",\"red\",\"blue\",\"blue\",\"blue\",\"red\",\"blue\",\"blue\",\"red\",\"red\",\"red\",\"blue\",\"blue\",\"blue\",\"red\",\"blue\",\"red\",\"blue\",\"red\",\"red\",\"blue\",\"red\",\"red\",\"red\",\"blue\",\"blue\",\"blue\",\"red\",\"red\",\"red\",\"red\",\"red\",\"red\",\"blue\",\"red\",\"red\",\"blue\",\"red\",\"red\",\"blue\",\"red\",\"blue\",\"blue\",\"blue\",\"blue\",\"red\",\"blue\",\"blue\",\"blue\",\"blue\",\"red\",\"red\",\"blue\",\"blue\",\"red\",\"red\",\"red\",\"blue\",\"red\",\"red\",\"blue\",\"blue\",\"red\",\"red\",\"blue\",\"red\",\"red\",\"blue\",\"red\",\"red\",\"red\",\"blue\",\"blue\",\"red\",\"red\",\"red\",\"blue\",\"red\",\"blue\",\"red\",\"blue\",\"red\",\"blue\",\"red\",\"blue\",\"red\",\"red\",\"blue\",\"blue\",\"blue\",\"red\",\"red\",\"red\",\"red\",\"red\",\"red\",\"blue\",\"red\",\"blue\",\"red\",\"blue\",\"red\",\"blue\",\"blue\",\"blue\",\"red\",\"blue\",\"blue\",\"red\",\"blue\",\"blue\",\"blue\",\"red\",\"red\",\"red\",\"blue\",\"blue\",\"blue\",\"red\",\"red\",\"blue\",\"red\",\"red\",\"red\",\"red\",\"blue\",\"red\",\"red\",\"red\",\"red\",\"blue\",\"blue\",\"blue\",\"red\",\"blue\",\"red\",\"red\",\"blue\",\"red\",\"blue\",\"blue\",\"red\",\"red\",\"red\",\"blue\",\"blue\",\"blue\",\"blue\",\"red\",\"red\",\"blue\",\"blue\",\"red\",\"blue\",\"blue\",\"blue\",\"blue\",\"red\",\"blue\",\"red\",\"red\",\"blue\",\"blue\",\"blue\",\"blue\",\"blue\",\"red\",\"red\",\"red\",\"red\",\"blue\",\"red\",\"blue\",\"red\",\"blue\",\"red\",\"blue\",\"red\",\"blue\",\"red\",\"blue\",\"blue\",\"red\",\"blue\",\"red\",\"blue\",\"red\",\"blue\",\"blue\",\"blue\",\"red\",\"red\",\"blue\",\"red\",\"red\",\"blue\",\"blue\",\"blue\",\"red\",\"blue\",\"blue\",\"red\",\"red\",\"red\",\"blue\",\"red\",\"blue\",\"blue\",\"red\",\"red\",\"red\",\"blue\",\"red\",\"blue\",\"blue\",\"blue\",\"red\",\"blue\",\"red\",\"red\",\"red\",\"red\",\"red\",\"red\",\"blue\",\"red\",\"blue\",\"blue\",\"blue\",\"red\",\"blue\",\"red\",\"red\",\"blue\",\"blue\",\"red\",\"red\",\"blue\",\"red\",\"blue\",\"red\",\"red\",\"blue\",\"red\",\"red\",\"blue\",\"red\",\"red\",\"red\",\"blue\",\"blue\",\"blue\",\"red\",\"blue\",\"blue\",\"blue\",\"red\",\"blue\",\"red\",\"red\",\"blue\",\"red\",\"blue\",\"blue\",\"red\",\"blue\",\"red\",\"blue\",\"blue\",\"red\",\"blue\",\"blue\",\"red\",\"blue\",\"blue\",\"blue\",\"red\",\"red\",\"blue\",\"blue\",\"red\",\"blue\",\"red\",\"red\",\"red\",\"blue\",\"blue\",\"blue\",\"red\",\"blue\",\"blue\",\"blue\",\"red\",\"blue\",\"blue\",\"blue\",\"blue\",\"blue\",\"red\",\"blue\",\"blue\",\"red\",\"red\",\"blue\",\"red\",\"red\",\"red\",\"blue\",\"blue\",\"blue\",\"red\",\"blue\",\"blue\",\"blue\",\"red\",\"red\",\"red\",\"red\",\"red\",\"blue\",\"blue\",\"red\",\"blue\",\"red\",\"blue\",\"blue\",\"blue\",\"red\",\"red\",\"red\",\"blue\",\"blue\",\"red\",\"red\",\"blue\",\"red\",\"blue\",\"blue\",\"red\",\"blue\",\"blue\",\"red\",\"red\",\"red\",\"red\",\"red\",\"red\",\"blue\",\"red\",\"red\",\"blue\",\"blue\",\"red\",\"blue\",\"blue\",\"blue\",\"red\",\"blue\",\"blue\",\"blue\",\"blue\",\"blue\",\"red\",\"red\",\"red\",\"red\",\"red\",\"red\",\"blue\",\"blue\",\"red\",\"red\",\"red\",\"blue\",\"red\",\"blue\",\"blue\",\"red\",\"blue\",\"blue\",\"red\",\"blue\",\"red\",\"red\",\"blue\",\"red\",\"red\",\"blue\",\"blue\",\"blue\",\"red\",\"red\",\"red\",\"blue\",\"blue\",\"red\",\"blue\",\"blue\",\"blue\",\"red\",\"red\",\"red\",\"blue\",\"red\",\"red\",\"red\",\"blue\",\"blue\",\"red\",\"blue\",\"blue\",\"blue\",\"blue\",\"blue\",\"blue\",\"blue\",\"blue\",\"blue\",\"red\",\"blue\",\"red\",\"red\",\"blue\",\"blue\",\"red\",\"red\",\"blue\",\"blue\",\"blue\",\"red\"],\"x\":{\"__ndarray__\":\"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\",\"dtype\":\"float64\",\"order\":\"little\",\"shape\":[1280]},\"y\":{\"__ndarray__\":\"/ezorHMaMsAPbwLSlFjpv/zuuJfFUaS/1LJJTYhE6z/pAa4be10qwH/c22YGHqa/rFGKXanfHcDNkDh3eXEdwNlNmQs/VTfAW3UeTAJM9T8a6yfhM+dDQP7nYRuQrek/PH0Bw7cfHcAjFh3Q8PD8P3T5vnPueyjAUZMT84qAHcBhdbjykaojwC9D5KOAvRJAKpNhqeDnJ8DLmXPnLyssQEumhshWGTBABuk3IwH7IsDQB9n6qqcLwP5HSclTpjRANJWNPitt7r/SdViW5AkdQPRxxsMieRbA5afb1v8y9j8/r4q1By8YwBC91v8XJARAUVRhPt8m4L+NCq0kybwwwF/KJ+jbciZA1K0xzIAeI8ADh3z6tu4UwD9wxGijNCHA9YfqGgKZC8Cz9Y3J660awJOXgvsy+xFAHbeWZn40rb/dD3lRYZ8oQC5uTPgeFhNAgFHlU6VfLECPGCWO5ychwC92JUafQyhAsx+hPV/qEkCgB54TwLbzP8Wg3Qvz2hnAHU+9ujeWD0BSOzVHNywowHfkfC5tMSdAOMcDjCdYGsDjJBV1dngVwAoBVH5tTOe/UW9N6rw1BUD7z468kgrZP47Tkb7p0BLAgKL41aExB8B64cOcPUv6v4IUirTfBRnAl66nyuIts79rArnv8hO4v3M9WiiedC7AkmbKGMvSE8BJ/bV9TcckwCHKH2178xZA3h/PuyRWH8AiZmyITgkgQOQ+25f/uJi/IXm52vOQHsALC97bVMEpwPEK5fotPiXA9fQKW4UPIMDkbDchc4ocQMXDs2iboTDAiBivd+7R+T/CWNhLzMfKvw3qH8ohykBAasUOjJQt+r8mvFaIBKI4wMAsHqknkP8/jEpROToRMMAv0ecB45wGwJmBEtTQlPC/hEy820ufA0AF8NJvA5IfwLDFpoAwiAbACgbPhVgcGsCCBprHHx8qQCVDkM54cCDADbBqCN0nGcCgBKBbIscWwAOHfPq27hTAp5wvBmEcC8AyUFz3yiwqwJNfXYtUVgzA6rvzZqK2MUCDazuBgYEWwCjV51DnsBzAs77bhFGNCsDnPCPD99LxP/M2XzGWmBHA1+A49e5NDEAIpjuhDff1P9Me7FYHyBtAYO1UU7VSKsB77RGJCpJDQNXqpAIrDSLAH5mJ5iHAD8D9GQy1oG4iwGsu7dhJoBpAxlb14Gm6IMAA0Gzt4rXkP2vX5PgG4jXAg8JepCjMMEA7dtygnEchwLM7APdQF+2/7HEF5L5TU0D2804mewLrP7aJPUb3t+g/+zE6HUUO279HaJJHvlUxwN8ZcgHADRXAhDpB2JfdKkDgS4YLgschwNaEe0guBjRAi1iq4olsCcDlOEHb0RgjQBuq+GNzpuy/YyhVtOIuDMCgxswyY6AQwH846n5LNhzA4DRIpJJyE0DCtcskLEovwF7P1r8SMQPATYAM6cgq1r8TfWKV/sITwNMq7Nhkg/+/pXQ7k0BvLEARnnIWwgkOQHd98JBdUgLAt94XB+lOO8A0ZnIChJMwQHc7cZv8kNK/YmGke2vE7r/tIIbUuSf7P/cD/8RwOBbABFatWdCbIUD2pfVAAV0rQMDAiAYSXPe/x3BDQIi4RkDLeiXtHH0VwGnSQL8VIBtADOWwufwqREBzdwjzf7gDwGU1I0GNDzTAcF9bpRWJPsDSwYstSvQEwKEyiUd44S9AemikM1CEDcC70HKbrG8gQAdSbo0+vxRAe2KRJHgMMMBBzk3Z87gwQMvnoPXrmRZAEcymKYbOIsCCfSQAL7YbwGXL/IlDXSNA8K0Smt8pQUCsTHm6lfgIwANwWngAxhbAr74pvq0fHMCTzGYwszcHwAOHfPq27hTAPgfIlmbqKcCSWYYlmQ4zwGw4XfF1ayNA1tB01MZuHcDpzXFAf+wbwG8NkdX8LBjAh3RTN7gnEMA3sZ9B4rIQwOfu5gqzOyFA44Ax7kavHcBnpITVmvT7v/R9SRhiFRFAvQs+4+7mS0AeojLiodscwHic+9BPMxPAVaaunazvFMD0P9gwyXMpQH3NlycndQBAf98nkdnkIEAggv3clcAewAD35B5Eeh1AryPfb3P3I8Chsve+/TU3wObNAtgTOw1A6Baq8yCsIcADh3z6tu4UwBPPstaH6da/Gn1wyVYmM8AtAHGcuncQwKLMWxE2ghHAucs/LsjIFUDS+/6nJqMsQJLfkAlwlyPA4wEwK1yoM8CjyV3nE0MkwJgzsAU2LypA+l0uXKUgIcADh3z6tu4UwGUiUnQBkDtADPL3Qx6OJ0AehanBjEPiv9kzMPhxUS1AXkH7SVgGGMA1eTY73QwrwEDhBW6L5klA7fl0thjKKcBQn9PQ7HwlQLnT3SUn0xxAraX0hluiQECdDjZ2r6AYwNkbWMcuwTJAH0hinuPhEUCqZdkGggUCQOvC4zLHXUZArmQRngxfD8BD8K9VOCHkvy1sfegchBjAiv7m6pMYIcAK4hTkXAw1QOf6vGEJ3a4/55fwwQ8IJsCm9ypn4XAEQF8HZnz82DDApg/NIE43IMDP26/Q9vdgv7G/EK+TmhLAiuvEntZHQkDGbWJbdnA1QND096WMOxLAocN14vskIMB3nJJ9wZf8P9pvuRpwlxNAldufqQMtIkAlJ4YSIXMSwB6xUomKQTbACLE3khT97D9RgbcbrKskwGopcO5Xnh7A3murTyYgNsDH5Lnu7GcFwCzMhcMMpiJARr5s0Ws1NMDizIzjCBEnwDLCuh7/QRPArZVoXUG6HcCfVKZePq8+wCM1wn6tLNY/u2yQksc48r8jLbjN8w0UwDZR2VSrGCjAaaAxNt2pJUBW4HxrUusnQIjjZWijoSLA8PJusC2YTUAqah942VgdwPaZP8UoTQJANxSgzQzyI8BFBYtiBVogwCuiXtTgvsE/qJ7WU0FwIMA2gcDVMt8PwCoh4TnWLB3A5LetqI5mHMBTOlEu0qoXwF/0A+TGtypApcHvAblbM8Aa/d3e8rYowAha3a9yQBZAkv+VwqMf9z/XniDzkdEVQOZMdYN3ALO/TujumesaGcCIpeoKWRErwGoBYsSpnNK/zaBa5YLBFEAt/ltQmALsP0JW6K/GlBLAxQ+vpk+PGMA179GK3LghwN6NkvtBmCZAA616s1eAKMA+NxIsmvJBQLJofoGOFUFAeCPK0C49KUA6jbWFYMA+QCHlrtlLQiPASNXAG8uM/L8We3rHNZz6P6YR0aX4OBbA4VHKCd9lKMC/KYRJOBX3PwmiAnoN0gVATwXoz6/qEcALXSBCmQEzQLFM1qka8jLA0EOfiIbKHsCiRVx5BqoUwE3jVxpppxPA/5rYWsxGG8BmYCzrrs4aQAoCOHqHCOO/3Z1byTWZFEDVOAMytJ3xP1hqmynBBBZACOwe95u9DsAT/xbuSWspwGd529gO9RDA0uw27EjR9D8Da7hBjasKwCgCPRF8nBDAA4d8+rbuFMCi5/vQDgsBQPCuQWG12STAxM+xYCSxIsDfgNv7xc0oQFYsRkMPvSzAh1febErjJMDeCjtKtq7kPyRhhAVsAiDAYx6IRQMnHED8flTwQuISwKnSNwusyyLANlFr1Kf5IsCp/SLfSEwdwGXPEc25IsK/bKgkA2NOJsDVMp0Ayf+ovzaIb2oESfi/gKofO1izJ8BOJuQsxZogQGDf2MSDuiPAi1gvUdCRIsCRVo0pbwYqQMauOEYv7TpA9ssAkE7NSUCJQy37TBEtwLIR6tLC6xJA1ztSW4usLcAei4PtogIhwCL0m6kIgANAtDZE7RRCJcBk3rIkbikyQGzcM1NOcBVAzAFSsGF+z78LxEg6VjwbwNW6Z6DcLxfAui4rp/WNEMCk02oyDGX9P/M2/pFZ5xPAKL5l4DbgIUA7ZOFmNAATwBAAmLL5kQLATWBetNEVIsCI4i3CsLQGwEmz68ecwOq/GLUIzdZiDMDMsdBph/gwQMfwIELHZiDAW9JCMEYwGUAR0PFmYzQ1QCsrC2Qwr9C/yyCB9TGyF8A8GOPX1mMlQCxAZILcwiNAM2qpj1wBNkCKjVY5ABAgQOSbRODbNCLA7vsf9oAaGMDud8QgVkz1v4mD0aRj/CVAf1dFDlNeG8A368QKL8cTwPQA2wWNeSLA7YEesdh9MMCyFI7wDKAIQFjObPULMyLAh1MRI6LPJcCO5LiL5FM5wCGCvcn5BivAkV/wbDk4AECGatfNmsMoQEFQR1jIOhZAGzr0zAga+D+eaViQZzoFQMColUWaBf6/rlJMomIuJMCL4sjmfqYdQK9gF34JIOI/HnIMdpQFMEDk2CZTEfg8QNOkKWjLiRDAPBYn8RicGMD6/jYybnQiQBB+CSmPORpAzN0qk7beKsALICb+REsgQIJ9JAAvthvAHpPt9fpfIUCErk5QXg8twOuYB1P6UQtA3Z3X4A3hEkBLpIx0VYMYwIMlefnh0zZAArVlQx0JLMDhkSikShc4wKR2MhFKJvC/0K5pDS0LKcCBuDIJ8HAFwBGQ5fsY4RJAmUsB1peRI8BSYV0pi2P9PzME5F1JagzAbSTR31Qa6L9G52T2v64oQDYOIyDz7RtABOaf7dywMcAQa9rfMrYDQIAFOPJPfSXAbYTPK+cqFECXq62GnigVQP15qFRGfQxAcHtm095QNsDcXZ3OWlciQEMcISxfJhvA9YbLjRcIFcC7IWZWjykqQJyXZi0MSxrAf/MV0zYGL0Ce/pT+5IsowDa+DN4IFiXAehusFhFeI8BtstYd9CMUwLscw+b7QyXAnpYqPHIL+L8JuPEJpllAQE/Hv5ePPSPAl8XQzGtX9D//HuiDKWL5P52rHPPWY+a/eZr0BAlXLcD6lOicDCErwAHnE5Qcy/y/8n18yO1SEsBIuFr+bhgAwMNAy5TrEjTAoHCQuwk53T9ZF7aKqxc+QCxg0hBR0TFAeexv9NqHHcAn1xt0lTg1QIYysH4YvhXA45cR8y2z8z/TKWNv1clKQDXGXy4meSrAWiyUezyxIkCbIPguz/AVwMecH+NmOkJAeuS4/hj2OsDzEXf5JkQhwKJkUh5fYBnAmeArSPpaHkCXngDtkSUzwFbtkNubXDDAYFfItFArLsBzRndOcYwOQI9DTzSU8gXAb8KiUcGgLMC+jeRqztv+P7sCzTiMRCDAq4dErZ+EB8AYzb1CvBsRwMbRdPuqkRXAKQ+ONIDIE0CFXRpwKlYBwKj8VTuncw7Aav3jfA+jCUAJevuD9p8fwFfmxWVun/e/JvDww7cEI8BtinPBZ3cUwAU/FAE5RD9Aw4fFaT7aGcAtggYJA1orQNDSVJHuZ/2/S5hqEd43IsBZrsh77vkAQJf4tbOvFyDA3dgcR/WCBUAxjZZ7UD0kQEx0VhCYqShAsSMkXh8t+j/W96Zrib0VwAw6aSY2bCHA3wDknQuU+z/QzXlFiLYkwDpbdpXFoSHA9BCt5PY7NEDIIIaHz0ESwArylG3z2AlA+WhNZ+lWKsBJaIUaagokQDjYVL25Kc8/PY2tvoK9GED185mzHC0rQG7Ymn7G5BnAZjZbQJELIcAN1jTCE5wwwFXZKtlguBPAnbbN1rFqBkBDC46E9JAywAqqrPrx6vC/ny8zcrRhS0B+E2ThyWEVwPZJ911iAzDA10nEATwFMEBH2e82Vj8GwMN8uMB60A/AW9U9dM97KsBvLOQIa9A0QDBRZGcxXAlAbAq2AB1+DkD40lH01kkwwCJJOKcuMBjAYQzx7yolKkBNpe/qCDogwHuysI5CjjNAkbygAhQdG8AHmBE2eyXXP1BB4y0N9ytA2QUhlTWh8z+AfawxMe7iP6/5Sh6Swx1A/bFZ5p0fxb+dG6/0IE4EQGu9gkwAmv2/C6OUZhZCEcDcLWp5qOc3QCCAG2foMzLAF8x5rXcv5L+Pr6vb2/wwQCvB2XefnCjAX7l4/6AfEECD4Z+1exYzwC+K4DWLuT5AegNyp6fcFcDZN8gsSIIiQJv7rvecnyXAdjcrAbnnJMB0iPYjMlQdQDWDFkLowQlA5xFTnaeYH0ByZp3Uk9o1wMcwUC0l9BHAAN9mYBg0DsCHr3vecP8PQIiIgYoijxnAylC5uDUwI8Cm1RegipwpQAVAf5T5iyZA4U/lCTaXIUCCTLyR3WsTwD+h4xbjYxNA6afIKgVDJMDcepIW144lwEebLwQPCxLAw6nDdg8RG8DHK3Loi0YMwDHnXWz7/CrAaiP2uvyXM0DukvP9PVABQFmkQX8vAfG/0KMWn+CJEUCTLMsWE6sSwMeZI+S/wifAX+JOjTprJMBHlC4sXTApQCmZDuosJDRAxvekaBzrRkB+rVgzvNglQAeDR29L2inARNaAhYf1+79/mUFhK3MjwHHb6qQm5B7AuSUGXdog8L+nlczhv3AtQDl0Zme/cShAzYZeKk3OIkBX7y7AxWgEQJIO4POgpRzAHG8tFXZsJcAwd/UxicUuwM6kpr6ARiLAUa1g+/kDGMD8QBsZJKAcwCLCsP49thTA/wwGAtteBMABITSdkf8YwHSIocRxXDDAEOpUiSf3FEC8VMMfwCsDwOekh5hfhBHAWtIYgkV/IUC62Xf1bxkbwLFahQm7mfk/LzWRtLR45r/0tmWyWJgmwB0DW8DV4iNAEEHDeR7UDcBS8sT+1nUVQB5nvslBVQdAdUiCMixHA8BX14DEXewiwJQQoUGuCyXA399VyQCTBcCPD4iMZ5YVwMTYRKUdjivAxTfXZxv8F0B2NQTCnlgpQDSmPzC9ZARABGHmA1dpJMDZdRXC4tH/v47GVm4LdDPAiO3sfuA2LsDVAfoXXQYOwLtSPzcMsSRAiOLje2uG/j9h4jdtphkfwBtUkb9nRCPALOHIiho/BUAjCeEsKiUMQCcluoTxsDHAbcPpjseVI0AqCpog0FgmwFDi7kGUri5Aqqr3gTvHXkC36vqIOeI1wEG4Cs7VSyzACmLDTbDPN8DkcBfSN3f4v5UPXvgcTxjA/q68zahe478hN5MLhg88QAocXeZgKx1AEKCqzSHhIcBD7Caep88TwF4ghU1y8RnAtNMieUo8LsDmJpt4NloXwG8Oi3hIwRXAyYi0oHuPE0AxNCC3/ZIhwASgzRdXNjBARgBL7TkKMsBQrmYxW8EpwFLNWGsTmTBAhmKzb6cK1794UzKXRhgywGKupLuzZCDAcHPcYn+hGsBW5jBssdMxwERBY8QTECLAibCigTRUC0AdACOSNYAiwPhgyUDTNQ3AnPaS2MfSXED1sOh+kYkGwADc/4hS7CZA+oEvm62EMECQYdPQ7G0wwPu8qp5AhCjA9CVzb1+1+7+3Ls3DtSkdwAhhDxVW9uq/CHbUku1PIED2PPLV9sEbwPeK+2O6KyLAZxwwIyIYEMA9iwyr6bFDQAOHfPq27hTAPvu9sUJpLcCHE4mxyPErwLwN7rHv8SzATUAFklH29T90iQ2LW1HxP+pLSJrTbCPAUrjtyUiSJsCUeuOSAcEawGtnC/CjbwNAURNeCLPmMcD1nd6ivbQiwAOHfPq27hTA1AcJff5HNECSR70+K3oRwN+Rueau/gBAvF9+Ow5TM0DbYp0iHYwTQIwAvbZzXRFAqdIbZbAvHUD6yFso5mMowB+E5yp6BijAQ9Gvttf0EsBrFyk+H7TmP4jW2Rku6i7A6GS3hUcMC0Db8ZF8n2ATwL0sS5dKbSnACQGArwltMkA6DNQRU5UpQMnwgeEU+ALAU4RGpp4DNUA94I9EyWogwDhMrJzJxQbAH7vUzypuF8DRjpLOz6wcwAOHfPq27hTAtene/Yg09L+n0P+XTnI2QJiK0T/MQhjA76bPa2z9JMBgjXJp67MnwH914CZvrTnAUHhM7TbEBUDTv6qQByQJwIefuUJkOSbAznagI1AcEEDFH/WehzEmwMxzhdOP+yLAfWaHQvd96b/k4unfb1cxQJxtwCtFeOC/bIqgqkURL0CkhmqtrRIawPeZY66PbxvAdljP3Y6fIMADh3z6tu4UwARViRPQsb2/Q/5/mAZfFMALdNqflUjnvzZObBl7BS3AHYjM1BPuJEBmlsINrwE5QFLmXPa3yMu/uXHQtMQGN0CyIDBGlA8PwHmS1EhL5CXAywpWcvTxFkAib6Lc30jqvxm93+PQbCbAyVR8lDDsI8CFM7+EPgkXwMvNPyYM0BNAg73GXX/5HsD+lKCjuDkpQNaWm9qe1QPA5AC0wh4t77/Y+/hLIPTwv7/94kHZ/sM/VyjizM9DIkD1D1u8jdUqwEx+so/QwR3A8RM91ZxTGkAmZ9v6ZBMvwOnW8vqoHSxAoFGcKaN3lT/JhqJTTmvpP3IEBjbbFSjA8WUNkOK0GsA8Tb4M/fY+QFYHfzG7jilAWa5XwzWpE0CWmfuV/dgLwJqDzw/HRx/Au2KiwvloPUB7vARe3R8WwEjbK2SOQyfAx1NvFo7vAMAWKqPEkRISwLnIc4zQbSbA6oDCqsODDsA2u2BUFdT/v7clYLTNrQBA93imUPfrJMAv1m9pUso3QCJXVLd96hFA8GJEceMcGUB+PyQbYwf7v1CkfJ852jtAs1oRtSOqoz9xRgIWjWUkwPw7fL8e2ypArE6EHvpDFsCTdcQcg7wmwF3tl0ZXqxzAW9hjqJZdJMBnDN8lZgMWwBNcPxpyBSzAM2ev4th1OkBEDOCulY4iwH6HrlqwjC1AzsZJ80vLE0DPtEZvjtAWwIQj1qzGpSRADGbeVw+l/D+MCJgPrzsgwMZgbIULQc+/hfPsCZXgBMADh3z6tu4UwN80Nzx2qihAY6rnL19ZIcAGvdPowwAxwL7F/mSK4ytA4DSeNlxtMUASPwWQ5I8gwHC5q61gTy3AHVTAo+KiCUAVWlJn9zMDQJvY/DyMXf8/yAWGgFi7GUD1oo2j70MSwGhxG40tszXAHEOISiI1IUBTxzL6YJhXQASo2unwHxXAz2yO3GViHsDvd4z2iRwIwOft/y7XEhvAvl8NehnrE0DOaxKEp2MkwDc6/TUHDClARhqkSAGNHUBEZFiz0YoywNQ97yl8H/e/20a4OOXKJcCxVgSvoQAEQNXiOCm9TPi/DEo6mrLnHcB9ihFBCHYfwHVAJQEQ3RxAMVnEJ7ESEkD3R4NlQNcgwK4AiACGaCdAxonXGNJRLUDa/n0BeC4lQJ25PM7gfytAz0a0eUW5CcCiZiX+lb4IwMroFM0WLwzAf0xuMo6RL8CwXAu83Y8ewENlMclPmwDAFUpXB/oYMEBswLIzEEMkwEUuyQdKWTFAodxyfGewQUBtcl9PLU0mwKmQCkFyuiLA1xQ2exf0I0A70Hn37efsv5KedQnjKBdAg4DU6aYsKMAITskd7cjSv16OLc9JWCVAI68PdnQvIkDsqcKIv27wv03jVxpppxPAnfG+amM6DcCrS4VlJV4MwNEcGsgylOq/bXRjFIKzKEBIl+HAR0njv8wHYYjY7SXAw74CVUEjM8AeGI+4ADcXwHRlLgbwTSLARfHV/p92J8DNlEHIorUeQPWk+0fUQtk//lHTm0+hI0BWCY1wMH8YwOfevRvOSgHAy4nNoel8HcCIFHPxqLQqwGtOCtghhRLAXM7KBmUiAcAXztCC5JorQO4fukaxjhNAbH1QpkHdEcB3Tsc/pVcLQJdrox/LAAbAgj6SFMtewT8Dh3z6tu4UwN+2Qsww/SHAT9Z6fehsK8B8wAb30b0VwAC3dfcH/BHAxHOk+uC7KMBh8Y7U3vIpwCz3mNpiYh7A4dZv0z70M0AI1rmma+4TwH0dfmjkLyhAoDjBhZ8WGsCLCLHeUngGwD/7aCQDkt2/dvZtCxR7EkBh6vUqdkkTwLuN7xyUbCFAF0L2nOOqAcCmqontZR4lwD7E6llKXCnAnKqqIrLbKEAFJDIQdBIdQI7Ocl+K/yVAY8eAoZp7NUCab5W6n24PwPXn0MhS3TBADTrMgpTqH8Bhj9xFbyIxQFFUYT7fJuC/OBUU8IPqLcAmYWSZNHslQMvk3otNDSvAAVazvCkcMsBl0OzfB0gmwK87PmG+OhzAqdw3TDWfLMDtHGv3LB72vzCCEwwSqzBABOnwnngSEMCXeXczgA7IPxZ6oZWFdTLAdqDSmktDIECDXsutaWkUwI2xd8t49xNAv4hBmSgmBECdETPDRPEzwJu/b1tlcyHAGLbqF4nhDkADTV2ovaELwPdNSVIDngXAg//ZkhcwQ0CtF+XQTRRDQLlW0xokGfe/CYUKHhmjMMBe0EVDwaNiQBsQZrYS1gjA5hvf4LEcE0Db8sUP3REnwFVT5m4tkzJApEGCv6SzJcCSIPTy1HIKwMR22oB1dh/AbEhBcEIMNsD95Pn/FGAhQAu6XP1F1BPArBc8YbnQ979qTKX2T9cgwNLBiy1K9ATASt4UpyaaQUDLh8qGFfQUwNzjk1wIpTNAM5dRZTYXF8AOakWuXWsHwDqDQbeXKg1AT2oE8HqGL8CvhvYkgZMQwJRKNAVohynA6f20u/hq2j/ATENE530uwEntyBBEvTLAyq7Z8VoYK8DpFbtsWSU4wCxFJg9Yt/y/OAo34fuayL/cKXypxwciwAOHfPq27hTAwO5hn71KGkCnQ5CbEsobwJNkqTVa6RDAo021aXIUIUC6ZSL3XHEKwA8gPJjogAvAsxHP92hiAEBo0fGXEWI5QNWbvas6Bw3AtR0VIiYVE0A7a1Gcq00EwComCp51FPG/JAa+gi1S+b/hTkjZfYkiwL9YcBzNmxdAEHz2NUFyG8DqLqxMwzf2v0k0afbCyRtA5RPmj+UcDcD3jIXMuJEbwNbUMS4o/yXAA2aHjyDvF0CsKaQOOlQswJHMLvJeDSnARfj9GlcuBEB7QFkw3BwXwKQlM9MTZBvAtIcWomH9NkDpoZNeRrUHwKnkBPtHMRRASoOPFvhIJsAyCTcwVMkSwBb0mmqE3x3AeUSiV4PaNECDB/Q0+IAgwEYwwSy3RiHADjUbQz5W1T9GUbkLZgcTQCA41kH4VS3A+bx6J4YWFMBzxtAg5bL+P+USkXmb4RFALHHP2FJAIcCuLN0PeJ0kwMLZPTh4VhPAKpWp+m0EFsCh+dE9C7I6QJ/CBimJVjNATqPRIB0uNkB1va+m81cRQFVfuzxtdivAeYBPxpoJM8DV+9gjHQoewMAghbrQVy1AxuBp/ByoAEA2Mxt8Vc0lQHsNs+ZUVQnAaEWxa849I0CG390vHSIyQGbCHZOJGcy/b+U9xr4rIsA037lOFjAZwBkS3UjLlS9A7UODlZZN1D+GjJs2phkVwH+PV5b9PCfAFKWgmQGcJcDAdInwW6X5P2pjfck/7SDAhhc1N8w6MEDNJurxhssiwDibMbdUkitA1F/vPbEiLcAractn+CEhwBQIhLeq+xDAGfDSgB2sMcCXg3zwn7EmQDD2XMXhhwfAbHn+YGoqNsADh3z6tu4UwNxpW5x1mxXAP7cWmbzeJMDyJjIOOacYwAP/hIUVIyBAv9Z47o/UGMDSupZ4wgAxwKz0eoYvafS/EVoTZbCwGUBon96l/QXtvymZWuCqySnAMV3hK6eSGsDe1X0DTM7wv7VEq7iaOR7A/9xy/AvLD8BxWzVfYFQ8QECXfyJDUQLA+RQUkrzGHUC1JutbEc0ZwC9ZdyoXpwxAS9Fzc7IeK0A3zdo6KDIowLG0nG156Py/JypPViRGBsB1PTHEsBcSwDWK0qU8MhJAApfyyH02GUDHaAEil1QmwB6g4Dm1RjLAE6dc7RsqEMC8FWDSK1YCwLBTzzLvphtAgeImDY8R3T8ylU0oiI/Sv8WULfze1yHADLDJwP5yA8CPXXw9IGMhwISdg3IuS70/+7bxmEipGEBZaUs3OvIyQDHTYkxjiyTA39oF4S7RFkDCjR+w+M4bQCTexMSE6DhAP/SUoMHYIUB5A/8lu28RwJuD6dsHJBbAuxUKKjGWKsDGcMfOiMUPwJUFjwxzScY/055EfuVOGMBA2ccbkMkTwI5isGORjSZA/uWSuNRfIUBIzojQKK8WwFUnNDfcbCLAOesiWXGHIcBMgPGpN5ftP0iozFGLLyDAbLEb3konKsDF7SJ+x2FUQHe+hrq5fhlAkuP0NjWqKkCAATi59OMkwDP1JTYIOCNAA/2mOfaDGcCQxKQk1yoMQB7q/zDv0x7APjfcqXfr779wJ1P1RlgnwAu4qee/GilAFtjrKID+W0D5npug7cbgv9wbEQ/CwDTAobBbcETVA8CszQEp5VIDQCKibVYetxlA5cYkrTWpU0Af1i2XCa8mwIltvaT47fy/0MOjiEnM479GJRxfsmf3P4XNa7hFmiZApFWWbWEIE8BEI2TObQURwBQ7YGkIcyXAJeYqvdMMIkByFOtZKyAzQLQX6r+4KBHATU1y2aqQKMBbZLYd1tHqvzVGYXAviQtADTrMgpTqH8Ao+pyr2noAwJruJAQJei/AB8SqMIyBx799bMyvfM4NQKcY9Gg6Og7A7jmJdGcSEcAlg4HduUIqQO67GOYCCiHAiePMGNC0GsAj2GJALUY+QIuMkqVeKO+/cjxDbkrIIkCTkh9wWxDcP9XfWh56ks6/3qi1cu/90T8Dh3z6tu4UwB3jH2IgPCTAVCXqGDbGJcDaAwtfm7EgQGECJuXXdB5AuTZgVKN/M8Dg0iqIFPwoQLqJwFZr7SJAbUia8wGvIEAeA0tBHb4twJMYoAQ++BbAKmFtOhopIMB0hWGorGMiwOjUbwX1yBfAgeQiR+k4WUDAe3PlhnEwwKwVZXnVsd2/QFJk7QZKJMBK7ki2R5wkwCLdKqJDSThA/n8sBZo4LsDYrdKPyWIPQEBllSe+a/c/3L8mE+OXoT9sIyL4GoUkQGqdjAZtWSTA5xhI1qZvHcC+DP4O3m4VwH187Wjm4x3AAly4nNP4LkBz9uAD/XokwGXHY2nCcw9AvCgC2a8F6j/ZbrExK4vkP7F2ZQzozAHAUmk7oEb3CUAwVZlMapMYwG4KnkIZBiZAuaF866JfAMCobQnITg7jP1WNXxd10BzAVJxwOn0MA0CvQqbV934kQPqoXJAq9jlAA4Wi78AEEcD5VSO3uBccQJfj0F6KzxvAGNRuSxqVEkAfyq9wK2w9wKwZj+7nQhrAQgfZShxb/r9rZVqpQRQYQLy9j5TwjOG/qGpmeoztGMASeetG9o0jwFhAdxsHsuy/8LWntWn1L0ApfPB0JPQgwFO4EGPIMyfAROr7AMvIFkD3g8rrw4ETwPjysRDLyjjAC1dafkcSH0D2Jxzp4A4oQLmtb6fEoxPAN/zADYVHFMDTvvpcV6oTwFNVNbi6uTdAamEf3/0OQUARjp9dfsbav5TclmVMXB9A/l+neIZ8IcC3RS/czO6zv10fzmyD+vc/LfYioVwSJ0CdfYE6FuAfwGpyMMZp9SXAV4HDfj8qKsBIXUvHhaUlwFUIAKVuKse/Jx7JZaE5GcABAqqtCPJAQD29yaNUTiNA7ozvSKkDI0AwGuaPJpoBwC+tM4dVpiVADY0kZEeQKsCKXWMrw2sVwEgyOlJraCPAUXLMxM9iEMD77yOYQxMVwLX1DpLgSy9AKfQ0X8iSN8DL6lgLCfQnQJ/hFRaGqADAar+/8KXtNEAC2sUooGswQIUXD3HV6ynAMHVqHsoD9L/cp6XozKUUwDJU6y+EsR1ApSFby3v7EsAGRIPr/JIvwA==\",\"dtype\":\"float64\",\"order\":\"little\",\"shape\":[1280]}},\"selected\":{\"id\":\"1051\"},\"selection_policy\":{\"id\":\"1052\"}},\"id\":\"1003\",\"type\":\"ColumnDataSource\"}],\"root_ids\":[\"1004\"]},\"title\":\"Bokeh Application\",\"version\":\"2.3.3\"}};\n",
       "  var render_items = [{\"docid\":\"02baa931-808e-4e2b-8563-3777c085df2e\",\"root_ids\":[\"1004\"],\"roots\":{\"1004\":\"075db255-ad44-4bf2-b777-0d77e666abfb\"}}];\n",
       "  root.Bokeh.embed.embed_items_notebook(docs_json, render_items);\n",
       "\n",
       "  }\n",
       "  if (root.Bokeh !== undefined) {\n",
       "    embed_document(root);\n",
       "  } else {\n",
       "    var attempts = 0;\n",
       "    var timer = setInterval(function(root) {\n",
       "      if (root.Bokeh !== undefined) {\n",
       "        clearInterval(timer);\n",
       "        embed_document(root);\n",
       "      } else {\n",
       "        attempts++;\n",
       "        if (attempts > 100) {\n",
       "          clearInterval(timer);\n",
       "          console.log(\"Bokeh: ERROR: Unable to run BokehJS code because BokehJS library is missing\");\n",
       "        }\n",
       "      }\n",
       "    }, 10, root)\n",
       "  }\n",
       "})(window);"
      ],
      "application/vnd.bokehjs_exec.v0+json": ""
     },
     "metadata": {
      "application/vnd.bokehjs_exec.v0+json": {
       "id": "1004"
      }
     },
     "output_type": "display_data"
    },
    {
     "data": {
      "text/html": [
       "<div style=\"display: table;\"><div style=\"display: table-row;\"><div style=\"display: table-cell;\"><b title=\"bokeh.plotting.figure.Figure\">Figure</b>(</div><div style=\"display: table-cell;\">id&nbsp;=&nbsp;'1004', <span id=\"1109\" style=\"cursor: pointer;\">&hellip;)</span></div></div><div class=\"1108\" style=\"display: none;\"><div style=\"display: table-cell;\"></div><div style=\"display: table-cell;\">above&nbsp;=&nbsp;[],</div></div><div class=\"1108\" style=\"display: none;\"><div style=\"display: table-cell;\"></div><div style=\"display: table-cell;\">align&nbsp;=&nbsp;'start',</div></div><div class=\"1108\" style=\"display: none;\"><div style=\"display: table-cell;\"></div><div style=\"display: table-cell;\">aspect_ratio&nbsp;=&nbsp;None,</div></div><div class=\"1108\" style=\"display: none;\"><div style=\"display: table-cell;\"></div><div style=\"display: table-cell;\">aspect_scale&nbsp;=&nbsp;1,</div></div><div class=\"1108\" style=\"display: none;\"><div style=\"display: table-cell;\"></div><div style=\"display: table-cell;\">background&nbsp;=&nbsp;None,</div></div><div class=\"1108\" style=\"display: none;\"><div style=\"display: table-cell;\"></div><div style=\"display: table-cell;\">background_fill_alpha&nbsp;=&nbsp;1.0,</div></div><div class=\"1108\" style=\"display: none;\"><div style=\"display: table-cell;\"></div><div style=\"display: table-cell;\">background_fill_color&nbsp;=&nbsp;'#ffffff',</div></div><div class=\"1108\" style=\"display: none;\"><div style=\"display: table-cell;\"></div><div style=\"display: table-cell;\">below&nbsp;=&nbsp;[LinearAxis(id='1013', ...)],</div></div><div class=\"1108\" style=\"display: none;\"><div style=\"display: table-cell;\"></div><div style=\"display: table-cell;\">border_fill_alpha&nbsp;=&nbsp;1.0,</div></div><div class=\"1108\" style=\"display: none;\"><div style=\"display: table-cell;\"></div><div style=\"display: table-cell;\">border_fill_color&nbsp;=&nbsp;'#ffffff',</div></div><div class=\"1108\" style=\"display: none;\"><div style=\"display: table-cell;\"></div><div style=\"display: table-cell;\">center&nbsp;=&nbsp;[Grid(id='1016', ...), Grid(id='1020', ...)],</div></div><div class=\"1108\" style=\"display: none;\"><div style=\"display: table-cell;\"></div><div style=\"display: table-cell;\">css_classes&nbsp;=&nbsp;[],</div></div><div class=\"1108\" style=\"display: none;\"><div style=\"display: table-cell;\"></div><div style=\"display: table-cell;\">disabled&nbsp;=&nbsp;False,</div></div><div class=\"1108\" style=\"display: none;\"><div style=\"display: table-cell;\"></div><div style=\"display: table-cell;\">extra_x_ranges&nbsp;=&nbsp;{},</div></div><div class=\"1108\" style=\"display: none;\"><div style=\"display: table-cell;\"></div><div style=\"display: table-cell;\">extra_y_ranges&nbsp;=&nbsp;{},</div></div><div class=\"1108\" style=\"display: none;\"><div style=\"display: table-cell;\"></div><div style=\"display: table-cell;\">frame_height&nbsp;=&nbsp;None,</div></div><div class=\"1108\" style=\"display: none;\"><div style=\"display: table-cell;\"></div><div style=\"display: table-cell;\">frame_width&nbsp;=&nbsp;None,</div></div><div class=\"1108\" style=\"display: none;\"><div style=\"display: table-cell;\"></div><div style=\"display: table-cell;\">height&nbsp;=&nbsp;400,</div></div><div class=\"1108\" style=\"display: none;\"><div style=\"display: table-cell;\"></div><div style=\"display: table-cell;\">height_policy&nbsp;=&nbsp;'auto',</div></div><div class=\"1108\" style=\"display: none;\"><div style=\"display: table-cell;\"></div><div style=\"display: table-cell;\">hidpi&nbsp;=&nbsp;True,</div></div><div class=\"1108\" style=\"display: none;\"><div style=\"display: table-cell;\"></div><div style=\"display: table-cell;\">inner_height&nbsp;=&nbsp;0,</div></div><div class=\"1108\" style=\"display: none;\"><div style=\"display: table-cell;\"></div><div style=\"display: table-cell;\">inner_width&nbsp;=&nbsp;0,</div></div><div class=\"1108\" style=\"display: none;\"><div style=\"display: table-cell;\"></div><div style=\"display: table-cell;\">js_event_callbacks&nbsp;=&nbsp;{},</div></div><div class=\"1108\" style=\"display: none;\"><div style=\"display: table-cell;\"></div><div style=\"display: table-cell;\">js_property_callbacks&nbsp;=&nbsp;{},</div></div><div class=\"1108\" style=\"display: none;\"><div style=\"display: table-cell;\"></div><div style=\"display: table-cell;\">left&nbsp;=&nbsp;[LinearAxis(id='1017', ...)],</div></div><div class=\"1108\" style=\"display: none;\"><div style=\"display: table-cell;\"></div><div style=\"display: table-cell;\">lod_factor&nbsp;=&nbsp;10,</div></div><div class=\"1108\" style=\"display: none;\"><div style=\"display: table-cell;\"></div><div style=\"display: table-cell;\">lod_interval&nbsp;=&nbsp;300,</div></div><div class=\"1108\" style=\"display: none;\"><div style=\"display: table-cell;\"></div><div style=\"display: table-cell;\">lod_threshold&nbsp;=&nbsp;2000,</div></div><div class=\"1108\" style=\"display: none;\"><div style=\"display: table-cell;\"></div><div style=\"display: table-cell;\">lod_timeout&nbsp;=&nbsp;500,</div></div><div class=\"1108\" style=\"display: none;\"><div style=\"display: table-cell;\"></div><div style=\"display: table-cell;\">margin&nbsp;=&nbsp;(0, 0, 0, 0),</div></div><div class=\"1108\" style=\"display: none;\"><div style=\"display: table-cell;\"></div><div style=\"display: table-cell;\">match_aspect&nbsp;=&nbsp;False,</div></div><div class=\"1108\" style=\"display: none;\"><div style=\"display: table-cell;\"></div><div style=\"display: table-cell;\">max_height&nbsp;=&nbsp;None,</div></div><div class=\"1108\" style=\"display: none;\"><div style=\"display: table-cell;\"></div><div style=\"display: table-cell;\">max_width&nbsp;=&nbsp;None,</div></div><div class=\"1108\" style=\"display: none;\"><div style=\"display: table-cell;\"></div><div style=\"display: table-cell;\">min_border&nbsp;=&nbsp;5,</div></div><div class=\"1108\" style=\"display: none;\"><div style=\"display: table-cell;\"></div><div style=\"display: table-cell;\">min_border_bottom&nbsp;=&nbsp;None,</div></div><div class=\"1108\" style=\"display: none;\"><div style=\"display: table-cell;\"></div><div style=\"display: table-cell;\">min_border_left&nbsp;=&nbsp;None,</div></div><div class=\"1108\" style=\"display: none;\"><div style=\"display: table-cell;\"></div><div style=\"display: table-cell;\">min_border_right&nbsp;=&nbsp;None,</div></div><div class=\"1108\" style=\"display: none;\"><div style=\"display: table-cell;\"></div><div style=\"display: table-cell;\">min_border_top&nbsp;=&nbsp;None,</div></div><div class=\"1108\" style=\"display: none;\"><div style=\"display: table-cell;\"></div><div style=\"display: table-cell;\">min_height&nbsp;=&nbsp;None,</div></div><div class=\"1108\" style=\"display: none;\"><div style=\"display: table-cell;\"></div><div style=\"display: table-cell;\">min_width&nbsp;=&nbsp;None,</div></div><div class=\"1108\" style=\"display: none;\"><div style=\"display: table-cell;\"></div><div style=\"display: table-cell;\">name&nbsp;=&nbsp;None,</div></div><div class=\"1108\" style=\"display: none;\"><div style=\"display: table-cell;\"></div><div style=\"display: table-cell;\">outer_height&nbsp;=&nbsp;0,</div></div><div class=\"1108\" style=\"display: none;\"><div style=\"display: table-cell;\"></div><div style=\"display: table-cell;\">outer_width&nbsp;=&nbsp;0,</div></div><div class=\"1108\" style=\"display: none;\"><div style=\"display: table-cell;\"></div><div style=\"display: table-cell;\">outline_line_alpha&nbsp;=&nbsp;1.0,</div></div><div class=\"1108\" style=\"display: none;\"><div style=\"display: table-cell;\"></div><div style=\"display: table-cell;\">outline_line_cap&nbsp;=&nbsp;'butt',</div></div><div class=\"1108\" style=\"display: none;\"><div style=\"display: table-cell;\"></div><div style=\"display: table-cell;\">outline_line_color&nbsp;=&nbsp;'#e5e5e5',</div></div><div class=\"1108\" style=\"display: none;\"><div style=\"display: table-cell;\"></div><div style=\"display: table-cell;\">outline_line_dash&nbsp;=&nbsp;[],</div></div><div class=\"1108\" style=\"display: none;\"><div style=\"display: table-cell;\"></div><div style=\"display: table-cell;\">outline_line_dash_offset&nbsp;=&nbsp;0,</div></div><div class=\"1108\" style=\"display: none;\"><div style=\"display: table-cell;\"></div><div style=\"display: table-cell;\">outline_line_join&nbsp;=&nbsp;'bevel',</div></div><div class=\"1108\" style=\"display: none;\"><div style=\"display: table-cell;\"></div><div style=\"display: table-cell;\">outline_line_width&nbsp;=&nbsp;1,</div></div><div class=\"1108\" style=\"display: none;\"><div style=\"display: table-cell;\"></div><div style=\"display: table-cell;\">output_backend&nbsp;=&nbsp;'canvas',</div></div><div class=\"1108\" style=\"display: none;\"><div style=\"display: table-cell;\"></div><div style=\"display: table-cell;\">renderers&nbsp;=&nbsp;[GlyphRenderer(id='1038', ...)],</div></div><div class=\"1108\" style=\"display: none;\"><div style=\"display: table-cell;\"></div><div style=\"display: table-cell;\">reset_policy&nbsp;=&nbsp;'standard',</div></div><div class=\"1108\" style=\"display: none;\"><div style=\"display: table-cell;\"></div><div style=\"display: table-cell;\">right&nbsp;=&nbsp;[],</div></div><div class=\"1108\" style=\"display: none;\"><div style=\"display: table-cell;\"></div><div style=\"display: table-cell;\">sizing_mode&nbsp;=&nbsp;None,</div></div><div class=\"1108\" style=\"display: none;\"><div style=\"display: table-cell;\"></div><div style=\"display: table-cell;\">subscribed_events&nbsp;=&nbsp;[],</div></div><div class=\"1108\" style=\"display: none;\"><div style=\"display: table-cell;\"></div><div style=\"display: table-cell;\">syncable&nbsp;=&nbsp;True,</div></div><div class=\"1108\" style=\"display: none;\"><div style=\"display: table-cell;\"></div><div style=\"display: table-cell;\">tags&nbsp;=&nbsp;[],</div></div><div class=\"1108\" style=\"display: none;\"><div style=\"display: table-cell;\"></div><div style=\"display: table-cell;\">title&nbsp;=&nbsp;Title(id='1042', ...),</div></div><div class=\"1108\" style=\"display: none;\"><div style=\"display: table-cell;\"></div><div style=\"display: table-cell;\">title_location&nbsp;=&nbsp;'above',</div></div><div class=\"1108\" style=\"display: none;\"><div style=\"display: table-cell;\"></div><div style=\"display: table-cell;\">toolbar&nbsp;=&nbsp;Toolbar(id='1028', ...),</div></div><div class=\"1108\" style=\"display: none;\"><div style=\"display: table-cell;\"></div><div style=\"display: table-cell;\">toolbar_location&nbsp;=&nbsp;'right',</div></div><div class=\"1108\" style=\"display: none;\"><div style=\"display: table-cell;\"></div><div style=\"display: table-cell;\">toolbar_sticky&nbsp;=&nbsp;True,</div></div><div class=\"1108\" style=\"display: none;\"><div style=\"display: table-cell;\"></div><div style=\"display: table-cell;\">visible&nbsp;=&nbsp;True,</div></div><div class=\"1108\" style=\"display: none;\"><div style=\"display: table-cell;\"></div><div style=\"display: table-cell;\">width&nbsp;=&nbsp;600,</div></div><div class=\"1108\" style=\"display: none;\"><div style=\"display: table-cell;\"></div><div style=\"display: table-cell;\">width_policy&nbsp;=&nbsp;'auto',</div></div><div class=\"1108\" style=\"display: none;\"><div style=\"display: table-cell;\"></div><div style=\"display: table-cell;\">x_range&nbsp;=&nbsp;DataRange1d(id='1005', ...),</div></div><div class=\"1108\" style=\"display: none;\"><div style=\"display: table-cell;\"></div><div style=\"display: table-cell;\">x_scale&nbsp;=&nbsp;LinearScale(id='1009', ...),</div></div><div class=\"1108\" style=\"display: none;\"><div style=\"display: table-cell;\"></div><div style=\"display: table-cell;\">y_range&nbsp;=&nbsp;DataRange1d(id='1007', ...),</div></div><div class=\"1108\" style=\"display: none;\"><div style=\"display: table-cell;\"></div><div style=\"display: table-cell;\">y_scale&nbsp;=&nbsp;LinearScale(id='1011', ...))</div></div></div>\n",
       "<script>\n",
       "(function() {\n",
       "  var expanded = false;\n",
       "  var ellipsis = document.getElementById(\"1109\");\n",
       "  ellipsis.addEventListener(\"click\", function() {\n",
       "    var rows = document.getElementsByClassName(\"1108\");\n",
       "    for (var i = 0; i < rows.length; i++) {\n",
       "      var el = rows[i];\n",
       "      el.style.display = expanded ? \"none\" : \"table-row\";\n",
       "    }\n",
       "    ellipsis.innerHTML = expanded ? \"&hellip;)\" : \"&lsaquo;&lsaquo;&lsaquo;\";\n",
       "    expanded = !expanded;\n",
       "  });\n",
       "})();\n",
       "</script>\n"
      ],
      "text/plain": [
       "Figure(id='1004', ...)"
      ]
     },
     "execution_count": 17,
     "metadata": {},
     "output_type": "execute_result"
    }
   ],
   "source": [
    "draw_vectors(\n",
    "    examples[\"transformed_features\"][:, 0], \n",
    "    examples[\"transformed_features\"][:, 1], \n",
    "    color=[[\"red\", \"blue\"][t] for t in examples[\"targets\"]]\n",
    "    )"
   ]
  },
  {
   "cell_type": "markdown",
   "metadata": {
    "id": "0fNF6LRQ9MPI"
   },
   "source": [
    "Скорее всего, на визуализации нет четкого разделения твитов между классами. Это значит, что по полученным нами векторам твитов не так-то просто определить, к какому классу твит пренадлежит. Значит, обычный линейный классификатор не очень хорошо справится с задачей. Надо будет делать глубокую (хотя бы два слоя) нейронную сеть.\n",
    "\n",
    "Подготовим загрузчики данных.\n",
    "Усреднее векторов будем делать в \"батчевалке\"(`collate_fn`). Она используется для того, чтобы собирать из данных `torch.Tensor` батчи, которые можно отправлять в модель.\n"
   ]
  },
  {
   "cell_type": "code",
   "execution_count": 19,
   "metadata": {
    "colab": {
     "base_uri": "https://localhost:8080/"
    },
    "id": "y1XapsADtITv",
    "outputId": "815f88f5-adf4-45ad-bdb3-a5071eaaaf66"
   },
   "outputs": [],
   "source": [
    "from torch.utils.data import DataLoader\n",
    "\n",
    "\n",
    "batch_size = 4096\n",
    "num_workers = 0\n",
    "\n",
    "def average_emb(batch):\n",
    "    features = [np.mean(b[\"feature\"], axis=0) for b in batch]\n",
    "    targets = [[b[\"target\"]] for b in batch]\n",
    "\n",
    "    return {\"features\": torch.FloatTensor(features), \"targets\": torch.FloatTensor(targets)}\n",
    "\n",
    "\n",
    "train_size = math.ceil(len(dev) * 0.8)\n",
    "\n",
    "train, valid = random_split(dev, [train_size, len(dev) - train_size])\n",
    "\n",
    "train_loader = DataLoader(train, batch_size=batch_size, num_workers=num_workers, shuffle=True, drop_last=True, collate_fn=average_emb)\n",
    "valid_loader = DataLoader(valid, batch_size=batch_size, num_workers=num_workers, shuffle=False, drop_last=False, collate_fn=average_emb)"
   ]
  },
  {
   "cell_type": "markdown",
   "metadata": {
    "id": "p-zs0WEK-Vkt"
   },
   "source": [
    "Определим функции для тренировки и теста модели:"
   ]
  },
  {
   "cell_type": "code",
   "execution_count": 20,
   "metadata": {
    "id": "U--T2Gjw1r27"
   },
   "outputs": [],
   "source": [
    "from tqdm.notebook import tqdm\n",
    "\n",
    "\n",
    "def training(model, optimizer, criterion, train_loader, epoch, device=\"cpu\"):\n",
    "    pbar = tqdm(train_loader, desc=f\"Epoch {e + 1}. Train Loss: {0}\")\n",
    "    model.train()\n",
    "    for batch in pbar:\n",
    "        features = batch[\"features\"].to(device)\n",
    "        targets = batch[\"targets\"].to(device)\n",
    "\n",
    "        # Получи предсказания модели\n",
    "        optimizer.zero_grad()\n",
    "        preds = model(features)\n",
    "        loss = criterion(preds, targets) # Посчитай лосс\n",
    "        # Обнови параметры модели\n",
    "        loss.backward()\n",
    "        optimizer.step()\n",
    "\n",
    "        pbar.set_description(f\"Epoch {e + 1}. Train Loss: {loss:.4}\")\n",
    "    \n",
    "\n",
    "def testing(model, criterion, test_loader, device=\"cpu\"):\n",
    "    pbar = tqdm(test_loader, desc=f\"Test Loss: {0}, Test Acc: {0}\")\n",
    "    mean_loss = 0\n",
    "    mean_acc = 0\n",
    "    model.eval()\n",
    "    with torch.no_grad():\n",
    "        for batch in pbar:\n",
    "            features = batch[\"features\"].to(device)\n",
    "            targets = batch[\"targets\"].to(device)\n",
    "\n",
    "            # Получи предсказания модели\n",
    "            preds = model(features)\n",
    "            loss = criterion(preds, targets) # Посчитай лосс\n",
    "            acc = torch.sum(((preds > 0.5).float() == targets)) / len(features) # Посчитай точность модели\n",
    "\n",
    "            mean_loss += loss.item()\n",
    "            mean_acc += acc.item()\n",
    "\n",
    "            pbar.set_description(f\"Test Loss: {loss:.4}, Test Acc: {acc:.4}\")\n",
    "\n",
    "    pbar.set_description(f\"Test Loss: {mean_loss / len(test_loader):.4}, Test Acc: {mean_acc / len(test_loader):.4}\")\n",
    "\n",
    "    return {\"Test Loss\": mean_loss / len(test_loader), \"Test Acc\": mean_acc / len(test_loader)}"
   ]
  },
  {
   "cell_type": "markdown",
   "metadata": {
    "id": "oVg_XBBb-YBH"
   },
   "source": [
    "Создадим модель, оптимизатор и целевую функцию. Вы можете сами выбрать количество слоев в нейронной сети, ваш любимый оптимизатор и целевую функцию.\n"
   ]
  },
  {
   "cell_type": "code",
   "execution_count": 22,
   "metadata": {
    "id": "EBoZ4F3Fx1Hm"
   },
   "outputs": [],
   "source": [
    "import torch.nn as nn\n",
    "from torch.optim import Adam\n",
    "\n",
    "\n",
    "# Не забудь поиграться с параметрами ;)\n",
    "vector_size = dev.word2vec.vector_size\n",
    "num_classes = 2\n",
    "lr = 1e-3\n",
    "num_epochs = 10\n",
    "\n",
    "# Возьмем небольшую модель с 1 скрытым слоем, чтобы сильно не грузить gpu.\n",
    "model = nn.Sequential(\n",
    "    nn.Linear(vector_size, 128),\n",
    "    nn.ReLU(),\n",
    "    nn.Linear(128, 32),\n",
    "    nn.ReLU(),\n",
    "    nn.Linear(32, 1),\n",
    "    nn.Sigmoid()\n",
    ")\n",
    "model = model.cuda()\n",
    "criterion = nn.BCELoss()\n",
    "optimizer = Adam(model.parameters(), lr=lr)"
   ]
  },
  {
   "cell_type": "markdown",
   "metadata": {
    "id": "-AitU8AR-zBj"
   },
   "source": [
    "Наконец, обучим модель и протестируем её.\n",
    "\n",
    "После каждой эпохи будем проверять качество модели на валидационной части датасета. Если метрика стала лучше, будем сохранять модель. **Подумайте, какая метрика (точность или лосс) будет лучше работать в этой задаче?** "
   ]
  },
  {
   "cell_type": "markdown",
   "metadata": {},
   "source": [
    "**Ответ.** Выберем в качестве метрики точность, поскольку мы решаем задачу классификации. Метрика лосс показывает, насколько модель уверена в своих предсказаниях, что нас не слишком сильно интересует. "
   ]
  },
  {
   "cell_type": "code",
   "execution_count": 23,
   "metadata": {
    "id": "gKhk71Pmx1F1"
   },
   "outputs": [
    {
     "data": {
      "application/vnd.jupyter.widget-view+json": {
       "model_id": "b9007f9b42fe4eacb3ea6803fb28143d",
       "version_major": 2,
       "version_minor": 0
      },
      "text/plain": [
       "Epoch 1. Train Loss: 0:   0%|          | 0/250 [00:00<?, ?it/s]"
      ]
     },
     "metadata": {},
     "output_type": "display_data"
    },
    {
     "data": {
      "application/vnd.jupyter.widget-view+json": {
       "model_id": "5026f7da10bc4c31a0f69cf532893522",
       "version_major": 2,
       "version_minor": 0
      },
      "text/plain": [
       "Test Loss: 0, Test Acc: 0:   0%|          | 0/63 [00:00<?, ?it/s]"
      ]
     },
     "metadata": {},
     "output_type": "display_data"
    },
    {
     "name": "stdout",
     "output_type": "stream",
     "text": [
      "{'Test Loss': 0.5205153037631323, 'Test Acc': 0.7389594184027778}\n"
     ]
    },
    {
     "data": {
      "application/vnd.jupyter.widget-view+json": {
       "model_id": "144c8917139d4c7ea3c796c610b886fc",
       "version_major": 2,
       "version_minor": 0
      },
      "text/plain": [
       "Epoch 2. Train Loss: 0:   0%|          | 0/250 [00:00<?, ?it/s]"
      ]
     },
     "metadata": {},
     "output_type": "display_data"
    },
    {
     "data": {
      "application/vnd.jupyter.widget-view+json": {
       "model_id": "d6c74c5761f74113af5288611062919a",
       "version_major": 2,
       "version_minor": 0
      },
      "text/plain": [
       "Test Loss: 0, Test Acc: 0:   0%|          | 0/63 [00:00<?, ?it/s]"
      ]
     },
     "metadata": {},
     "output_type": "display_data"
    },
    {
     "name": "stdout",
     "output_type": "stream",
     "text": [
      "{'Test Loss': 0.509798944942535, 'Test Acc': 0.746062748015873}\n"
     ]
    },
    {
     "data": {
      "application/vnd.jupyter.widget-view+json": {
       "model_id": "6f0581cfd7a641e4ae397d5012b4a5a3",
       "version_major": 2,
       "version_minor": 0
      },
      "text/plain": [
       "Epoch 3. Train Loss: 0:   0%|          | 0/250 [00:00<?, ?it/s]"
      ]
     },
     "metadata": {},
     "output_type": "display_data"
    },
    {
     "data": {
      "application/vnd.jupyter.widget-view+json": {
       "model_id": "3af6223268924019b25196012b1fe821",
       "version_major": 2,
       "version_minor": 0
      },
      "text/plain": [
       "Test Loss: 0, Test Acc: 0:   0%|          | 0/63 [00:00<?, ?it/s]"
      ]
     },
     "metadata": {},
     "output_type": "display_data"
    },
    {
     "name": "stdout",
     "output_type": "stream",
     "text": [
      "{'Test Loss': 0.5059902223329695, 'Test Acc': 0.7488800533234127}\n"
     ]
    },
    {
     "data": {
      "application/vnd.jupyter.widget-view+json": {
       "model_id": "f6c7f67fc3954a8b916ca89ca531f2ca",
       "version_major": 2,
       "version_minor": 0
      },
      "text/plain": [
       "Epoch 4. Train Loss: 0:   0%|          | 0/250 [00:00<?, ?it/s]"
      ]
     },
     "metadata": {},
     "output_type": "display_data"
    },
    {
     "data": {
      "application/vnd.jupyter.widget-view+json": {
       "model_id": "73060903a9d64f96a6b1ef7fcfb9b4e5",
       "version_major": 2,
       "version_minor": 0
      },
      "text/plain": [
       "Test Loss: 0, Test Acc: 0:   0%|          | 0/63 [00:00<?, ?it/s]"
      ]
     },
     "metadata": {},
     "output_type": "display_data"
    },
    {
     "name": "stdout",
     "output_type": "stream",
     "text": [
      "{'Test Loss': 0.5024866523250701, 'Test Acc': 0.7510734437003969}\n"
     ]
    },
    {
     "data": {
      "application/vnd.jupyter.widget-view+json": {
       "model_id": "986a941b6f0246d2878ec7e80d8e5ab3",
       "version_major": 2,
       "version_minor": 0
      },
      "text/plain": [
       "Epoch 5. Train Loss: 0:   0%|          | 0/250 [00:00<?, ?it/s]"
      ]
     },
     "metadata": {},
     "output_type": "display_data"
    },
    {
     "data": {
      "application/vnd.jupyter.widget-view+json": {
       "model_id": "ea2e4ab69e034410bf80249ea1afcd4e",
       "version_major": 2,
       "version_minor": 0
      },
      "text/plain": [
       "Test Loss: 0, Test Acc: 0:   0%|          | 0/63 [00:00<?, ?it/s]"
      ]
     },
     "metadata": {},
     "output_type": "display_data"
    },
    {
     "name": "stdout",
     "output_type": "stream",
     "text": [
      "{'Test Loss': 0.5007792872095865, 'Test Acc': 0.7523096478174603}\n"
     ]
    },
    {
     "data": {
      "application/vnd.jupyter.widget-view+json": {
       "model_id": "a6806f00c04d46bf869a89921b9ba8c7",
       "version_major": 2,
       "version_minor": 0
      },
      "text/plain": [
       "Epoch 6. Train Loss: 0:   0%|          | 0/250 [00:00<?, ?it/s]"
      ]
     },
     "metadata": {},
     "output_type": "display_data"
    },
    {
     "data": {
      "application/vnd.jupyter.widget-view+json": {
       "model_id": "4a7def955a2a4a53b8a549f4c999be6d",
       "version_major": 2,
       "version_minor": 0
      },
      "text/plain": [
       "Test Loss: 0, Test Acc: 0:   0%|          | 0/63 [00:00<?, ?it/s]"
      ]
     },
     "metadata": {},
     "output_type": "display_data"
    },
    {
     "name": "stdout",
     "output_type": "stream",
     "text": [
      "{'Test Loss': 0.502411172030464, 'Test Acc': 0.7519918774801587}\n"
     ]
    },
    {
     "data": {
      "application/vnd.jupyter.widget-view+json": {
       "model_id": "0ae4be5363ad49c99dbc02a293585b40",
       "version_major": 2,
       "version_minor": 0
      },
      "text/plain": [
       "Epoch 7. Train Loss: 0:   0%|          | 0/250 [00:00<?, ?it/s]"
      ]
     },
     "metadata": {},
     "output_type": "display_data"
    },
    {
     "data": {
      "application/vnd.jupyter.widget-view+json": {
       "model_id": "dd8c49b6685e4f848f618586fbdaa40f",
       "version_major": 2,
       "version_minor": 0
      },
      "text/plain": [
       "Test Loss: 0, Test Acc: 0:   0%|          | 0/63 [00:00<?, ?it/s]"
      ]
     },
     "metadata": {},
     "output_type": "display_data"
    },
    {
     "name": "stdout",
     "output_type": "stream",
     "text": [
      "{'Test Loss': 0.499133385836132, 'Test Acc': 0.7542356460813492}\n"
     ]
    },
    {
     "data": {
      "application/vnd.jupyter.widget-view+json": {
       "model_id": "329f6fb7f8ec4951b79dcf03040e1db8",
       "version_major": 2,
       "version_minor": 0
      },
      "text/plain": [
       "Epoch 8. Train Loss: 0:   0%|          | 0/250 [00:00<?, ?it/s]"
      ]
     },
     "metadata": {},
     "output_type": "display_data"
    },
    {
     "data": {
      "application/vnd.jupyter.widget-view+json": {
       "model_id": "01555ebf94cf44d58f6f7072da6aea6c",
       "version_major": 2,
       "version_minor": 0
      },
      "text/plain": [
       "Test Loss: 0, Test Acc: 0:   0%|          | 0/63 [00:00<?, ?it/s]"
      ]
     },
     "metadata": {},
     "output_type": "display_data"
    },
    {
     "name": "stdout",
     "output_type": "stream",
     "text": [
      "{'Test Loss': 0.49831336783984354, 'Test Acc': 0.7545262896825397}\n"
     ]
    },
    {
     "data": {
      "application/vnd.jupyter.widget-view+json": {
       "model_id": "8886604ca5d24821bdb3b892d9de3372",
       "version_major": 2,
       "version_minor": 0
      },
      "text/plain": [
       "Epoch 9. Train Loss: 0:   0%|          | 0/250 [00:00<?, ?it/s]"
      ]
     },
     "metadata": {},
     "output_type": "display_data"
    },
    {
     "data": {
      "application/vnd.jupyter.widget-view+json": {
       "model_id": "c074a5605ddf4a1baa3fb7fadabb9e9d",
       "version_major": 2,
       "version_minor": 0
      },
      "text/plain": [
       "Test Loss: 0, Test Acc: 0:   0%|          | 0/63 [00:00<?, ?it/s]"
      ]
     },
     "metadata": {},
     "output_type": "display_data"
    },
    {
     "name": "stdout",
     "output_type": "stream",
     "text": [
      "{'Test Loss': 0.4974411664501069, 'Test Acc': 0.7549641927083334}\n"
     ]
    },
    {
     "data": {
      "application/vnd.jupyter.widget-view+json": {
       "model_id": "b40e3379f41f464b94a5aeedd519c56e",
       "version_major": 2,
       "version_minor": 0
      },
      "text/plain": [
       "Epoch 10. Train Loss: 0:   0%|          | 0/250 [00:00<?, ?it/s]"
      ]
     },
     "metadata": {},
     "output_type": "display_data"
    },
    {
     "data": {
      "application/vnd.jupyter.widget-view+json": {
       "model_id": "596b1529af524148b41aa7d1b3f9c152",
       "version_major": 2,
       "version_minor": 0
      },
      "text/plain": [
       "Test Loss: 0, Test Acc: 0:   0%|          | 0/63 [00:00<?, ?it/s]"
      ]
     },
     "metadata": {},
     "output_type": "display_data"
    },
    {
     "name": "stdout",
     "output_type": "stream",
     "text": [
      "{'Test Loss': 0.49757023699699887, 'Test Acc': 0.7543751550099206}\n"
     ]
    }
   ],
   "source": [
    "best_metric = np.inf\n",
    "for e in range(num_epochs):\n",
    "    training(model, optimizer, criterion, train_loader, e, device)\n",
    "    log = testing(model, criterion, valid_loader, device)\n",
    "    print(log)\n",
    "    if log[\"Test Acc\"] < best_metric:\n",
    "        torch.save(model.state_dict(), \"model.pt\")\n",
    "        best_metric = log[\"Test Acc\"]"
   ]
  },
  {
   "cell_type": "code",
   "execution_count": 24,
   "metadata": {
    "id": "di4dGwD4x1Dt"
   },
   "outputs": [
    {
     "data": {
      "application/vnd.jupyter.widget-view+json": {
       "model_id": "c474fdaf5ac244c5bd607b19c644fd27",
       "version_major": 2,
       "version_minor": 0
      },
      "text/plain": [
       "Test Loss: 0, Test Acc: 0:   0%|          | 0/79 [00:00<?, ?it/s]"
      ]
     },
     "metadata": {},
     "output_type": "display_data"
    },
    {
     "name": "stdout",
     "output_type": "stream",
     "text": [
      "{'Test Loss': 0.5210455354255966, 'Test Acc': 0.7398480765427216}\n"
     ]
    }
   ],
   "source": [
    "test_loader = DataLoader(\n",
    "    TwitterDataset(test_data, \"text\", \"emotion\", word2vec), \n",
    "    batch_size=batch_size, \n",
    "    num_workers=num_workers, \n",
    "    shuffle=False,\n",
    "    drop_last=False, \n",
    "    collate_fn=average_emb)\n",
    "\n",
    "model.load_state_dict(torch.load(\"model.pt\", map_location=device))\n",
    "\n",
    "\n",
    "print(testing(model, criterion, test_loader, device=device))"
   ]
  },
  {
   "cell_type": "markdown",
   "metadata": {
    "id": "ZRvzpldHSAu0"
   },
   "source": [
    "## Embeddings for unknown words (8 баллов)\n",
    "\n",
    "Пока что использовалась не вся информация из текста. Часть информации фильтровалось – если слова не было в словаре эмбеддингов, то мы просто превращали слово в нулевой вектор. Хочется использовать информацию по-максимуму. Поэтому рассмотрим другие способы обработки слов, которых нет в словаре. А именно:\n",
    "\n",
    "- Для каждого незнакомого слова будем запоминать его контекст(слова слева и справа от этого слова). Эмбеддингом нашего незнакомого слова будет сумма эмбеддингов всех слов из его контекста. (4 балла)\n",
    "- Для каждого слова текста получим его эмбеддинг из Tfidf с помощью ```TfidfVectorizer``` из [sklearn](https://scikit-learn.org/stable/modules/generated/sklearn.feature_extraction.text.TfidfVectorizer.html#sklearn.feature_extraction.text.TfidfVectorizer). Итоговым эмбеддингом для каждого слова будет сумма двух эмбеддингов: предобученного и Tfidf-ного. Для слов, которых нет в словаре предобученных эмбеддингов, результирующий эмбеддинг будет просто полученный из Tfidf. (4 балла)\n",
    "\n",
    "Реализуйте оба варианта **ниже**. Напишите, какой способ сработал лучше и ваши мысли, почему так получилось."
   ]
  },
  {
   "cell_type": "markdown",
   "metadata": {
    "id": "ZTwa9nuzndvJ"
   },
   "source": [
    "## Перый эксперимент."
   ]
  },
  {
   "cell_type": "code",
   "execution_count": 25,
   "metadata": {
    "colab": {
     "base_uri": "https://localhost:8080/",
     "height": 231
    },
    "id": "RxhEpKalU1UQ",
    "outputId": "142bd091-4121-462e-cd92-1e9cee6b7470"
   },
   "outputs": [],
   "source": [
    "class TwitterDatasetContext(Dataset):\n",
    "    def __init__(self, data: pd.DataFrame, feature_column: str, target_column: str, word2vec: gensim.models.Word2Vec, window: int):\n",
    "        self.tokenizer = nltk.WordPunctTokenizer()\n",
    "        \n",
    "        self.data = data\n",
    "\n",
    "        self.feature_column = feature_column\n",
    "        self.target_column = target_column\n",
    "\n",
    "        self.word2vec = word2vec\n",
    "\n",
    "        self.label2num = lambda label: 0 if label == 0 else 1\n",
    "        self.mean = np.mean(word2vec.vectors, axis=0)\n",
    "        self.std = np.std(word2vec.vectors, axis=0)\n",
    "        self.window = window\n",
    "\n",
    "    def __getitem__(self, item):\n",
    "        text = self.data[self.feature_column][item]\n",
    "        label = self.label2num(self.data[self.target_column][item])\n",
    "\n",
    "        tokens = self.get_tokens_(text)\n",
    "        embeddings = self.get_embeddings_(tokens)\n",
    "\n",
    "        return {\"feature\": embeddings, \"target\": label}\n",
    "\n",
    "    def get_tokens_(self, text):\n",
    "        # Получи все токены из текста и профильтруй их\n",
    "        return [w for w in tokenizer.tokenize(text) if all(c not in string.punctuation for c in w) and len(w) > 3]\n",
    "\n",
    "    def get_embeddings_(self, tokens):\n",
    "        embeddings = []\n",
    "        for i in range(len(tokens)):\n",
    "            if tokens[i] in self.word2vec:\n",
    "                embedding = (self.word2vec.get_vector(tokens[i]) - mean) / std\n",
    "            else:\n",
    "                embedding = np.zeros((self.word2vec.vector_size))\n",
    "                for j in range(1, self.window + 1):\n",
    "                    if i - j >= 0:\n",
    "                        embedding += (self.word2vec.get_vector(tokens[i - j]) - mean) / std if tokens[i - j] in self.word2vec else np.zeros((self.word2vec.vector_size))\n",
    "                    if i + j < len(tokens):\n",
    "                        embedding += (self.word2vec.get_vector(tokens[i + j]) - mean) / std if tokens[i + j] in self.word2vec else np.zeros((self.word2vec.vector_size))\n",
    "            embeddings.append(embedding)\n",
    "\n",
    "        if len(embeddings) == 0:\n",
    "            embeddings = np.zeros((1, self.word2vec.vector_size))\n",
    "        else:\n",
    "            embeddings = np.array(embeddings)\n",
    "            if len(embeddings.shape) == 1:\n",
    "                embeddings = embeddings.reshape(-1, 1)\n",
    "\n",
    "        return embeddings\n",
    "\n",
    "    def __len__(self):\n",
    "        return self.data.shape[0]"
   ]
  },
  {
   "cell_type": "code",
   "execution_count": 26,
   "metadata": {
    "id": "j_uPYWasrzXB"
   },
   "outputs": [],
   "source": [
    "# будем просматривать по 2 слова слева и справа\n",
    "dev = TwitterDatasetContext(dev_data, \"text\", \"emotion\", word2vec, 2)"
   ]
  },
  {
   "cell_type": "code",
   "execution_count": 27,
   "metadata": {
    "colab": {
     "base_uri": "https://localhost:8080/"
    },
    "id": "hmGeF9Dew1K-",
    "outputId": "52e0458b-6609-4541-bc81-969efd8b3ec4"
   },
   "outputs": [],
   "source": [
    "train_size = math.ceil(len(dev) * 0.8)\n",
    "\n",
    "train, valid = random_split(dev, [train_size, len(dev) - train_size])\n",
    "\n",
    "train_loader = DataLoader(train, batch_size=batch_size, num_workers=num_workers, shuffle=True, drop_last=True, collate_fn=average_emb)\n",
    "valid_loader = DataLoader(valid, batch_size=batch_size, num_workers=num_workers, shuffle=False, drop_last=False, collate_fn=average_emb)"
   ]
  },
  {
   "cell_type": "code",
   "execution_count": 28,
   "metadata": {
    "id": "IB7umKgxxKB-"
   },
   "outputs": [],
   "source": [
    "model = nn.Sequential(\n",
    "    nn.Linear(vector_size, 128),\n",
    "    nn.ReLU(),\n",
    "    nn.Linear(128, 32),\n",
    "    nn.ReLU(),\n",
    "    nn.Linear(32, 1),\n",
    "    nn.Sigmoid()\n",
    ")\n",
    "model = model.cuda()\n",
    "criterion = nn.BCELoss()\n",
    "optimizer = Adam(model.parameters(), lr=lr)"
   ]
  },
  {
   "cell_type": "code",
   "execution_count": 29,
   "metadata": {
    "colab": {
     "base_uri": "https://localhost:8080/",
     "height": 1000,
     "referenced_widgets": [
      "42b13151e72e41628e7b29853d98ceec",
      "fbfb45886b004160a4d5c3750ba49e30",
      "d1b65629a35649268bb8716624995bb7",
      "7bd23f4158c4418faa85ad06f2e908a0",
      "19b94c534d784d808e2c533b3f4764b5",
      "c8376054ba204ba19087d45e7efc5ae1",
      "1e3800750e9d4413ae76336ddc6b70ce",
      "071bf015009245b0ad17238a8f8d27e7",
      "6640727a6cc04b3fab26e9b7a92ec340",
      "7d06af0399294232b9fba358da64a249",
      "70f30ad5cafc43e4b640a9f306fed047"
     ]
    },
    "id": "rfBOvnmCxQvE",
    "outputId": "b96607e6-0a24-4f90-93ab-58d24d975d23"
   },
   "outputs": [
    {
     "data": {
      "application/vnd.jupyter.widget-view+json": {
       "model_id": "d2455e417a9e49ffa4dd263cd5c0e30d",
       "version_major": 2,
       "version_minor": 0
      },
      "text/plain": [
       "Epoch 1. Train Loss: 0:   0%|          | 0/250 [00:00<?, ?it/s]"
      ]
     },
     "metadata": {},
     "output_type": "display_data"
    },
    {
     "data": {
      "application/vnd.jupyter.widget-view+json": {
       "model_id": "0eafaa96ac134e688670f14b618a9a58",
       "version_major": 2,
       "version_minor": 0
      },
      "text/plain": [
       "Test Loss: 0, Test Acc: 0:   0%|          | 0/63 [00:00<?, ?it/s]"
      ]
     },
     "metadata": {},
     "output_type": "display_data"
    },
    {
     "name": "stdout",
     "output_type": "stream",
     "text": [
      "{'Test Loss': 0.5294714456512815, 'Test Acc': 0.7324451264880952}\n"
     ]
    },
    {
     "data": {
      "application/vnd.jupyter.widget-view+json": {
       "model_id": "120d8460d8684270823b550c6807377c",
       "version_major": 2,
       "version_minor": 0
      },
      "text/plain": [
       "Epoch 2. Train Loss: 0:   0%|          | 0/250 [00:00<?, ?it/s]"
      ]
     },
     "metadata": {},
     "output_type": "display_data"
    },
    {
     "data": {
      "application/vnd.jupyter.widget-view+json": {
       "model_id": "5f153882b0c7476d92db1dfa3f17db05",
       "version_major": 2,
       "version_minor": 0
      },
      "text/plain": [
       "Test Loss: 0, Test Acc: 0:   0%|          | 0/63 [00:00<?, ?it/s]"
      ]
     },
     "metadata": {},
     "output_type": "display_data"
    },
    {
     "name": "stdout",
     "output_type": "stream",
     "text": [
      "{'Test Loss': 0.5196348239505102, 'Test Acc': 0.741455078125}\n"
     ]
    },
    {
     "data": {
      "application/vnd.jupyter.widget-view+json": {
       "model_id": "439c9c3f8d9642fbb9c50f14835bcc08",
       "version_major": 2,
       "version_minor": 0
      },
      "text/plain": [
       "Epoch 3. Train Loss: 0:   0%|          | 0/250 [00:00<?, ?it/s]"
      ]
     },
     "metadata": {},
     "output_type": "display_data"
    },
    {
     "data": {
      "application/vnd.jupyter.widget-view+json": {
       "model_id": "3e7afca8eaba4f4d88f6d859a4d9c1ee",
       "version_major": 2,
       "version_minor": 0
      },
      "text/plain": [
       "Test Loss: 0, Test Acc: 0:   0%|          | 0/63 [00:00<?, ?it/s]"
      ]
     },
     "metadata": {},
     "output_type": "display_data"
    },
    {
     "name": "stdout",
     "output_type": "stream",
     "text": [
      "{'Test Loss': 0.5139192248147632, 'Test Acc': 0.7442801339285714}\n"
     ]
    },
    {
     "data": {
      "application/vnd.jupyter.widget-view+json": {
       "model_id": "a5306ab2761747d1bf59fbee2c20a518",
       "version_major": 2,
       "version_minor": 0
      },
      "text/plain": [
       "Epoch 4. Train Loss: 0:   0%|          | 0/250 [00:00<?, ?it/s]"
      ]
     },
     "metadata": {},
     "output_type": "display_data"
    },
    {
     "data": {
      "application/vnd.jupyter.widget-view+json": {
       "model_id": "00de72ff31624c76ba776d75ca388131",
       "version_major": 2,
       "version_minor": 0
      },
      "text/plain": [
       "Test Loss: 0, Test Acc: 0:   0%|          | 0/63 [00:00<?, ?it/s]"
      ]
     },
     "metadata": {},
     "output_type": "display_data"
    },
    {
     "name": "stdout",
     "output_type": "stream",
     "text": [
      "{'Test Loss': 0.510683502469744, 'Test Acc': 0.7469928075396826}\n"
     ]
    },
    {
     "data": {
      "application/vnd.jupyter.widget-view+json": {
       "model_id": "e6a07092c8a9434cb3514bcd754e24a3",
       "version_major": 2,
       "version_minor": 0
      },
      "text/plain": [
       "Epoch 5. Train Loss: 0:   0%|          | 0/250 [00:00<?, ?it/s]"
      ]
     },
     "metadata": {},
     "output_type": "display_data"
    },
    {
     "data": {
      "application/vnd.jupyter.widget-view+json": {
       "model_id": "39f00ffe5fdc49be9f90ed96f2f23c5e",
       "version_major": 2,
       "version_minor": 0
      },
      "text/plain": [
       "Test Loss: 0, Test Acc: 0:   0%|          | 0/63 [00:00<?, ?it/s]"
      ]
     },
     "metadata": {},
     "output_type": "display_data"
    },
    {
     "name": "stdout",
     "output_type": "stream",
     "text": [
      "{'Test Loss': 0.5096739852239215, 'Test Acc': 0.7475663442460317}\n"
     ]
    },
    {
     "data": {
      "application/vnd.jupyter.widget-view+json": {
       "model_id": "737bcec1f164420a8fddfa1ee2888123",
       "version_major": 2,
       "version_minor": 0
      },
      "text/plain": [
       "Epoch 6. Train Loss: 0:   0%|          | 0/250 [00:00<?, ?it/s]"
      ]
     },
     "metadata": {},
     "output_type": "display_data"
    },
    {
     "data": {
      "application/vnd.jupyter.widget-view+json": {
       "model_id": "4a45a746fe6f4ec186ce7af48c7410db",
       "version_major": 2,
       "version_minor": 0
      },
      "text/plain": [
       "Test Loss: 0, Test Acc: 0:   0%|          | 0/63 [00:00<?, ?it/s]"
      ]
     },
     "metadata": {},
     "output_type": "display_data"
    },
    {
     "name": "stdout",
     "output_type": "stream",
     "text": [
      "{'Test Loss': 0.5084947418598902, 'Test Acc': 0.7487754216269841}\n"
     ]
    },
    {
     "data": {
      "application/vnd.jupyter.widget-view+json": {
       "model_id": "5d65900b19b44b9b866cdfd0ee3be396",
       "version_major": 2,
       "version_minor": 0
      },
      "text/plain": [
       "Epoch 7. Train Loss: 0:   0%|          | 0/250 [00:00<?, ?it/s]"
      ]
     },
     "metadata": {},
     "output_type": "display_data"
    },
    {
     "data": {
      "application/vnd.jupyter.widget-view+json": {
       "model_id": "3f4d6994548e4f888528352f334c47e4",
       "version_major": 2,
       "version_minor": 0
      },
      "text/plain": [
       "Test Loss: 0, Test Acc: 0:   0%|          | 0/63 [00:00<?, ?it/s]"
      ]
     },
     "metadata": {},
     "output_type": "display_data"
    },
    {
     "name": "stdout",
     "output_type": "stream",
     "text": [
      "{'Test Loss': 0.5074540248938969, 'Test Acc': 0.7484188988095238}\n"
     ]
    },
    {
     "data": {
      "application/vnd.jupyter.widget-view+json": {
       "model_id": "64b3e52120874f22b11337e53305ed94",
       "version_major": 2,
       "version_minor": 0
      },
      "text/plain": [
       "Epoch 8. Train Loss: 0:   0%|          | 0/250 [00:00<?, ?it/s]"
      ]
     },
     "metadata": {},
     "output_type": "display_data"
    },
    {
     "data": {
      "application/vnd.jupyter.widget-view+json": {
       "model_id": "9d886a1bce8346b3b92465403157548b",
       "version_major": 2,
       "version_minor": 0
      },
      "text/plain": [
       "Test Loss: 0, Test Acc: 0:   0%|          | 0/63 [00:00<?, ?it/s]"
      ]
     },
     "metadata": {},
     "output_type": "display_data"
    },
    {
     "name": "stdout",
     "output_type": "stream",
     "text": [
      "{'Test Loss': 0.5077735176162114, 'Test Acc': 0.7495272197420635}\n"
     ]
    },
    {
     "data": {
      "application/vnd.jupyter.widget-view+json": {
       "model_id": "47db3d862b334cc992a84e56da35d11a",
       "version_major": 2,
       "version_minor": 0
      },
      "text/plain": [
       "Epoch 9. Train Loss: 0:   0%|          | 0/250 [00:00<?, ?it/s]"
      ]
     },
     "metadata": {},
     "output_type": "display_data"
    },
    {
     "data": {
      "application/vnd.jupyter.widget-view+json": {
       "model_id": "9d061aef2d664adba01bec88a70a491f",
       "version_major": 2,
       "version_minor": 0
      },
      "text/plain": [
       "Test Loss: 0, Test Acc: 0:   0%|          | 0/63 [00:00<?, ?it/s]"
      ]
     },
     "metadata": {},
     "output_type": "display_data"
    },
    {
     "name": "stdout",
     "output_type": "stream",
     "text": [
      "{'Test Loss': 0.5063535187925611, 'Test Acc': 0.7497364831349206}\n"
     ]
    },
    {
     "data": {
      "application/vnd.jupyter.widget-view+json": {
       "model_id": "79893a5d16cf4462bb247fee3191d27f",
       "version_major": 2,
       "version_minor": 0
      },
      "text/plain": [
       "Epoch 10. Train Loss: 0:   0%|          | 0/250 [00:00<?, ?it/s]"
      ]
     },
     "metadata": {},
     "output_type": "display_data"
    },
    {
     "data": {
      "application/vnd.jupyter.widget-view+json": {
       "model_id": "1ede40824e834c2296c50e42ecd8a6af",
       "version_major": 2,
       "version_minor": 0
      },
      "text/plain": [
       "Test Loss: 0, Test Acc: 0:   0%|          | 0/63 [00:00<?, ?it/s]"
      ]
     },
     "metadata": {},
     "output_type": "display_data"
    },
    {
     "name": "stdout",
     "output_type": "stream",
     "text": [
      "{'Test Loss': 0.5054233594546242, 'Test Acc': 0.7498643663194444}\n"
     ]
    }
   ],
   "source": [
    "best_metric = np.inf\n",
    "for e in range(num_epochs):\n",
    "    training(model, optimizer, criterion, train_loader, e, device)\n",
    "    log = testing(model, criterion, valid_loader, device)\n",
    "    print(log)\n",
    "    if log[\"Test Acc\"] < best_metric:\n",
    "        torch.save(model.state_dict(), \"model.pt\")\n",
    "        best_metric = log[\"Test Acc\"]"
   ]
  },
  {
   "cell_type": "code",
   "execution_count": 30,
   "metadata": {
    "id": "a18P1EGUxe3j"
   },
   "outputs": [
    {
     "data": {
      "application/vnd.jupyter.widget-view+json": {
       "model_id": "b2a28a579fd7412e8cd2eaf6a8242428",
       "version_major": 2,
       "version_minor": 0
      },
      "text/plain": [
       "Test Loss: 0, Test Acc: 0:   0%|          | 0/79 [00:00<?, ?it/s]"
      ]
     },
     "metadata": {},
     "output_type": "display_data"
    },
    {
     "name": "stdout",
     "output_type": "stream",
     "text": [
      "{'Test Loss': 0.5269827895526644, 'Test Acc': 0.7346902195411392}\n"
     ]
    }
   ],
   "source": [
    "test_loader = DataLoader(\n",
    "    TwitterDatasetContext(test_data, \"text\", \"emotion\", word2vec, 2), \n",
    "    batch_size=batch_size, \n",
    "    num_workers=num_workers, \n",
    "    shuffle=False,\n",
    "    drop_last=False,\n",
    "    collate_fn=average_emb)\n",
    "\n",
    "model.load_state_dict(torch.load(\"model.pt\", map_location=device))\n",
    "\n",
    "\n",
    "print(testing(model, criterion, test_loader, device=device))"
   ]
  },
  {
   "cell_type": "markdown",
   "metadata": {},
   "source": [
    "## Второй эксперимент."
   ]
  },
  {
   "cell_type": "code",
   "execution_count": 31,
   "metadata": {},
   "outputs": [],
   "source": [
    "from sparsesvd import sparsesvd\n",
    "from sklearn.feature_extraction.text import TfidfVectorizer"
   ]
  },
  {
   "cell_type": "code",
   "execution_count": 32,
   "metadata": {},
   "outputs": [],
   "source": [
    "# Извлечем векторные представления слов в тренировочной выборке. Далее будем использовать их для тренировки и валидации.\n",
    "targets = dev_data[\"text\"]\n",
    "corpus = []\n",
    "tokenizer = nltk.WordPunctTokenizer()\n",
    "for i in range(len(targets)):\n",
    "    tokens = [w for w in tokenizer.tokenize(targets[i]) if all(c not in string.punctuation for c in w) and len(w) > 3]\n",
    "    corpus.append(\" \".join(tokens))\n",
    "vectorizer = TfidfVectorizer(min_df=5)\n",
    "X = vectorizer.fit_transform(corpus)\n",
    "_, _, vt = sparsesvd(X.tocsc(), 300)\n",
    "k, v = vectorizer.get_feature_names(), vt.T\n",
    "tfid = {k[i]: v[i] for i in range(len(v))}                  "
   ]
  },
  {
   "cell_type": "code",
   "execution_count": 33,
   "metadata": {},
   "outputs": [],
   "source": [
    "class TwitterDatasetTfid(Dataset):\n",
    "    def __init__(self, data: pd.DataFrame, feature_column: str, target_column: str, word2vec: gensim.models.Word2Vec, tfid: dict):\n",
    "        self.tokenizer = nltk.WordPunctTokenizer()\n",
    "        \n",
    "        self.data = data\n",
    "\n",
    "        self.feature_column = feature_column\n",
    "        self.target_column = target_column\n",
    "\n",
    "        self.word2vec = word2vec\n",
    "\n",
    "        self.label2num = lambda label: 0 if label == 0 else 1\n",
    "        self.mean = np.mean(word2vec.vectors, axis=0)\n",
    "        self.std = np.std(word2vec.vectors, axis=0)\n",
    "        self.tfid = tfid\n",
    "\n",
    "    def __getitem__(self, item):\n",
    "        text = self.data[self.feature_column][item]\n",
    "        label = self.label2num(self.data[self.target_column][item])\n",
    "\n",
    "        tokens = self.get_tokens_(text)\n",
    "        embeddings = self.get_embeddings_(tokens)\n",
    "\n",
    "        return {\"feature\": embeddings, \"target\": label}\n",
    "\n",
    "    def get_tokens_(self, text):\n",
    "        # Получи все токены из текста и профильтруй их\n",
    "        return [w for w in tokenizer.tokenize(text) if all(c not in string.punctuation for c in w) and len(w) > 3]\n",
    "\n",
    "    def get_embeddings_(self, tokens):\n",
    "        embeddings = []\n",
    "        for i in range(len(tokens)):\n",
    "            if tokens[i] in self.word2vec:\n",
    "                embedding = (self.word2vec.get_vector(tokens[i]) - self.mean) / self.std\n",
    "                embedding += self.tfid[tokens[i]] if tokens[i] in self.tfid else np.zeros((self.word2vec.vector_size))\n",
    "            else:\n",
    "                embedding = self.tfid[tokens[i]] if tokens[i] in self.tfid else np.zeros((self.word2vec.vector_size))\n",
    "            embeddings.append(embedding)\n",
    "\n",
    "        if len(embeddings) == 0:\n",
    "            embeddings = np.zeros((1, self.word2vec.vector_size))\n",
    "        else:\n",
    "            embeddings = np.array(embeddings)\n",
    "            if len(embeddings.shape) == 1:\n",
    "                embeddings = embeddings.reshape(-1, 1)\n",
    "\n",
    "        return embeddings\n",
    "\n",
    "    def __len__(self):\n",
    "        return self.data.shape[0]"
   ]
  },
  {
   "cell_type": "code",
   "execution_count": 34,
   "metadata": {
    "id": "j_uPYWasrzXB"
   },
   "outputs": [],
   "source": [
    "dev = TwitterDatasetTfid(dev_data, \"text\", \"emotion\", word2vec, tfid)"
   ]
  },
  {
   "cell_type": "code",
   "execution_count": 35,
   "metadata": {
    "colab": {
     "base_uri": "https://localhost:8080/"
    },
    "id": "hmGeF9Dew1K-",
    "outputId": "52e0458b-6609-4541-bc81-969efd8b3ec4"
   },
   "outputs": [],
   "source": [
    "train_size = math.ceil(len(dev) * 0.8)\n",
    "\n",
    "train, valid = random_split(dev, [train_size, len(dev) - train_size])\n",
    "\n",
    "train_loader = DataLoader(train, batch_size=batch_size, num_workers=num_workers, shuffle=True, drop_last=True, collate_fn=average_emb)\n",
    "valid_loader = DataLoader(valid, batch_size=batch_size, num_workers=num_workers, shuffle=False, drop_last=False, collate_fn=average_emb)"
   ]
  },
  {
   "cell_type": "code",
   "execution_count": 36,
   "metadata": {
    "id": "IB7umKgxxKB-"
   },
   "outputs": [],
   "source": [
    "model = nn.Sequential(\n",
    "    nn.Linear(vector_size, 128),\n",
    "    nn.ReLU(),\n",
    "    nn.Linear(128, 32),\n",
    "    nn.ReLU(),\n",
    "    nn.Linear(32, 1),\n",
    "    nn.Sigmoid()\n",
    ")\n",
    "model = model.cuda()\n",
    "criterion = nn.BCELoss()\n",
    "optimizer = Adam(model.parameters(), lr=lr)"
   ]
  },
  {
   "cell_type": "code",
   "execution_count": 37,
   "metadata": {
    "colab": {
     "base_uri": "https://localhost:8080/",
     "height": 1000,
     "referenced_widgets": [
      "42b13151e72e41628e7b29853d98ceec",
      "fbfb45886b004160a4d5c3750ba49e30",
      "d1b65629a35649268bb8716624995bb7",
      "7bd23f4158c4418faa85ad06f2e908a0",
      "19b94c534d784d808e2c533b3f4764b5",
      "c8376054ba204ba19087d45e7efc5ae1",
      "1e3800750e9d4413ae76336ddc6b70ce",
      "071bf015009245b0ad17238a8f8d27e7",
      "6640727a6cc04b3fab26e9b7a92ec340",
      "7d06af0399294232b9fba358da64a249",
      "70f30ad5cafc43e4b640a9f306fed047"
     ]
    },
    "id": "rfBOvnmCxQvE",
    "outputId": "b96607e6-0a24-4f90-93ab-58d24d975d23"
   },
   "outputs": [
    {
     "data": {
      "application/vnd.jupyter.widget-view+json": {
       "model_id": "f70f70b5f8e34116ad80db2cb75c4118",
       "version_major": 2,
       "version_minor": 0
      },
      "text/plain": [
       "Epoch 1. Train Loss: 0:   0%|          | 0/250 [00:00<?, ?it/s]"
      ]
     },
     "metadata": {},
     "output_type": "display_data"
    },
    {
     "data": {
      "application/vnd.jupyter.widget-view+json": {
       "model_id": "73b6eefcc5394736827ff009d20f6351",
       "version_major": 2,
       "version_minor": 0
      },
      "text/plain": [
       "Test Loss: 0, Test Acc: 0:   0%|          | 0/63 [00:00<?, ?it/s]"
      ]
     },
     "metadata": {},
     "output_type": "display_data"
    },
    {
     "name": "stdout",
     "output_type": "stream",
     "text": [
      "{'Test Loss': 0.520779101621537, 'Test Acc': 0.7381262400793651}\n"
     ]
    },
    {
     "data": {
      "application/vnd.jupyter.widget-view+json": {
       "model_id": "bde794b741494e2696c6a2315d14f01f",
       "version_major": 2,
       "version_minor": 0
      },
      "text/plain": [
       "Epoch 2. Train Loss: 0:   0%|          | 0/250 [00:00<?, ?it/s]"
      ]
     },
     "metadata": {},
     "output_type": "display_data"
    },
    {
     "data": {
      "application/vnd.jupyter.widget-view+json": {
       "model_id": "bd7d6f1a4ee146199ec319173c5db442",
       "version_major": 2,
       "version_minor": 0
      },
      "text/plain": [
       "Test Loss: 0, Test Acc: 0:   0%|          | 0/63 [00:00<?, ?it/s]"
      ]
     },
     "metadata": {},
     "output_type": "display_data"
    },
    {
     "name": "stdout",
     "output_type": "stream",
     "text": [
      "{'Test Loss': 0.5096210468383062, 'Test Acc': 0.7466905381944444}\n"
     ]
    },
    {
     "data": {
      "application/vnd.jupyter.widget-view+json": {
       "model_id": "8c79d65d9e7c415aa859c0090ab1b8a4",
       "version_major": 2,
       "version_minor": 0
      },
      "text/plain": [
       "Epoch 3. Train Loss: 0:   0%|          | 0/250 [00:00<?, ?it/s]"
      ]
     },
     "metadata": {},
     "output_type": "display_data"
    },
    {
     "data": {
      "application/vnd.jupyter.widget-view+json": {
       "model_id": "14ae799e69e1410aa249f927cbc00bda",
       "version_major": 2,
       "version_minor": 0
      },
      "text/plain": [
       "Test Loss: 0, Test Acc: 0:   0%|          | 0/63 [00:00<?, ?it/s]"
      ]
     },
     "metadata": {},
     "output_type": "display_data"
    },
    {
     "name": "stdout",
     "output_type": "stream",
     "text": [
      "{'Test Loss': 0.5066534578800201, 'Test Acc': 0.7486785404265873}\n"
     ]
    },
    {
     "data": {
      "application/vnd.jupyter.widget-view+json": {
       "model_id": "dfc61d8512ae4e3288c60b172012d199",
       "version_major": 2,
       "version_minor": 0
      },
      "text/plain": [
       "Epoch 4. Train Loss: 0:   0%|          | 0/250 [00:00<?, ?it/s]"
      ]
     },
     "metadata": {},
     "output_type": "display_data"
    },
    {
     "data": {
      "application/vnd.jupyter.widget-view+json": {
       "model_id": "ef3f2167cf9c4b93b74b624d91078d9d",
       "version_major": 2,
       "version_minor": 0
      },
      "text/plain": [
       "Test Loss: 0, Test Acc: 0:   0%|          | 0/63 [00:00<?, ?it/s]"
      ]
     },
     "metadata": {},
     "output_type": "display_data"
    },
    {
     "name": "stdout",
     "output_type": "stream",
     "text": [
      "{'Test Loss': 0.5030642104527306, 'Test Acc': 0.7498062375992064}\n"
     ]
    },
    {
     "data": {
      "application/vnd.jupyter.widget-view+json": {
       "model_id": "a3c17d395bc244bf9ba39266832d256a",
       "version_major": 2,
       "version_minor": 0
      },
      "text/plain": [
       "Epoch 5. Train Loss: 0:   0%|          | 0/250 [00:00<?, ?it/s]"
      ]
     },
     "metadata": {},
     "output_type": "display_data"
    },
    {
     "data": {
      "application/vnd.jupyter.widget-view+json": {
       "model_id": "1b385e15cf53411a89332a8a78dce829",
       "version_major": 2,
       "version_minor": 0
      },
      "text/plain": [
       "Test Loss: 0, Test Acc: 0:   0%|          | 0/63 [00:00<?, ?it/s]"
      ]
     },
     "metadata": {},
     "output_type": "display_data"
    },
    {
     "name": "stdout",
     "output_type": "stream",
     "text": [
      "{'Test Loss': 0.5026620744712769, 'Test Acc': 0.7513137090773809}\n"
     ]
    },
    {
     "data": {
      "application/vnd.jupyter.widget-view+json": {
       "model_id": "f971d74977064e99bbcfb04fede756ca",
       "version_major": 2,
       "version_minor": 0
      },
      "text/plain": [
       "Epoch 6. Train Loss: 0:   0%|          | 0/250 [00:00<?, ?it/s]"
      ]
     },
     "metadata": {},
     "output_type": "display_data"
    },
    {
     "data": {
      "application/vnd.jupyter.widget-view+json": {
       "model_id": "a8c1c2ec4c7c471f887799f52190c2aa",
       "version_major": 2,
       "version_minor": 0
      },
      "text/plain": [
       "Test Loss: 0, Test Acc: 0:   0%|          | 0/63 [00:00<?, ?it/s]"
      ]
     },
     "metadata": {},
     "output_type": "display_data"
    },
    {
     "name": "stdout",
     "output_type": "stream",
     "text": [
      "{'Test Loss': 0.500835389844955, 'Test Acc': 0.7525770399305556}\n"
     ]
    },
    {
     "data": {
      "application/vnd.jupyter.widget-view+json": {
       "model_id": "eb8534024fa5448fb38a1b96796c1cdf",
       "version_major": 2,
       "version_minor": 0
      },
      "text/plain": [
       "Epoch 7. Train Loss: 0:   0%|          | 0/250 [00:00<?, ?it/s]"
      ]
     },
     "metadata": {},
     "output_type": "display_data"
    },
    {
     "data": {
      "application/vnd.jupyter.widget-view+json": {
       "model_id": "43577451eb944409bb3a65adc4bcebca",
       "version_major": 2,
       "version_minor": 0
      },
      "text/plain": [
       "Test Loss: 0, Test Acc: 0:   0%|          | 0/63 [00:00<?, ?it/s]"
      ]
     },
     "metadata": {},
     "output_type": "display_data"
    },
    {
     "name": "stdout",
     "output_type": "stream",
     "text": [
      "{'Test Loss': 0.49857123172472395, 'Test Acc': 0.7540341331845238}\n"
     ]
    },
    {
     "data": {
      "application/vnd.jupyter.widget-view+json": {
       "model_id": "f7611336499b404db2c581ca2fcd6d04",
       "version_major": 2,
       "version_minor": 0
      },
      "text/plain": [
       "Epoch 8. Train Loss: 0:   0%|          | 0/250 [00:00<?, ?it/s]"
      ]
     },
     "metadata": {},
     "output_type": "display_data"
    },
    {
     "data": {
      "application/vnd.jupyter.widget-view+json": {
       "model_id": "9113d738f7b840b597082039706dda18",
       "version_major": 2,
       "version_minor": 0
      },
      "text/plain": [
       "Test Loss: 0, Test Acc: 0:   0%|          | 0/63 [00:00<?, ?it/s]"
      ]
     },
     "metadata": {},
     "output_type": "display_data"
    },
    {
     "name": "stdout",
     "output_type": "stream",
     "text": [
      "{'Test Loss': 0.49858817127015853, 'Test Acc': 0.7542472718253969}\n"
     ]
    },
    {
     "data": {
      "application/vnd.jupyter.widget-view+json": {
       "model_id": "c6dc8feaf6f34ce499450d233794fc88",
       "version_major": 2,
       "version_minor": 0
      },
      "text/plain": [
       "Epoch 9. Train Loss: 0:   0%|          | 0/250 [00:00<?, ?it/s]"
      ]
     },
     "metadata": {},
     "output_type": "display_data"
    },
    {
     "data": {
      "application/vnd.jupyter.widget-view+json": {
       "model_id": "6160002611f34da3b6bf4b68604a101d",
       "version_major": 2,
       "version_minor": 0
      },
      "text/plain": [
       "Test Loss: 0, Test Acc: 0:   0%|          | 0/63 [00:00<?, ?it/s]"
      ]
     },
     "metadata": {},
     "output_type": "display_data"
    },
    {
     "name": "stdout",
     "output_type": "stream",
     "text": [
      "{'Test Loss': 0.4987496833006541, 'Test Acc': 0.7545999193948413}\n"
     ]
    },
    {
     "data": {
      "application/vnd.jupyter.widget-view+json": {
       "model_id": "065cf8b44e6e440bb14d31e05fa0ed06",
       "version_major": 2,
       "version_minor": 0
      },
      "text/plain": [
       "Epoch 10. Train Loss: 0:   0%|          | 0/250 [00:00<?, ?it/s]"
      ]
     },
     "metadata": {},
     "output_type": "display_data"
    },
    {
     "data": {
      "application/vnd.jupyter.widget-view+json": {
       "model_id": "0c815f51d12a49e9a5311ddef378bb24",
       "version_major": 2,
       "version_minor": 0
      },
      "text/plain": [
       "Test Loss: 0, Test Acc: 0:   0%|          | 0/63 [00:00<?, ?it/s]"
      ]
     },
     "metadata": {},
     "output_type": "display_data"
    },
    {
     "name": "stdout",
     "output_type": "stream",
     "text": [
      "{'Test Loss': 0.49861302971839905, 'Test Acc': 0.7536117311507936}\n"
     ]
    }
   ],
   "source": [
    "best_metric = np.inf\n",
    "for e in range(num_epochs):\n",
    "    training(model, optimizer, criterion, train_loader, e, device)\n",
    "    log = testing(model, criterion, valid_loader, device)\n",
    "    print(log)\n",
    "    if log[\"Test Acc\"] < best_metric:\n",
    "        torch.save(model.state_dict(), \"model.pt\")\n",
    "        best_metric = log[\"Test Acc\"]"
   ]
  },
  {
   "cell_type": "code",
   "execution_count": 38,
   "metadata": {},
   "outputs": [
    {
     "data": {
      "application/vnd.jupyter.widget-view+json": {
       "model_id": "27b25318ac6b450fae2260109c246030",
       "version_major": 2,
       "version_minor": 0
      },
      "text/plain": [
       "Test Loss: 0, Test Acc: 0:   0%|          | 0/79 [00:00<?, ?it/s]"
      ]
     },
     "metadata": {},
     "output_type": "display_data"
    },
    {
     "name": "stdout",
     "output_type": "stream",
     "text": [
      "{'Test Loss': 0.5189068430586706, 'Test Acc': 0.7407381081882911}\n"
     ]
    }
   ],
   "source": [
    "test_loader = DataLoader(\n",
    "    TwitterDatasetTfid(test_data, \"text\", \"emotion\", word2vec, tfid), \n",
    "    batch_size=batch_size, \n",
    "    num_workers=num_workers, \n",
    "    shuffle=False,\n",
    "    drop_last=False, \n",
    "    collate_fn=average_emb)\n",
    "\n",
    "model.load_state_dict(torch.load(\"model.pt\", map_location=device))\n",
    "\n",
    "\n",
    "print(testing(model, criterion, test_loader, device=device))"
   ]
  },
  {
   "cell_type": "markdown",
   "metadata": {},
   "source": [
    "# Вывод."
   ]
  },
  {
   "cell_type": "markdown",
   "metadata": {},
   "source": [
    "Метрики моделей на валидации получились такими:"
   ]
  },
  {
   "cell_type": "code",
   "execution_count": 42,
   "metadata": {},
   "outputs": [
    {
     "data": {
      "text/plain": [
       "{'original_model': \"'Test Loss': 0.5210455354255966, 'Test Acc': 0.7398480765427216\",\n",
       " 'context_model': \"'Test Loss': 0.5269827895526644, 'Test Acc': 0.7346902195411392\",\n",
       " 'tfid_model': \"'Test Loss': 0.5189068430586706, 'Test Acc': 0.7407381081882911\"}"
      ]
     },
     "execution_count": 42,
     "metadata": {},
     "output_type": "execute_result"
    }
   ],
   "source": [
    "dict(\n",
    "    original_model=\"'Test Loss': 0.5210455354255966, 'Test Acc': 0.7398480765427216\",\n",
    "    context_model=\"'Test Loss': 0.5269827895526644, 'Test Acc': 0.7346902195411392\",\n",
    "    tfid_model=\"'Test Loss': 0.5189068430586706, 'Test Acc': 0.7407381081882911\"\n",
    ")"
   ]
  },
  {
   "cell_type": "markdown",
   "metadata": {},
   "source": [
    "Добавление контекста ухудшило результат. Здесь возможно несколько причин. Первая - выбран недостаточный размер окна. Вторая - изначально плохой способ кодирования предложения путем сложения векторов токенов усугубился дополнительным преплюсовыванием векторов из контекста. \n",
    "\n",
    "Добавление tfid положительно повлияло на качество модели. Скорее всего это можно объяснить тем, что методы векторизации смотрят по разному на слова, и сумма их эмбеддингов достаточно хорошо кодирует слова в целом."
   ]
  }
 ],
 "metadata": {
  "accelerator": "GPU",
  "colab": {
   "collapsed_sections": [],
   "name": "[homework]embeddings.ipynb",
   "provenance": []
  },
  "kernelspec": {
   "display_name": "Python 3",
   "language": "python",
   "name": "python3"
  },
  "language_info": {
   "codemirror_mode": {
    "name": "ipython",
    "version": 3
   },
   "file_extension": ".py",
   "mimetype": "text/x-python",
   "name": "python",
   "nbconvert_exporter": "python",
   "pygments_lexer": "ipython3",
   "version": "3.8.10"
  },
  "widgets": {
   "application/vnd.jupyter.widget-state+json": {
    "071bf015009245b0ad17238a8f8d27e7": {
     "model_module": "@jupyter-widgets/controls",
     "model_module_version": "1.5.0",
     "model_name": "ProgressStyleModel",
     "state": {
      "_model_module": "@jupyter-widgets/controls",
      "_model_module_version": "1.5.0",
      "_model_name": "ProgressStyleModel",
      "_view_count": null,
      "_view_module": "@jupyter-widgets/base",
      "_view_module_version": "1.2.0",
      "_view_name": "StyleView",
      "bar_color": null,
      "description_width": ""
     }
    },
    "19b94c534d784d808e2c533b3f4764b5": {
     "model_module": "@jupyter-widgets/controls",
     "model_module_version": "1.5.0",
     "model_name": "HTMLModel",
     "state": {
      "_dom_classes": [],
      "_model_module": "@jupyter-widgets/controls",
      "_model_module_version": "1.5.0",
      "_model_name": "HTMLModel",
      "_view_count": null,
      "_view_module": "@jupyter-widgets/controls",
      "_view_module_version": "1.5.0",
      "_view_name": "HTMLView",
      "description": "",
      "description_tooltip": null,
      "layout": "IPY_MODEL_70f30ad5cafc43e4b640a9f306fed047",
      "placeholder": "​",
      "style": "IPY_MODEL_7d06af0399294232b9fba358da64a249",
      "value": " 0/1000 [00:01&lt;?, ?it/s]"
     }
    },
    "1e3800750e9d4413ae76336ddc6b70ce": {
     "model_module": "@jupyter-widgets/base",
     "model_module_version": "1.2.0",
     "model_name": "LayoutModel",
     "state": {
      "_model_module": "@jupyter-widgets/base",
      "_model_module_version": "1.2.0",
      "_model_name": "LayoutModel",
      "_view_count": null,
      "_view_module": "@jupyter-widgets/base",
      "_view_module_version": "1.2.0",
      "_view_name": "LayoutView",
      "align_content": null,
      "align_items": null,
      "align_self": null,
      "border": null,
      "bottom": null,
      "display": null,
      "flex": null,
      "flex_flow": null,
      "grid_area": null,
      "grid_auto_columns": null,
      "grid_auto_flow": null,
      "grid_auto_rows": null,
      "grid_column": null,
      "grid_gap": null,
      "grid_row": null,
      "grid_template_areas": null,
      "grid_template_columns": null,
      "grid_template_rows": null,
      "height": null,
      "justify_content": null,
      "justify_items": null,
      "left": null,
      "margin": null,
      "max_height": null,
      "max_width": null,
      "min_height": null,
      "min_width": null,
      "object_fit": null,
      "object_position": null,
      "order": null,
      "overflow": null,
      "overflow_x": null,
      "overflow_y": null,
      "padding": null,
      "right": null,
      "top": null,
      "visibility": null,
      "width": null
     }
    },
    "42b13151e72e41628e7b29853d98ceec": {
     "model_module": "@jupyter-widgets/controls",
     "model_module_version": "1.5.0",
     "model_name": "HBoxModel",
     "state": {
      "_dom_classes": [],
      "_model_module": "@jupyter-widgets/controls",
      "_model_module_version": "1.5.0",
      "_model_name": "HBoxModel",
      "_view_count": null,
      "_view_module": "@jupyter-widgets/controls",
      "_view_module_version": "1.5.0",
      "_view_name": "HBoxView",
      "box_style": "",
      "children": [
       "IPY_MODEL_d1b65629a35649268bb8716624995bb7",
       "IPY_MODEL_7bd23f4158c4418faa85ad06f2e908a0",
       "IPY_MODEL_19b94c534d784d808e2c533b3f4764b5"
      ],
      "layout": "IPY_MODEL_fbfb45886b004160a4d5c3750ba49e30"
     }
    },
    "6640727a6cc04b3fab26e9b7a92ec340": {
     "model_module": "@jupyter-widgets/base",
     "model_module_version": "1.2.0",
     "model_name": "LayoutModel",
     "state": {
      "_model_module": "@jupyter-widgets/base",
      "_model_module_version": "1.2.0",
      "_model_name": "LayoutModel",
      "_view_count": null,
      "_view_module": "@jupyter-widgets/base",
      "_view_module_version": "1.2.0",
      "_view_name": "LayoutView",
      "align_content": null,
      "align_items": null,
      "align_self": null,
      "border": null,
      "bottom": null,
      "display": null,
      "flex": null,
      "flex_flow": null,
      "grid_area": null,
      "grid_auto_columns": null,
      "grid_auto_flow": null,
      "grid_auto_rows": null,
      "grid_column": null,
      "grid_gap": null,
      "grid_row": null,
      "grid_template_areas": null,
      "grid_template_columns": null,
      "grid_template_rows": null,
      "height": null,
      "justify_content": null,
      "justify_items": null,
      "left": null,
      "margin": null,
      "max_height": null,
      "max_width": null,
      "min_height": null,
      "min_width": null,
      "object_fit": null,
      "object_position": null,
      "order": null,
      "overflow": null,
      "overflow_x": null,
      "overflow_y": null,
      "padding": null,
      "right": null,
      "top": null,
      "visibility": null,
      "width": null
     }
    },
    "70f30ad5cafc43e4b640a9f306fed047": {
     "model_module": "@jupyter-widgets/base",
     "model_module_version": "1.2.0",
     "model_name": "LayoutModel",
     "state": {
      "_model_module": "@jupyter-widgets/base",
      "_model_module_version": "1.2.0",
      "_model_name": "LayoutModel",
      "_view_count": null,
      "_view_module": "@jupyter-widgets/base",
      "_view_module_version": "1.2.0",
      "_view_name": "LayoutView",
      "align_content": null,
      "align_items": null,
      "align_self": null,
      "border": null,
      "bottom": null,
      "display": null,
      "flex": null,
      "flex_flow": null,
      "grid_area": null,
      "grid_auto_columns": null,
      "grid_auto_flow": null,
      "grid_auto_rows": null,
      "grid_column": null,
      "grid_gap": null,
      "grid_row": null,
      "grid_template_areas": null,
      "grid_template_columns": null,
      "grid_template_rows": null,
      "height": null,
      "justify_content": null,
      "justify_items": null,
      "left": null,
      "margin": null,
      "max_height": null,
      "max_width": null,
      "min_height": null,
      "min_width": null,
      "object_fit": null,
      "object_position": null,
      "order": null,
      "overflow": null,
      "overflow_x": null,
      "overflow_y": null,
      "padding": null,
      "right": null,
      "top": null,
      "visibility": null,
      "width": null
     }
    },
    "7bd23f4158c4418faa85ad06f2e908a0": {
     "model_module": "@jupyter-widgets/controls",
     "model_module_version": "1.5.0",
     "model_name": "FloatProgressModel",
     "state": {
      "_dom_classes": [],
      "_model_module": "@jupyter-widgets/controls",
      "_model_module_version": "1.5.0",
      "_model_name": "FloatProgressModel",
      "_view_count": null,
      "_view_module": "@jupyter-widgets/controls",
      "_view_module_version": "1.5.0",
      "_view_name": "ProgressView",
      "bar_style": "danger",
      "description": "",
      "description_tooltip": null,
      "layout": "IPY_MODEL_6640727a6cc04b3fab26e9b7a92ec340",
      "max": 1000,
      "min": 0,
      "orientation": "horizontal",
      "style": "IPY_MODEL_071bf015009245b0ad17238a8f8d27e7",
      "value": 0
     }
    },
    "7d06af0399294232b9fba358da64a249": {
     "model_module": "@jupyter-widgets/controls",
     "model_module_version": "1.5.0",
     "model_name": "DescriptionStyleModel",
     "state": {
      "_model_module": "@jupyter-widgets/controls",
      "_model_module_version": "1.5.0",
      "_model_name": "DescriptionStyleModel",
      "_view_count": null,
      "_view_module": "@jupyter-widgets/base",
      "_view_module_version": "1.2.0",
      "_view_name": "StyleView",
      "description_width": ""
     }
    },
    "c8376054ba204ba19087d45e7efc5ae1": {
     "model_module": "@jupyter-widgets/controls",
     "model_module_version": "1.5.0",
     "model_name": "DescriptionStyleModel",
     "state": {
      "_model_module": "@jupyter-widgets/controls",
      "_model_module_version": "1.5.0",
      "_model_name": "DescriptionStyleModel",
      "_view_count": null,
      "_view_module": "@jupyter-widgets/base",
      "_view_module_version": "1.2.0",
      "_view_name": "StyleView",
      "description_width": ""
     }
    },
    "d1b65629a35649268bb8716624995bb7": {
     "model_module": "@jupyter-widgets/controls",
     "model_module_version": "1.5.0",
     "model_name": "HTMLModel",
     "state": {
      "_dom_classes": [],
      "_model_module": "@jupyter-widgets/controls",
      "_model_module_version": "1.5.0",
      "_model_name": "HTMLModel",
      "_view_count": null,
      "_view_module": "@jupyter-widgets/controls",
      "_view_module_version": "1.5.0",
      "_view_name": "HTMLView",
      "description": "",
      "description_tooltip": null,
      "layout": "IPY_MODEL_1e3800750e9d4413ae76336ddc6b70ce",
      "placeholder": "​",
      "style": "IPY_MODEL_c8376054ba204ba19087d45e7efc5ae1",
      "value": "Epoch 1. Train Loss: 0:   0%"
     }
    },
    "fbfb45886b004160a4d5c3750ba49e30": {
     "model_module": "@jupyter-widgets/base",
     "model_module_version": "1.2.0",
     "model_name": "LayoutModel",
     "state": {
      "_model_module": "@jupyter-widgets/base",
      "_model_module_version": "1.2.0",
      "_model_name": "LayoutModel",
      "_view_count": null,
      "_view_module": "@jupyter-widgets/base",
      "_view_module_version": "1.2.0",
      "_view_name": "LayoutView",
      "align_content": null,
      "align_items": null,
      "align_self": null,
      "border": null,
      "bottom": null,
      "display": null,
      "flex": null,
      "flex_flow": null,
      "grid_area": null,
      "grid_auto_columns": null,
      "grid_auto_flow": null,
      "grid_auto_rows": null,
      "grid_column": null,
      "grid_gap": null,
      "grid_row": null,
      "grid_template_areas": null,
      "grid_template_columns": null,
      "grid_template_rows": null,
      "height": null,
      "justify_content": null,
      "justify_items": null,
      "left": null,
      "margin": null,
      "max_height": null,
      "max_width": null,
      "min_height": null,
      "min_width": null,
      "object_fit": null,
      "object_position": null,
      "order": null,
      "overflow": null,
      "overflow_x": null,
      "overflow_y": null,
      "padding": null,
      "right": null,
      "top": null,
      "visibility": null,
      "width": null
     }
    }
   }
  }
 },
 "nbformat": 4,
 "nbformat_minor": 1
}
