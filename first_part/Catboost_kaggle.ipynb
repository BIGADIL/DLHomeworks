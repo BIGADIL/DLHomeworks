{
 "cells": [
  {
   "cell_type": "markdown",
   "metadata": {
    "id": "TK7oX5qdEEYr"
   },
   "source": [
    "<p style=\"align: center;\"><img align=center src=\"https://s8.hostingkartinok.com/uploads/images/2018/08/308b49fcfbc619d629fe4604bceb67ac.jpg\" width=500 height=450/></p>\n",
    "\n",
    "<h3 style=\"text-align: center;\"><b>Школа глубокого обучения ФПМИ МФТИ</b></h3>\n",
    "\n",
    "<h3 style=\"text-align: center;\"><b>Домашнее задание. Продвинутый поток. Весна 2021</b></h3>\n",
    "\n",
    "Это домашнее задание будет посвящено полноценному решению задачи машинного обучения."
   ]
  },
  {
   "cell_type": "markdown",
   "metadata": {
    "id": "zlB-owfaEEYs"
   },
   "source": [
    "Есть две части этого домашнего задания: \n",
    "* Сделать полноценный отчет о вашей работе: как вы обработали данные, какие модели попробовали и какие результаты получились (максимум 10 баллов). За каждую выполненную часть будет начислено определенное количество баллов.\n",
    "* Лучшее решение отправить в соревнование на [kaggle](https://www.kaggle.com/c/advanced-dls-spring-2021/) (максимум 5 баллов). За прохождение определенного порогов будут начисляться баллы.\n",
    "\n",
    "\n",
    "**Обе части будут проверяться в формате peer-review. Т.е. вашу посылку на степик будут проверять несколько других студентов и аггрегация их оценок будет выставлена. В то же время вам тоже нужно будет проверить несколько других учеников.**\n",
    "\n",
    "**Пожалуйста, делайте свою работу чистой и понятной, чтобы облегчить проверку. Если у вас будут проблемы с решением или хочется совета, то пишите в наш чат в телеграме или в лс @runfme. Если вы захотите проаппелировать оценку, то пипшите в лс @runfme.**\n",
    "\n",
    "**Во всех пунктах указания это минимальный набор вещей, которые стоит сделать. Если вы можете сделать какой-то шаг лучше или добавить что-то свое - дерзайте!**"
   ]
  },
  {
   "cell_type": "markdown",
   "metadata": {
    "id": "Tu_JvqcBEN8Y"
   },
   "source": [
    "# Как проверять?\n",
    "\n",
    "Ставьте полный балл, если выполнены все рекомендации или сделано что-то более интересное и сложное. За каждый отсустствующий пункт из рекомендация снижайте 1 балл."
   ]
  },
  {
   "cell_type": "markdown",
   "metadata": {},
   "source": [
    "## Данные автора"
   ]
  },
  {
   "cell_type": "markdown",
   "metadata": {},
   "source": [
    "Ник на  Kaggle: Alexander_Morshinin\n",
    "\n",
    "Score на момент отправки тетради: 0.84906"
   ]
  },
  {
   "cell_type": "markdown",
   "metadata": {
    "id": "ninJ63mJEEYt"
   },
   "source": [
    "# Метрика\n",
    "\n",
    "Перед решением любой задачи важно понимать, как будет оцениваться ваше решение. В данном случае мы используем стандартную для задачи классификации метрику ROC-AUC. Ее можно вычислить используя только предсказанные вероятности и истинные классы без конкретного порога классификации + она раотает даже если классы в данных сильно несбалансированны (примеров одного класса в десятки раз больше примеров длугого). Именно поэтому она очень удобна для соревнований.\n",
    "\n",
    "Посчитать ее легко:\n"
   ]
  },
  {
   "cell_type": "code",
   "execution_count": 1,
   "metadata": {
    "id": "SQIrka7yEEYu",
    "outputId": "ef45a9f2-7571-47b1-e697-b474b65cb0fb"
   },
   "outputs": [
    {
     "data": {
      "text/plain": [
       "0.8333333333333333"
      ]
     },
     "execution_count": 1,
     "metadata": {},
     "output_type": "execute_result"
    }
   ],
   "source": [
    "from sklearn.metrics import roc_auc_score\n",
    "\n",
    "y_true = [\n",
    "    0,\n",
    "    1,\n",
    "    1,\n",
    "    0,\n",
    "    1\n",
    "]\n",
    "\n",
    "y_predictions = [\n",
    "    0.1,\n",
    "    0.9,\n",
    "    0.4,\n",
    "    0.6,\n",
    "    0.61\n",
    "]\n",
    "\n",
    "roc_auc_score(y_true, y_predictions)"
   ]
  },
  {
   "cell_type": "markdown",
   "metadata": {
    "id": "IrDNNkNTEEYz"
   },
   "source": [
    "# Первая часть. Исследование"
   ]
  },
  {
   "cell_type": "code",
   "execution_count": 2,
   "metadata": {
    "id": "lzLqEeZKEEYz"
   },
   "outputs": [],
   "source": [
    "import pandas as pd\n",
    "import numpy as np\n",
    "from matplotlib import pyplot as plt"
   ]
  },
  {
   "cell_type": "code",
   "execution_count": 3,
   "metadata": {},
   "outputs": [],
   "source": [
    "import warnings\n",
    "warnings.filterwarnings(\"ignore\")"
   ]
  },
  {
   "cell_type": "markdown",
   "metadata": {
    "id": "LOlxdURSEEY3"
   },
   "source": [
    "## Загрузка данных (2 балла)\n",
    "\n",
    "1) Посмотрите на случайные строчки. \n",
    "\n",
    "2) Посмотрите, есть ли в датасете незаполненные значения (nan'ы) с помощью data.isna() или data.info() и, если нужно, замените их на что-то. Будет хорошо, если вы построите табличку с количеством nan в каждой колонке."
   ]
  },
  {
   "cell_type": "code",
   "execution_count": 4,
   "metadata": {
    "id": "pw-Brue9EEY3"
   },
   "outputs": [],
   "source": [
    "data = pd.read_csv('./train.csv')"
   ]
  },
  {
   "cell_type": "code",
   "execution_count": 5,
   "metadata": {
    "id": "KgnkkF5bEEY9"
   },
   "outputs": [],
   "source": [
    "# Для вашего удобства списки с именами разных колонок\n",
    "\n",
    "# Числовые признаки\n",
    "num_cols = [\n",
    "    'ClientPeriod',\n",
    "    'MonthlySpending',\n",
    "    'TotalSpent'\n",
    "]\n",
    "\n",
    "# Категориальные признаки\n",
    "cat_cols = [\n",
    "    'Sex',\n",
    "    'IsSeniorCitizen',\n",
    "    'HasPartner',\n",
    "    'HasChild',\n",
    "    'HasPhoneService',\n",
    "    'HasMultiplePhoneNumbers',\n",
    "    'HasInternetService',\n",
    "    'HasOnlineSecurityService',\n",
    "    'HasOnlineBackup',\n",
    "    'HasDeviceProtection',\n",
    "    'HasTechSupportAccess',\n",
    "    'HasOnlineTV',\n",
    "    'HasMovieSubscription',\n",
    "    'HasContractPhone',\n",
    "    'IsBillingPaperless',\n",
    "    'PaymentMethod'\n",
    "]\n",
    "\n",
    "feature_cols = num_cols + cat_cols\n",
    "target_col = 'Churn'"
   ]
  },
  {
   "cell_type": "markdown",
   "metadata": {},
   "source": [
    "#### Решение"
   ]
  },
  {
   "cell_type": "markdown",
   "metadata": {},
   "source": [
    "1. Сделаем рандомный семпл данных и проведем визуальный анализ."
   ]
  },
  {
   "cell_type": "code",
   "execution_count": 6,
   "metadata": {
    "scrolled": false
   },
   "outputs": [
    {
     "data": {
      "text/html": [
       "<div>\n",
       "<style scoped>\n",
       "    .dataframe tbody tr th:only-of-type {\n",
       "        vertical-align: middle;\n",
       "    }\n",
       "\n",
       "    .dataframe tbody tr th {\n",
       "        vertical-align: top;\n",
       "    }\n",
       "\n",
       "    .dataframe thead th {\n",
       "        text-align: right;\n",
       "    }\n",
       "</style>\n",
       "<table border=\"1\" class=\"dataframe\">\n",
       "  <thead>\n",
       "    <tr style=\"text-align: right;\">\n",
       "      <th></th>\n",
       "      <th>ClientPeriod</th>\n",
       "      <th>MonthlySpending</th>\n",
       "      <th>TotalSpent</th>\n",
       "      <th>Sex</th>\n",
       "      <th>IsSeniorCitizen</th>\n",
       "      <th>HasPartner</th>\n",
       "      <th>HasChild</th>\n",
       "      <th>HasPhoneService</th>\n",
       "      <th>HasMultiplePhoneNumbers</th>\n",
       "      <th>HasInternetService</th>\n",
       "      <th>HasOnlineSecurityService</th>\n",
       "      <th>HasOnlineBackup</th>\n",
       "      <th>HasDeviceProtection</th>\n",
       "      <th>HasTechSupportAccess</th>\n",
       "      <th>HasOnlineTV</th>\n",
       "      <th>HasMovieSubscription</th>\n",
       "      <th>HasContractPhone</th>\n",
       "      <th>IsBillingPaperless</th>\n",
       "      <th>PaymentMethod</th>\n",
       "      <th>Churn</th>\n",
       "    </tr>\n",
       "  </thead>\n",
       "  <tbody>\n",
       "    <tr>\n",
       "      <th>1048</th>\n",
       "      <td>0</td>\n",
       "      <td>25.75</td>\n",
       "      <td></td>\n",
       "      <td>Male</td>\n",
       "      <td>0</td>\n",
       "      <td>Yes</td>\n",
       "      <td>Yes</td>\n",
       "      <td>Yes</td>\n",
       "      <td>Yes</td>\n",
       "      <td>No</td>\n",
       "      <td>No internet service</td>\n",
       "      <td>No internet service</td>\n",
       "      <td>No internet service</td>\n",
       "      <td>No internet service</td>\n",
       "      <td>No internet service</td>\n",
       "      <td>No internet service</td>\n",
       "      <td>Two year</td>\n",
       "      <td>No</td>\n",
       "      <td>Mailed check</td>\n",
       "      <td>0</td>\n",
       "    </tr>\n",
       "    <tr>\n",
       "      <th>218</th>\n",
       "      <td>31</td>\n",
       "      <td>50.40</td>\n",
       "      <td>1580.1</td>\n",
       "      <td>Female</td>\n",
       "      <td>1</td>\n",
       "      <td>Yes</td>\n",
       "      <td>No</td>\n",
       "      <td>No</td>\n",
       "      <td>No phone service</td>\n",
       "      <td>DSL</td>\n",
       "      <td>Yes</td>\n",
       "      <td>Yes</td>\n",
       "      <td>Yes</td>\n",
       "      <td>No</td>\n",
       "      <td>No</td>\n",
       "      <td>Yes</td>\n",
       "      <td>One year</td>\n",
       "      <td>Yes</td>\n",
       "      <td>Credit card (automatic)</td>\n",
       "      <td>0</td>\n",
       "    </tr>\n",
       "    <tr>\n",
       "      <th>1938</th>\n",
       "      <td>25</td>\n",
       "      <td>98.50</td>\n",
       "      <td>2514.5</td>\n",
       "      <td>Female</td>\n",
       "      <td>1</td>\n",
       "      <td>Yes</td>\n",
       "      <td>No</td>\n",
       "      <td>Yes</td>\n",
       "      <td>No</td>\n",
       "      <td>Fiber optic</td>\n",
       "      <td>No</td>\n",
       "      <td>Yes</td>\n",
       "      <td>Yes</td>\n",
       "      <td>No</td>\n",
       "      <td>Yes</td>\n",
       "      <td>Yes</td>\n",
       "      <td>Month-to-month</td>\n",
       "      <td>Yes</td>\n",
       "      <td>Electronic check</td>\n",
       "      <td>1</td>\n",
       "    </tr>\n",
       "    <tr>\n",
       "      <th>4332</th>\n",
       "      <td>11</td>\n",
       "      <td>20.10</td>\n",
       "      <td>221.35</td>\n",
       "      <td>Female</td>\n",
       "      <td>0</td>\n",
       "      <td>No</td>\n",
       "      <td>Yes</td>\n",
       "      <td>Yes</td>\n",
       "      <td>No</td>\n",
       "      <td>No</td>\n",
       "      <td>No internet service</td>\n",
       "      <td>No internet service</td>\n",
       "      <td>No internet service</td>\n",
       "      <td>No internet service</td>\n",
       "      <td>No internet service</td>\n",
       "      <td>No internet service</td>\n",
       "      <td>Month-to-month</td>\n",
       "      <td>No</td>\n",
       "      <td>Credit card (automatic)</td>\n",
       "      <td>1</td>\n",
       "    </tr>\n",
       "    <tr>\n",
       "      <th>579</th>\n",
       "      <td>53</td>\n",
       "      <td>108.25</td>\n",
       "      <td>5935.1</td>\n",
       "      <td>Female</td>\n",
       "      <td>0</td>\n",
       "      <td>Yes</td>\n",
       "      <td>Yes</td>\n",
       "      <td>Yes</td>\n",
       "      <td>No</td>\n",
       "      <td>Fiber optic</td>\n",
       "      <td>No</td>\n",
       "      <td>Yes</td>\n",
       "      <td>Yes</td>\n",
       "      <td>Yes</td>\n",
       "      <td>Yes</td>\n",
       "      <td>Yes</td>\n",
       "      <td>Month-to-month</td>\n",
       "      <td>Yes</td>\n",
       "      <td>Bank transfer (automatic)</td>\n",
       "      <td>0</td>\n",
       "    </tr>\n",
       "    <tr>\n",
       "      <th>3932</th>\n",
       "      <td>8</td>\n",
       "      <td>66.70</td>\n",
       "      <td>579</td>\n",
       "      <td>Male</td>\n",
       "      <td>0</td>\n",
       "      <td>No</td>\n",
       "      <td>No</td>\n",
       "      <td>Yes</td>\n",
       "      <td>No</td>\n",
       "      <td>DSL</td>\n",
       "      <td>Yes</td>\n",
       "      <td>No</td>\n",
       "      <td>Yes</td>\n",
       "      <td>No</td>\n",
       "      <td>No</td>\n",
       "      <td>Yes</td>\n",
       "      <td>Month-to-month</td>\n",
       "      <td>Yes</td>\n",
       "      <td>Electronic check</td>\n",
       "      <td>0</td>\n",
       "    </tr>\n",
       "    <tr>\n",
       "      <th>87</th>\n",
       "      <td>11</td>\n",
       "      <td>50.55</td>\n",
       "      <td>565.35</td>\n",
       "      <td>Female</td>\n",
       "      <td>0</td>\n",
       "      <td>Yes</td>\n",
       "      <td>Yes</td>\n",
       "      <td>No</td>\n",
       "      <td>No phone service</td>\n",
       "      <td>DSL</td>\n",
       "      <td>Yes</td>\n",
       "      <td>No</td>\n",
       "      <td>No</td>\n",
       "      <td>No</td>\n",
       "      <td>Yes</td>\n",
       "      <td>Yes</td>\n",
       "      <td>Month-to-month</td>\n",
       "      <td>No</td>\n",
       "      <td>Electronic check</td>\n",
       "      <td>0</td>\n",
       "    </tr>\n",
       "    <tr>\n",
       "      <th>4259</th>\n",
       "      <td>71</td>\n",
       "      <td>109.60</td>\n",
       "      <td>7854.15</td>\n",
       "      <td>Male</td>\n",
       "      <td>0</td>\n",
       "      <td>Yes</td>\n",
       "      <td>No</td>\n",
       "      <td>Yes</td>\n",
       "      <td>Yes</td>\n",
       "      <td>Fiber optic</td>\n",
       "      <td>Yes</td>\n",
       "      <td>Yes</td>\n",
       "      <td>Yes</td>\n",
       "      <td>No</td>\n",
       "      <td>Yes</td>\n",
       "      <td>Yes</td>\n",
       "      <td>One year</td>\n",
       "      <td>Yes</td>\n",
       "      <td>Electronic check</td>\n",
       "      <td>0</td>\n",
       "    </tr>\n",
       "    <tr>\n",
       "      <th>1850</th>\n",
       "      <td>21</td>\n",
       "      <td>75.30</td>\n",
       "      <td>1570.7</td>\n",
       "      <td>Male</td>\n",
       "      <td>0</td>\n",
       "      <td>No</td>\n",
       "      <td>No</td>\n",
       "      <td>Yes</td>\n",
       "      <td>Yes</td>\n",
       "      <td>Fiber optic</td>\n",
       "      <td>No</td>\n",
       "      <td>No</td>\n",
       "      <td>No</td>\n",
       "      <td>No</td>\n",
       "      <td>No</td>\n",
       "      <td>No</td>\n",
       "      <td>Month-to-month</td>\n",
       "      <td>No</td>\n",
       "      <td>Mailed check</td>\n",
       "      <td>0</td>\n",
       "    </tr>\n",
       "    <tr>\n",
       "      <th>1379</th>\n",
       "      <td>24</td>\n",
       "      <td>20.80</td>\n",
       "      <td>469.65</td>\n",
       "      <td>Male</td>\n",
       "      <td>0</td>\n",
       "      <td>Yes</td>\n",
       "      <td>Yes</td>\n",
       "      <td>Yes</td>\n",
       "      <td>No</td>\n",
       "      <td>No</td>\n",
       "      <td>No internet service</td>\n",
       "      <td>No internet service</td>\n",
       "      <td>No internet service</td>\n",
       "      <td>No internet service</td>\n",
       "      <td>No internet service</td>\n",
       "      <td>No internet service</td>\n",
       "      <td>One year</td>\n",
       "      <td>Yes</td>\n",
       "      <td>Credit card (automatic)</td>\n",
       "      <td>0</td>\n",
       "    </tr>\n",
       "    <tr>\n",
       "      <th>3137</th>\n",
       "      <td>1</td>\n",
       "      <td>44.45</td>\n",
       "      <td>44.45</td>\n",
       "      <td>Male</td>\n",
       "      <td>0</td>\n",
       "      <td>No</td>\n",
       "      <td>No</td>\n",
       "      <td>Yes</td>\n",
       "      <td>No</td>\n",
       "      <td>DSL</td>\n",
       "      <td>No</td>\n",
       "      <td>No</td>\n",
       "      <td>No</td>\n",
       "      <td>No</td>\n",
       "      <td>No</td>\n",
       "      <td>No</td>\n",
       "      <td>Month-to-month</td>\n",
       "      <td>No</td>\n",
       "      <td>Mailed check</td>\n",
       "      <td>0</td>\n",
       "    </tr>\n",
       "    <tr>\n",
       "      <th>2878</th>\n",
       "      <td>47</td>\n",
       "      <td>74.45</td>\n",
       "      <td>3510.3</td>\n",
       "      <td>Female</td>\n",
       "      <td>0</td>\n",
       "      <td>No</td>\n",
       "      <td>No</td>\n",
       "      <td>Yes</td>\n",
       "      <td>No</td>\n",
       "      <td>DSL</td>\n",
       "      <td>No</td>\n",
       "      <td>No</td>\n",
       "      <td>Yes</td>\n",
       "      <td>Yes</td>\n",
       "      <td>Yes</td>\n",
       "      <td>Yes</td>\n",
       "      <td>Two year</td>\n",
       "      <td>No</td>\n",
       "      <td>Mailed check</td>\n",
       "      <td>0</td>\n",
       "    </tr>\n",
       "    <tr>\n",
       "      <th>2557</th>\n",
       "      <td>49</td>\n",
       "      <td>85.30</td>\n",
       "      <td>4297.95</td>\n",
       "      <td>Male</td>\n",
       "      <td>0</td>\n",
       "      <td>Yes</td>\n",
       "      <td>No</td>\n",
       "      <td>Yes</td>\n",
       "      <td>No</td>\n",
       "      <td>Fiber optic</td>\n",
       "      <td>No</td>\n",
       "      <td>Yes</td>\n",
       "      <td>No</td>\n",
       "      <td>No</td>\n",
       "      <td>Yes</td>\n",
       "      <td>No</td>\n",
       "      <td>Month-to-month</td>\n",
       "      <td>Yes</td>\n",
       "      <td>Credit card (automatic)</td>\n",
       "      <td>0</td>\n",
       "    </tr>\n",
       "    <tr>\n",
       "      <th>1738</th>\n",
       "      <td>12</td>\n",
       "      <td>99.45</td>\n",
       "      <td>1200.15</td>\n",
       "      <td>Male</td>\n",
       "      <td>1</td>\n",
       "      <td>No</td>\n",
       "      <td>No</td>\n",
       "      <td>Yes</td>\n",
       "      <td>Yes</td>\n",
       "      <td>Fiber optic</td>\n",
       "      <td>No</td>\n",
       "      <td>No</td>\n",
       "      <td>Yes</td>\n",
       "      <td>No</td>\n",
       "      <td>Yes</td>\n",
       "      <td>Yes</td>\n",
       "      <td>Month-to-month</td>\n",
       "      <td>Yes</td>\n",
       "      <td>Electronic check</td>\n",
       "      <td>1</td>\n",
       "    </tr>\n",
       "    <tr>\n",
       "      <th>4207</th>\n",
       "      <td>4</td>\n",
       "      <td>45.30</td>\n",
       "      <td>196.95</td>\n",
       "      <td>Female</td>\n",
       "      <td>0</td>\n",
       "      <td>No</td>\n",
       "      <td>No</td>\n",
       "      <td>Yes</td>\n",
       "      <td>No</td>\n",
       "      <td>DSL</td>\n",
       "      <td>No</td>\n",
       "      <td>No</td>\n",
       "      <td>No</td>\n",
       "      <td>No</td>\n",
       "      <td>No</td>\n",
       "      <td>No</td>\n",
       "      <td>Month-to-month</td>\n",
       "      <td>Yes</td>\n",
       "      <td>Mailed check</td>\n",
       "      <td>1</td>\n",
       "    </tr>\n",
       "    <tr>\n",
       "      <th>3837</th>\n",
       "      <td>3</td>\n",
       "      <td>80.30</td>\n",
       "      <td>250.05</td>\n",
       "      <td>Female</td>\n",
       "      <td>0</td>\n",
       "      <td>Yes</td>\n",
       "      <td>Yes</td>\n",
       "      <td>Yes</td>\n",
       "      <td>No</td>\n",
       "      <td>Fiber optic</td>\n",
       "      <td>No</td>\n",
       "      <td>No</td>\n",
       "      <td>No</td>\n",
       "      <td>No</td>\n",
       "      <td>No</td>\n",
       "      <td>Yes</td>\n",
       "      <td>Month-to-month</td>\n",
       "      <td>Yes</td>\n",
       "      <td>Electronic check</td>\n",
       "      <td>1</td>\n",
       "    </tr>\n",
       "    <tr>\n",
       "      <th>1932</th>\n",
       "      <td>14</td>\n",
       "      <td>86.30</td>\n",
       "      <td>1180.95</td>\n",
       "      <td>Female</td>\n",
       "      <td>0</td>\n",
       "      <td>No</td>\n",
       "      <td>No</td>\n",
       "      <td>Yes</td>\n",
       "      <td>No</td>\n",
       "      <td>Fiber optic</td>\n",
       "      <td>No</td>\n",
       "      <td>Yes</td>\n",
       "      <td>No</td>\n",
       "      <td>No</td>\n",
       "      <td>No</td>\n",
       "      <td>Yes</td>\n",
       "      <td>Month-to-month</td>\n",
       "      <td>Yes</td>\n",
       "      <td>Electronic check</td>\n",
       "      <td>1</td>\n",
       "    </tr>\n",
       "    <tr>\n",
       "      <th>5179</th>\n",
       "      <td>71</td>\n",
       "      <td>73.35</td>\n",
       "      <td>5154.5</td>\n",
       "      <td>Male</td>\n",
       "      <td>0</td>\n",
       "      <td>Yes</td>\n",
       "      <td>Yes</td>\n",
       "      <td>Yes</td>\n",
       "      <td>No</td>\n",
       "      <td>DSL</td>\n",
       "      <td>No</td>\n",
       "      <td>Yes</td>\n",
       "      <td>No</td>\n",
       "      <td>Yes</td>\n",
       "      <td>Yes</td>\n",
       "      <td>Yes</td>\n",
       "      <td>Two year</td>\n",
       "      <td>Yes</td>\n",
       "      <td>Credit card (automatic)</td>\n",
       "      <td>0</td>\n",
       "    </tr>\n",
       "    <tr>\n",
       "      <th>1530</th>\n",
       "      <td>72</td>\n",
       "      <td>65.55</td>\n",
       "      <td>4807.45</td>\n",
       "      <td>Male</td>\n",
       "      <td>0</td>\n",
       "      <td>No</td>\n",
       "      <td>No</td>\n",
       "      <td>No</td>\n",
       "      <td>No phone service</td>\n",
       "      <td>DSL</td>\n",
       "      <td>Yes</td>\n",
       "      <td>Yes</td>\n",
       "      <td>Yes</td>\n",
       "      <td>Yes</td>\n",
       "      <td>Yes</td>\n",
       "      <td>Yes</td>\n",
       "      <td>Two year</td>\n",
       "      <td>Yes</td>\n",
       "      <td>Bank transfer (automatic)</td>\n",
       "      <td>0</td>\n",
       "    </tr>\n",
       "    <tr>\n",
       "      <th>4132</th>\n",
       "      <td>71</td>\n",
       "      <td>105.55</td>\n",
       "      <td>7405.5</td>\n",
       "      <td>Male</td>\n",
       "      <td>0</td>\n",
       "      <td>Yes</td>\n",
       "      <td>Yes</td>\n",
       "      <td>Yes</td>\n",
       "      <td>Yes</td>\n",
       "      <td>Fiber optic</td>\n",
       "      <td>Yes</td>\n",
       "      <td>No</td>\n",
       "      <td>Yes</td>\n",
       "      <td>No</td>\n",
       "      <td>Yes</td>\n",
       "      <td>Yes</td>\n",
       "      <td>Two year</td>\n",
       "      <td>No</td>\n",
       "      <td>Electronic check</td>\n",
       "      <td>0</td>\n",
       "    </tr>\n",
       "  </tbody>\n",
       "</table>\n",
       "</div>"
      ],
      "text/plain": [
       "      ClientPeriod  MonthlySpending TotalSpent     Sex  IsSeniorCitizen  \\\n",
       "1048             0            25.75               Male                0   \n",
       "218             31            50.40     1580.1  Female                1   \n",
       "1938            25            98.50     2514.5  Female                1   \n",
       "4332            11            20.10     221.35  Female                0   \n",
       "579             53           108.25     5935.1  Female                0   \n",
       "3932             8            66.70        579    Male                0   \n",
       "87              11            50.55     565.35  Female                0   \n",
       "4259            71           109.60    7854.15    Male                0   \n",
       "1850            21            75.30     1570.7    Male                0   \n",
       "1379            24            20.80     469.65    Male                0   \n",
       "3137             1            44.45      44.45    Male                0   \n",
       "2878            47            74.45     3510.3  Female                0   \n",
       "2557            49            85.30    4297.95    Male                0   \n",
       "1738            12            99.45    1200.15    Male                1   \n",
       "4207             4            45.30     196.95  Female                0   \n",
       "3837             3            80.30     250.05  Female                0   \n",
       "1932            14            86.30    1180.95  Female                0   \n",
       "5179            71            73.35     5154.5    Male                0   \n",
       "1530            72            65.55    4807.45    Male                0   \n",
       "4132            71           105.55     7405.5    Male                0   \n",
       "\n",
       "     HasPartner HasChild HasPhoneService HasMultiplePhoneNumbers  \\\n",
       "1048        Yes      Yes             Yes                     Yes   \n",
       "218         Yes       No              No        No phone service   \n",
       "1938        Yes       No             Yes                      No   \n",
       "4332         No      Yes             Yes                      No   \n",
       "579         Yes      Yes             Yes                      No   \n",
       "3932         No       No             Yes                      No   \n",
       "87          Yes      Yes              No        No phone service   \n",
       "4259        Yes       No             Yes                     Yes   \n",
       "1850         No       No             Yes                     Yes   \n",
       "1379        Yes      Yes             Yes                      No   \n",
       "3137         No       No             Yes                      No   \n",
       "2878         No       No             Yes                      No   \n",
       "2557        Yes       No             Yes                      No   \n",
       "1738         No       No             Yes                     Yes   \n",
       "4207         No       No             Yes                      No   \n",
       "3837        Yes      Yes             Yes                      No   \n",
       "1932         No       No             Yes                      No   \n",
       "5179        Yes      Yes             Yes                      No   \n",
       "1530         No       No              No        No phone service   \n",
       "4132        Yes      Yes             Yes                     Yes   \n",
       "\n",
       "     HasInternetService HasOnlineSecurityService      HasOnlineBackup  \\\n",
       "1048                 No      No internet service  No internet service   \n",
       "218                 DSL                      Yes                  Yes   \n",
       "1938        Fiber optic                       No                  Yes   \n",
       "4332                 No      No internet service  No internet service   \n",
       "579         Fiber optic                       No                  Yes   \n",
       "3932                DSL                      Yes                   No   \n",
       "87                  DSL                      Yes                   No   \n",
       "4259        Fiber optic                      Yes                  Yes   \n",
       "1850        Fiber optic                       No                   No   \n",
       "1379                 No      No internet service  No internet service   \n",
       "3137                DSL                       No                   No   \n",
       "2878                DSL                       No                   No   \n",
       "2557        Fiber optic                       No                  Yes   \n",
       "1738        Fiber optic                       No                   No   \n",
       "4207                DSL                       No                   No   \n",
       "3837        Fiber optic                       No                   No   \n",
       "1932        Fiber optic                       No                  Yes   \n",
       "5179                DSL                       No                  Yes   \n",
       "1530                DSL                      Yes                  Yes   \n",
       "4132        Fiber optic                      Yes                   No   \n",
       "\n",
       "      HasDeviceProtection HasTechSupportAccess          HasOnlineTV  \\\n",
       "1048  No internet service  No internet service  No internet service   \n",
       "218                   Yes                   No                   No   \n",
       "1938                  Yes                   No                  Yes   \n",
       "4332  No internet service  No internet service  No internet service   \n",
       "579                   Yes                  Yes                  Yes   \n",
       "3932                  Yes                   No                   No   \n",
       "87                     No                   No                  Yes   \n",
       "4259                  Yes                   No                  Yes   \n",
       "1850                   No                   No                   No   \n",
       "1379  No internet service  No internet service  No internet service   \n",
       "3137                   No                   No                   No   \n",
       "2878                  Yes                  Yes                  Yes   \n",
       "2557                   No                   No                  Yes   \n",
       "1738                  Yes                   No                  Yes   \n",
       "4207                   No                   No                   No   \n",
       "3837                   No                   No                   No   \n",
       "1932                   No                   No                   No   \n",
       "5179                   No                  Yes                  Yes   \n",
       "1530                  Yes                  Yes                  Yes   \n",
       "4132                  Yes                   No                  Yes   \n",
       "\n",
       "     HasMovieSubscription HasContractPhone IsBillingPaperless  \\\n",
       "1048  No internet service         Two year                 No   \n",
       "218                   Yes         One year                Yes   \n",
       "1938                  Yes   Month-to-month                Yes   \n",
       "4332  No internet service   Month-to-month                 No   \n",
       "579                   Yes   Month-to-month                Yes   \n",
       "3932                  Yes   Month-to-month                Yes   \n",
       "87                    Yes   Month-to-month                 No   \n",
       "4259                  Yes         One year                Yes   \n",
       "1850                   No   Month-to-month                 No   \n",
       "1379  No internet service         One year                Yes   \n",
       "3137                   No   Month-to-month                 No   \n",
       "2878                  Yes         Two year                 No   \n",
       "2557                   No   Month-to-month                Yes   \n",
       "1738                  Yes   Month-to-month                Yes   \n",
       "4207                   No   Month-to-month                Yes   \n",
       "3837                  Yes   Month-to-month                Yes   \n",
       "1932                  Yes   Month-to-month                Yes   \n",
       "5179                  Yes         Two year                Yes   \n",
       "1530                  Yes         Two year                Yes   \n",
       "4132                  Yes         Two year                 No   \n",
       "\n",
       "                  PaymentMethod  Churn  \n",
       "1048               Mailed check      0  \n",
       "218     Credit card (automatic)      0  \n",
       "1938           Electronic check      1  \n",
       "4332    Credit card (automatic)      1  \n",
       "579   Bank transfer (automatic)      0  \n",
       "3932           Electronic check      0  \n",
       "87             Electronic check      0  \n",
       "4259           Electronic check      0  \n",
       "1850               Mailed check      0  \n",
       "1379    Credit card (automatic)      0  \n",
       "3137               Mailed check      0  \n",
       "2878               Mailed check      0  \n",
       "2557    Credit card (automatic)      0  \n",
       "1738           Electronic check      1  \n",
       "4207               Mailed check      1  \n",
       "3837           Electronic check      1  \n",
       "1932           Electronic check      1  \n",
       "5179    Credit card (automatic)      0  \n",
       "1530  Bank transfer (automatic)      0  \n",
       "4132           Electronic check      0  "
      ]
     },
     "execution_count": 6,
     "metadata": {},
     "output_type": "execute_result"
    }
   ],
   "source": [
    "data.sample(n=20, random_state=11)"
   ]
  },
  {
   "cell_type": "markdown",
   "metadata": {},
   "source": [
    "**Вывод**: визуальный анализ обнаружил пропуск значения признака *TotalSpent* в строке с индексом 1048. Зная, что этот признак является числовым, далее будет необходимо заменить его некоторым значением."
   ]
  },
  {
   "cell_type": "markdown",
   "metadata": {},
   "source": [
    "2. Посмотрим на NaN в данных."
   ]
  },
  {
   "cell_type": "code",
   "execution_count": 7,
   "metadata": {
    "id": "tHC6gWabEEZA"
   },
   "outputs": [
    {
     "name": "stdout",
     "output_type": "stream",
     "text": [
      "<class 'pandas.core.frame.DataFrame'>\n",
      "RangeIndex: 5282 entries, 0 to 5281\n",
      "Data columns (total 20 columns):\n",
      " #   Column                    Non-Null Count  Dtype  \n",
      "---  ------                    --------------  -----  \n",
      " 0   ClientPeriod              5282 non-null   int64  \n",
      " 1   MonthlySpending           5282 non-null   float64\n",
      " 2   TotalSpent                5282 non-null   object \n",
      " 3   Sex                       5282 non-null   object \n",
      " 4   IsSeniorCitizen           5282 non-null   int64  \n",
      " 5   HasPartner                5282 non-null   object \n",
      " 6   HasChild                  5282 non-null   object \n",
      " 7   HasPhoneService           5282 non-null   object \n",
      " 8   HasMultiplePhoneNumbers   5282 non-null   object \n",
      " 9   HasInternetService        5282 non-null   object \n",
      " 10  HasOnlineSecurityService  5282 non-null   object \n",
      " 11  HasOnlineBackup           5282 non-null   object \n",
      " 12  HasDeviceProtection       5282 non-null   object \n",
      " 13  HasTechSupportAccess      5282 non-null   object \n",
      " 14  HasOnlineTV               5282 non-null   object \n",
      " 15  HasMovieSubscription      5282 non-null   object \n",
      " 16  HasContractPhone          5282 non-null   object \n",
      " 17  IsBillingPaperless        5282 non-null   object \n",
      " 18  PaymentMethod             5282 non-null   object \n",
      " 19  Churn                     5282 non-null   int64  \n",
      "dtypes: float64(1), int64(3), object(16)\n",
      "memory usage: 825.4+ KB\n"
     ]
    }
   ],
   "source": [
    "data.info()"
   ]
  },
  {
   "cell_type": "markdown",
   "metadata": {},
   "source": [
    "Построим табличку NaN для каждого признака."
   ]
  },
  {
   "cell_type": "code",
   "execution_count": 8,
   "metadata": {},
   "outputs": [
    {
     "data": {
      "text/plain": [
       "ClientPeriod                0\n",
       "MonthlySpending             0\n",
       "TotalSpent                  0\n",
       "Sex                         0\n",
       "IsSeniorCitizen             0\n",
       "HasPartner                  0\n",
       "HasChild                    0\n",
       "HasPhoneService             0\n",
       "HasMultiplePhoneNumbers     0\n",
       "HasInternetService          0\n",
       "HasOnlineSecurityService    0\n",
       "HasOnlineBackup             0\n",
       "HasDeviceProtection         0\n",
       "HasTechSupportAccess        0\n",
       "HasOnlineTV                 0\n",
       "HasMovieSubscription        0\n",
       "HasContractPhone            0\n",
       "IsBillingPaperless          0\n",
       "PaymentMethod               0\n",
       "Churn                       0\n",
       "dtype: int64"
      ]
     },
     "execution_count": 8,
     "metadata": {},
     "output_type": "execute_result"
    }
   ],
   "source": [
    "data.isnull().sum(axis=0)"
   ]
  },
  {
   "cell_type": "markdown",
   "metadata": {},
   "source": [
    "**Вывод**: в данных нет NaN. Но мы уже знаем, что признак **TotalSpent** имеет тип object и содержит пропуски. Значит пропуски в датасете могут быть заданы не только с помощью NaN, но и пустыми строками."
   ]
  },
  {
   "cell_type": "markdown",
   "metadata": {
    "id": "dK370bPCEEZD"
   },
   "source": [
    "## Анализ данных (3 балла)\n",
    "\n",
    "1) Для численных призанков постройте гистограмму (*plt.hist(...)*) или boxplot (*plt.boxplot(...)*). Для категориальных посчитайте количество каждого значения для каждого признака. Для каждой колонки надо сделать *data.value_counts()* и построить bar диаграммы *plt.bar(...)* или круговые диаграммы *plt.pie(...)* (хорошо, елси вы сможете это сделать на одном гарфике с помощью *plt.subplots(...)*). \n",
    "\n",
    "2) Посмотрите на распределение целевой переменной и скажите, являются ли классы несбалансированными.\n",
    "\n",
    "3) (Если будет желание) Поиграйте с разными библиотеками для визуализации - *sns*, *pandas_visual_analysis*, etc.\n",
    "\n",
    "Второй пункт очень важен, потому что существуют задачи классификации с несбалансированными классами. Например, это может значить, что в датасете намного больше примеров 0 класса. В таких случаях нужно 1) не использовать accuracy как метрику 2) использовать методы борьбы с imbalanced dataset (обычно если датасет сильно несбалансирован, т.е. класса 1 в 20 раз меньше класса 0)."
   ]
  },
  {
   "cell_type": "markdown",
   "metadata": {
    "id": "zg60u3QDEEZH"
   },
   "source": [
    "(Дополнительно) Если вы нашли какие-то ошибки в данных или выбросы, то можете их убрать. Тут можно поэксперементировать с обработкой данных как угодно, но не за баллы."
   ]
  },
  {
   "cell_type": "markdown",
   "metadata": {},
   "source": [
    "#### Решение"
   ]
  },
  {
   "cell_type": "markdown",
   "metadata": {},
   "source": [
    "1. *Предворительно исследуем признак **TotalSpent**, чтобы понять, какие значения он имеет и как заполнить пропуски.*"
   ]
  },
  {
   "cell_type": "code",
   "execution_count": 9,
   "metadata": {},
   "outputs": [
    {
     "data": {
      "text/plain": [
       "<matplotlib.axes._subplots.AxesSubplot at 0x1f8eaef60b8>"
      ]
     },
     "execution_count": 9,
     "metadata": {},
     "output_type": "execute_result"
    },
    {
     "data": {
      "image/png": "[encoded data removed]",
      "text/plain": [
       "<Figure size 432x288 with 1 Axes>"
      ]
     },
     "metadata": {
      "needs_background": "light"
     },
     "output_type": "display_data"
    }
   ],
   "source": [
    "data[data['TotalSpent'] != ' ']['TotalSpent'].astype(\"float64\").plot.hist()"
   ]
  },
  {
   "cell_type": "markdown",
   "metadata": {},
   "source": [
    "Видим, что признак распределен не по нормальному закону (скорее экспоненциальное распределение). Целесообразно заменить пропущенные значения медианой распределения."
   ]
  },
  {
   "cell_type": "code",
   "execution_count": 10,
   "metadata": {},
   "outputs": [],
   "source": [
    "total_spent_median = data[data['TotalSpent'] != ' ']['TotalSpent'].astype(\"float64\").median()"
   ]
  },
  {
   "cell_type": "code",
   "execution_count": 11,
   "metadata": {},
   "outputs": [
    {
     "name": "stdout",
     "output_type": "stream",
     "text": [
      "median:  1410.25\n"
     ]
    }
   ],
   "source": [
    "print(\"median: \", total_spent_median)"
   ]
  },
  {
   "cell_type": "code",
   "execution_count": 12,
   "metadata": {},
   "outputs": [],
   "source": [
    "data['TotalSpent'].replace({' ': total_spent_median}, inplace=True)"
   ]
  },
  {
   "cell_type": "markdown",
   "metadata": {},
   "source": [
    "Посмотрим на 1048 строку датасета (в ней был пропуск)"
   ]
  },
  {
   "cell_type": "code",
   "execution_count": 13,
   "metadata": {},
   "outputs": [
    {
     "data": {
      "text/plain": [
       "ClientPeriod                                  0\n",
       "MonthlySpending                           25.75\n",
       "TotalSpent                              1410.25\n",
       "Sex                                        Male\n",
       "IsSeniorCitizen                               0\n",
       "HasPartner                                  Yes\n",
       "HasChild                                    Yes\n",
       "HasPhoneService                             Yes\n",
       "HasMultiplePhoneNumbers                     Yes\n",
       "HasInternetService                           No\n",
       "HasOnlineSecurityService    No internet service\n",
       "HasOnlineBackup             No internet service\n",
       "HasDeviceProtection         No internet service\n",
       "HasTechSupportAccess        No internet service\n",
       "HasOnlineTV                 No internet service\n",
       "HasMovieSubscription        No internet service\n",
       "HasContractPhone                       Two year\n",
       "IsBillingPaperless                           No\n",
       "PaymentMethod                      Mailed check\n",
       "Churn                                         0\n",
       "Name: 1048, dtype: object"
      ]
     },
     "execution_count": 13,
     "metadata": {},
     "output_type": "execute_result"
    }
   ],
   "source": [
    "data.iloc[1048]"
   ]
  },
  {
   "cell_type": "markdown",
   "metadata": {},
   "source": [
    "Значение признака *TotalSpent* совпадает с медианой. Теперь преобразуем этот признак к типу float64."
   ]
  },
  {
   "cell_type": "code",
   "execution_count": 14,
   "metadata": {},
   "outputs": [],
   "source": [
    "data['TotalSpent'] = data['TotalSpent'].astype(\"float64\")"
   ]
  },
  {
   "cell_type": "markdown",
   "metadata": {},
   "source": [
    "Распределение численных признаков."
   ]
  },
  {
   "cell_type": "code",
   "execution_count": 15,
   "metadata": {
    "id": "NZkbgFJZEEZE"
   },
   "outputs": [
    {
     "data": {
      "image/png": "[encoded data removed]",
      "text/plain": [
       "<Figure size 1152x720 with 3 Axes>"
      ]
     },
     "metadata": {
      "needs_background": "light"
     },
     "output_type": "display_data"
    }
   ],
   "source": [
    "rows = 1\n",
    "columns = len(num_cols)\n",
    "fig = plt.figure(figsize=(16,10))\n",
    "for i in range(1, columns + 1):\n",
    "    fig.add_subplot(rows, columns, i)\n",
    "    data[num_cols[i - 1]].astype(\"float64\").plot.hist()\n",
    "    plt.title(num_cols[i - 1])"
   ]
  },
  {
   "cell_type": "markdown",
   "metadata": {},
   "source": [
    "Посмотрим на категориальные фичи."
   ]
  },
  {
   "cell_type": "code",
   "execution_count": 16,
   "metadata": {
    "id": "fwfksF1gEEZI"
   },
   "outputs": [
    {
     "name": "stdout",
     "output_type": "stream",
     "text": [
      "Male      2655\n",
      "Female    2627\n",
      "Name: Sex, dtype: int64\n",
      "\n",
      "0    4440\n",
      "1     842\n",
      "Name: IsSeniorCitizen, dtype: int64\n",
      "\n",
      "No     2705\n",
      "Yes    2577\n",
      "Name: HasPartner, dtype: int64\n",
      "\n",
      "No     3676\n",
      "Yes    1606\n",
      "Name: HasChild, dtype: int64\n",
      "\n",
      "Yes    4761\n",
      "No      521\n",
      "Name: HasPhoneService, dtype: int64\n",
      "\n",
      "No                  2511\n",
      "Yes                 2250\n",
      "No phone service     521\n",
      "Name: HasMultiplePhoneNumbers, dtype: int64\n",
      "\n",
      "Fiber optic    2341\n",
      "DSL            1800\n",
      "No             1141\n",
      "Name: HasInternetService, dtype: int64\n",
      "\n",
      "No                     2612\n",
      "Yes                    1529\n",
      "No internet service    1141\n",
      "Name: HasOnlineSecurityService, dtype: int64\n",
      "\n",
      "No                     2332\n",
      "Yes                    1809\n",
      "No internet service    1141\n",
      "Name: HasOnlineBackup, dtype: int64\n",
      "\n",
      "No                     2317\n",
      "Yes                    1824\n",
      "No internet service    1141\n",
      "Name: HasDeviceProtection, dtype: int64\n",
      "\n",
      "No                     2604\n",
      "Yes                    1537\n",
      "No internet service    1141\n",
      "Name: HasTechSupportAccess, dtype: int64\n",
      "\n",
      "No                     2099\n",
      "Yes                    2042\n",
      "No internet service    1141\n",
      "Name: HasOnlineTV, dtype: int64\n",
      "\n",
      "No                     2081\n",
      "Yes                    2060\n",
      "No internet service    1141\n",
      "Name: HasMovieSubscription, dtype: int64\n",
      "\n",
      "Month-to-month    2920\n",
      "Two year          1280\n",
      "One year          1082\n",
      "Name: HasContractPhone, dtype: int64\n",
      "\n",
      "Yes    3148\n",
      "No     2134\n",
      "Name: IsBillingPaperless, dtype: int64\n",
      "\n",
      "Electronic check             1786\n",
      "Mailed check                 1194\n",
      "Bank transfer (automatic)    1159\n",
      "Credit card (automatic)      1143\n",
      "Name: PaymentMethod, dtype: int64\n",
      "\n"
     ]
    }
   ],
   "source": [
    "for cat_col in cat_cols:\n",
    "    print(data[cat_col].value_counts())\n",
    "    print()"
   ]
  },
  {
   "cell_type": "markdown",
   "metadata": {},
   "source": [
    "Категориальные фичи не содержат пропуски. Построим бары."
   ]
  },
  {
   "cell_type": "code",
   "execution_count": 17,
   "metadata": {
    "scrolled": false
   },
   "outputs": [
    {
     "data": {
      "image/png": "[encoded data removed]",
      "text/plain": [
       "<Figure size 1152x1440 with 16 Axes>"
      ]
     },
     "metadata": {
      "needs_background": "light"
     },
     "output_type": "display_data"
    }
   ],
   "source": [
    "rows = 4\n",
    "columns = 4\n",
    "fig = plt.figure(figsize=(16,20))\n",
    "\n",
    "for i in range(1, columns*rows + 1):\n",
    "    fig.add_subplot(rows, columns, i)\n",
    "    data[cat_cols[i - 1]].value_counts().plot(kind='bar')\n",
    "    plt.title(cat_cols[i - 1])\n",
    "    fig.tight_layout()"
   ]
  },
  {
   "cell_type": "markdown",
   "metadata": {},
   "source": [
    "**Вывод**: явный разбаланс в признаках *IsSeniorCitizen* и *HasPhoneService*. В признаках *HasChild* и *HasMultiplePhoneNumbers* также наблюдается перекос в сторону одного из признаков, хотя и не такой сильный."
   ]
  },
  {
   "cell_type": "markdown",
   "metadata": {},
   "source": [
    "2. Исследуем распределение выходного признака."
   ]
  },
  {
   "cell_type": "code",
   "execution_count": 18,
   "metadata": {},
   "outputs": [
    {
     "data": {
      "text/plain": [
       "0    3898\n",
       "1    1384\n",
       "Name: Churn, dtype: int64"
      ]
     },
     "execution_count": 18,
     "metadata": {},
     "output_type": "execute_result"
    }
   ],
   "source": [
    "data[target_col].value_counts()"
   ]
  },
  {
   "cell_type": "code",
   "execution_count": 19,
   "metadata": {},
   "outputs": [
    {
     "data": {
      "text/plain": [
       "<matplotlib.axes._subplots.AxesSubplot at 0x1f8eb294eb8>"
      ]
     },
     "execution_count": 19,
     "metadata": {},
     "output_type": "execute_result"
    },
    {
     "data": {
      "image/png": "[encoded data removed]",
      "text/plain": [
       "<Figure size 432x288 with 1 Axes>"
      ]
     },
     "metadata": {
      "needs_background": "light"
     },
     "output_type": "display_data"
    }
   ],
   "source": [
    "data[target_col].value_counts().plot(kind='bar')"
   ]
  },
  {
   "cell_type": "markdown",
   "metadata": {},
   "source": [
    "**Вывод**: выходной класс близок к разбалансу, хотя и нельзя сказать, что наблюдается подавляющая доминация одного из признаков (соотношение ~ 1:3). Целесообразно использовать ROC-AUC вместо Accuracy."
   ]
  },
  {
   "cell_type": "markdown",
   "metadata": {},
   "source": [
    "3. Визауальный анализ с помощью sns."
   ]
  },
  {
   "cell_type": "code",
   "execution_count": 20,
   "metadata": {},
   "outputs": [],
   "source": [
    "import seaborn as sns"
   ]
  },
  {
   "cell_type": "markdown",
   "metadata": {},
   "source": [
    "Построим ящики с усами численных признаков."
   ]
  },
  {
   "cell_type": "code",
   "execution_count": 21,
   "metadata": {
    "scrolled": false
   },
   "outputs": [
    {
     "data": {
      "image/png": "[encoded data removed]",
      "text/plain": [
       "<Figure size 432x288 with 1 Axes>"
      ]
     },
     "metadata": {
      "needs_background": "light"
     },
     "output_type": "display_data"
    },
    {
     "data": {
      "image/png": "[encoded data removed]",
      "text/plain": [
       "<Figure size 432x288 with 1 Axes>"
      ]
     },
     "metadata": {
      "needs_background": "light"
     },
     "output_type": "display_data"
    },
    {
     "data": {
      "image/png": "[encoded data removed]",
      "text/plain": [
       "<Figure size 432x288 with 1 Axes>"
      ]
     },
     "metadata": {
      "needs_background": "light"
     },
     "output_type": "display_data"
    }
   ],
   "source": [
    "for i in num_cols:\n",
    "    sns.boxplot(data[i])\n",
    "    plt.show()"
   ]
  },
  {
   "cell_type": "markdown",
   "metadata": {},
   "source": [
    "На ящиках с усами не видно явных аномалий(выходящих за интерквартильный размах). Построим матрицу корреляций (будет работать только для численных признаков)."
   ]
  },
  {
   "cell_type": "code",
   "execution_count": 22,
   "metadata": {},
   "outputs": [
    {
     "data": {
      "text/plain": [
       "<matplotlib.axes._subplots.AxesSubplot at 0x1f8eb3dea90>"
      ]
     },
     "execution_count": 22,
     "metadata": {},
     "output_type": "execute_result"
    },
    {
     "data": {
      "image/png": "[encoded data removed]",
      "text/plain": [
       "<Figure size 1080x1152 with 2 Axes>"
      ]
     },
     "metadata": {
      "needs_background": "light"
     },
     "output_type": "display_data"
    }
   ],
   "source": [
    "plt.figure(figsize=(15,16))\n",
    "sns.heatmap(data.corr(), square=True)"
   ]
  },
  {
   "cell_type": "markdown",
   "metadata": {},
   "source": [
    "**Вывод**: есть достаточно сильная корреляция между признаками *TotalSpent* и *CliendPeriod*. Можно попробовать убрать один из этих признаков и посмотреть на результат обучения."
   ]
  },
  {
   "cell_type": "markdown",
   "metadata": {
    "id": "DviiJd8REEZK"
   },
   "source": [
    "## Применение линейных моделей (3 балла)\n",
    "\n",
    "1) Обработайте данные для того, чтобы к ним можно было применить LogisticRegression. Т.е. отнормируйте числовые признаки, а категориальные закодируйте с помощью one-hot-encoding'а. \n",
    "\n",
    "2) С помощью кроссвалидации или разделения на train/valid выборку протестируйте разные значения гиперпараметра C и выберите лучший (можно тестировать С=100, 10, 1, 0.1, 0.01, 0.001) по метрике ROC-AUC. \n",
    "\n",
    "Если вы разделяете на train/valid, то используйте LogisticRegressionCV. Он сам при вызове .fit() подберет параметр С. (не забудьте передать scroing='roc_auc', чтобы при кроссвалидации сравнивались значения этой метрики, и refit=True, чтобы при потом модель обучилась на всем датасете с лучшим параметром C). \n",
    "\n",
    "\n",
    "(более сложный вариант) Если вы будете использовать кроссвалидацию, то преобразования данных и LogisticRegression нужно соединить в один Pipeline с помощью make_pipeline, как это делалось во втором семинаре. Потом pipeline надо передать в GridSearchCV. Для one-hot-encoding'a можно испльзовать комбинацию LabelEncoder + OneHotEncoder (сначала превращаем строчки в числа, а потом числа првращаем в one-hot вектора.)"
   ]
  },
  {
   "cell_type": "code",
   "execution_count": 23,
   "metadata": {
    "id": "xHCLDmwqEEZL"
   },
   "outputs": [],
   "source": [
    "from sklearn.linear_model import LogisticRegression, LogisticRegressionCV\n",
    "from sklearn.model_selection import train_test_split, GridSearchCV\n",
    "from sklearn.preprocessing import StandardScaler, RobustScaler, LabelEncoder, OneHotEncoder\n",
    "from sklearn.pipeline import make_pipeline"
   ]
  },
  {
   "cell_type": "markdown",
   "metadata": {
    "id": "P2Yv3uYtEEZO"
   },
   "source": [
    "1. Нормируем данные"
   ]
  },
  {
   "cell_type": "code",
   "execution_count": 24,
   "metadata": {},
   "outputs": [],
   "source": [
    "X_train, X_val, y_train, y_val = train_test_split(data[feature_cols], data[target_col], test_size=0.3, random_state=17)"
   ]
  },
  {
   "cell_type": "code",
   "execution_count": 25,
   "metadata": {},
   "outputs": [],
   "source": [
    "ss = StandardScaler()"
   ]
  },
  {
   "cell_type": "code",
   "execution_count": 26,
   "metadata": {},
   "outputs": [],
   "source": [
    "X_train[num_cols] = ss.fit_transform(X_train[num_cols])\n",
    "X_val[num_cols] = ss.transform(X_val[num_cols])"
   ]
  },
  {
   "cell_type": "code",
   "execution_count": 27,
   "metadata": {},
   "outputs": [],
   "source": [
    "from sklearn.preprocessing import LabelEncoder, OneHotEncoder"
   ]
  },
  {
   "cell_type": "code",
   "execution_count": 28,
   "metadata": {},
   "outputs": [],
   "source": [
    "label_encoders = dict()\n",
    "for cat_col in cat_cols:\n",
    "    le = LabelEncoder()\n",
    "    le.fit(X_train[cat_col])\n",
    "    X_train[cat_col] = le.transform(X_train[cat_col])\n",
    "    label_encoders[cat_col] = le"
   ]
  },
  {
   "cell_type": "code",
   "execution_count": 29,
   "metadata": {},
   "outputs": [],
   "source": [
    "for cat_col in cat_cols:\n",
    "    le = label_encoders[cat_col]\n",
    "    X_val[cat_col] = le.transform(X_val[cat_col])"
   ]
  },
  {
   "cell_type": "code",
   "execution_count": 30,
   "metadata": {},
   "outputs": [],
   "source": [
    "ohe = OneHotEncoder()"
   ]
  },
  {
   "cell_type": "code",
   "execution_count": 31,
   "metadata": {},
   "outputs": [],
   "source": [
    "X_train_cat = ohe.fit_transform(X_train[cat_cols]).toarray()"
   ]
  },
  {
   "cell_type": "code",
   "execution_count": 32,
   "metadata": {},
   "outputs": [],
   "source": [
    "X_train = np.concatenate([X_train[num_cols], X_train_cat], axis=1)"
   ]
  },
  {
   "cell_type": "code",
   "execution_count": 33,
   "metadata": {},
   "outputs": [],
   "source": [
    "X_val_cat = ohe.transform(X_val[cat_cols]).toarray()"
   ]
  },
  {
   "cell_type": "code",
   "execution_count": 34,
   "metadata": {},
   "outputs": [],
   "source": [
    "X_val = np.concatenate([X_val[num_cols], X_val_cat], axis=1)"
   ]
  },
  {
   "cell_type": "code",
   "execution_count": 35,
   "metadata": {},
   "outputs": [],
   "source": [
    "clf = LogisticRegressionCV(cv=5, random_state=0, scoring='roc_auc').fit(X_train, y_train)"
   ]
  },
  {
   "cell_type": "markdown",
   "metadata": {
    "id": "uVahy6JKEEZQ"
   },
   "source": [
    "Выпишите какое лучшее качество и с какими параметрами вам удалось получить"
   ]
  },
  {
   "cell_type": "code",
   "execution_count": 36,
   "metadata": {},
   "outputs": [
    {
     "name": "stdout",
     "output_type": "stream",
     "text": [
      "Train score: 0.8514464022624261\n",
      "Val score: 0.838419865932758\n",
      "Param C= [1291.54966501]\n"
     ]
    }
   ],
   "source": [
    "print(\"Train score:\", clf.score(X_train, y_train))\n",
    "print(\"Val score:\", clf.score(X_val, y_val))\n",
    "print(\"Param C=\", clf.C_)"
   ]
  },
  {
   "cell_type": "markdown",
   "metadata": {
    "id": "36729TOQEEZR"
   },
   "source": []
  },
  {
   "cell_type": "markdown",
   "metadata": {
    "id": "BlTeVy7fEEZR"
   },
   "source": [
    "## Применение градиентного бустинга (2 балла)\n",
    "\n",
    "Если вы хотите получить баллы за точный ответ, то стоит попробовать градиентный бустинг. Часто градиентный бустинг с дефолтными параметрами даст вам 80% результата за 0% усилий.\n",
    "\n",
    "Мы будем использовать catboost, поэтому нам не надо кодировать категориальные признаки. catboost сделает это сам (в .fit() надо передать cat_features=cat_cols). А численные признаки нормировать для моделей, основанных на деревьях не нужно.\n",
    "\n",
    "1) Разделите выборку на train/valid. Протестируйте catboost cо стандартными параметрами.\n",
    "\n",
    "2) Протестируйте разные занчения параметроа количества деревьев и learning_rate'а и выберите лучшую по метрике ROC-AUC комбинацию. \n",
    "\n",
    "(Дополнительно) Есть некоторые сложности с тем, чтобы использовать CatBoostClassifier вместе с GridSearchCV, поэтому мы не просим использовать кроссвалидацию. Но можете попробовать)"
   ]
  },
  {
   "cell_type": "markdown",
   "metadata": {},
   "source": [
    "1. Стандартные параметры CatBoost."
   ]
  },
  {
   "cell_type": "code",
   "execution_count": 62,
   "metadata": {},
   "outputs": [],
   "source": [
    "X_train, X_val, y_train, y_val = train_test_split(data[feature_cols], data[target_col], test_size=0.3, random_state=17)"
   ]
  },
  {
   "cell_type": "code",
   "execution_count": 64,
   "metadata": {
    "id": "Fioxxlp-EEZS"
   },
   "outputs": [],
   "source": [
    "from catboost import CatBoost\n",
    "model = CatBoost()"
   ]
  },
  {
   "cell_type": "code",
   "execution_count": 65,
   "metadata": {
    "scrolled": true
   },
   "outputs": [
    {
     "name": "stdout",
     "output_type": "stream",
     "text": [
      "Learning rate set to 0.049258\n",
      "0:\tlearn: 0.4387405\ttotal: 16.1ms\tremaining: 16.1s\n",
      "1:\tlearn: 0.4332734\ttotal: 38.3ms\tremaining: 19.1s\n",
      "2:\tlearn: 0.4283619\ttotal: 55.7ms\tremaining: 18.5s\n",
      "3:\tlearn: 0.4241296\ttotal: 73.8ms\tremaining: 18.4s\n",
      "4:\tlearn: 0.4208278\ttotal: 85.5ms\tremaining: 17s\n",
      "5:\tlearn: 0.4172475\ttotal: 99ms\tremaining: 16.4s\n",
      "6:\tlearn: 0.4138523\ttotal: 113ms\tremaining: 16s\n",
      "7:\tlearn: 0.4100444\ttotal: 131ms\tremaining: 16.2s\n",
      "8:\tlearn: 0.4066910\ttotal: 149ms\tremaining: 16.4s\n",
      "9:\tlearn: 0.4036701\ttotal: 165ms\tremaining: 16.4s\n",
      "10:\tlearn: 0.4008561\ttotal: 182ms\tremaining: 16.4s\n",
      "11:\tlearn: 0.3982784\ttotal: 205ms\tremaining: 16.9s\n",
      "12:\tlearn: 0.3960371\ttotal: 223ms\tremaining: 16.9s\n",
      "13:\tlearn: 0.3939375\ttotal: 251ms\tremaining: 17.7s\n",
      "14:\tlearn: 0.3915781\ttotal: 269ms\tremaining: 17.7s\n",
      "15:\tlearn: 0.3894627\ttotal: 287ms\tremaining: 17.6s\n",
      "16:\tlearn: 0.3877662\ttotal: 304ms\tremaining: 17.6s\n",
      "17:\tlearn: 0.3860908\ttotal: 328ms\tremaining: 17.9s\n",
      "18:\tlearn: 0.3851364\ttotal: 336ms\tremaining: 17.4s\n",
      "19:\tlearn: 0.3836097\ttotal: 355ms\tremaining: 17.4s\n",
      "20:\tlearn: 0.3822680\ttotal: 372ms\tremaining: 17.3s\n",
      "21:\tlearn: 0.3811292\ttotal: 390ms\tremaining: 17.3s\n",
      "22:\tlearn: 0.3801115\ttotal: 411ms\tremaining: 17.4s\n",
      "23:\tlearn: 0.3789361\ttotal: 429ms\tremaining: 17.4s\n",
      "24:\tlearn: 0.3779201\ttotal: 447ms\tremaining: 17.4s\n",
      "25:\tlearn: 0.3770418\ttotal: 464ms\tremaining: 17.4s\n",
      "26:\tlearn: 0.3762096\ttotal: 481ms\tremaining: 17.3s\n",
      "27:\tlearn: 0.3754124\ttotal: 499ms\tremaining: 17.3s\n",
      "28:\tlearn: 0.3746252\ttotal: 517ms\tremaining: 17.3s\n",
      "29:\tlearn: 0.3738954\ttotal: 535ms\tremaining: 17.3s\n",
      "30:\tlearn: 0.3732398\ttotal: 552ms\tremaining: 17.3s\n",
      "31:\tlearn: 0.3726107\ttotal: 570ms\tremaining: 17.3s\n",
      "32:\tlearn: 0.3719512\ttotal: 588ms\tremaining: 17.2s\n",
      "33:\tlearn: 0.3714057\ttotal: 606ms\tremaining: 17.2s\n",
      "34:\tlearn: 0.3707940\ttotal: 629ms\tremaining: 17.3s\n",
      "35:\tlearn: 0.3704213\ttotal: 642ms\tremaining: 17.2s\n",
      "36:\tlearn: 0.3698889\ttotal: 660ms\tremaining: 17.2s\n",
      "37:\tlearn: 0.3695599\ttotal: 674ms\tremaining: 17.1s\n",
      "38:\tlearn: 0.3690560\ttotal: 691ms\tremaining: 17s\n",
      "39:\tlearn: 0.3683675\ttotal: 709ms\tremaining: 17s\n",
      "40:\tlearn: 0.3678569\ttotal: 727ms\tremaining: 17s\n",
      "41:\tlearn: 0.3675620\ttotal: 743ms\tremaining: 17s\n",
      "42:\tlearn: 0.3670151\ttotal: 762ms\tremaining: 17s\n",
      "43:\tlearn: 0.3667029\ttotal: 779ms\tremaining: 16.9s\n",
      "44:\tlearn: 0.3662315\ttotal: 798ms\tremaining: 16.9s\n",
      "45:\tlearn: 0.3660126\ttotal: 809ms\tremaining: 16.8s\n",
      "46:\tlearn: 0.3655497\ttotal: 827ms\tremaining: 16.8s\n",
      "47:\tlearn: 0.3651538\ttotal: 849ms\tremaining: 16.8s\n",
      "48:\tlearn: 0.3647770\ttotal: 874ms\tremaining: 17s\n",
      "49:\tlearn: 0.3645694\ttotal: 891ms\tremaining: 16.9s\n",
      "50:\tlearn: 0.3643074\ttotal: 910ms\tremaining: 16.9s\n",
      "51:\tlearn: 0.3641589\ttotal: 921ms\tremaining: 16.8s\n",
      "52:\tlearn: 0.3636610\ttotal: 938ms\tremaining: 16.8s\n",
      "53:\tlearn: 0.3634826\ttotal: 955ms\tremaining: 16.7s\n",
      "54:\tlearn: 0.3633118\ttotal: 973ms\tremaining: 16.7s\n",
      "55:\tlearn: 0.3632307\ttotal: 997ms\tremaining: 16.8s\n",
      "56:\tlearn: 0.3630315\ttotal: 1.01s\tremaining: 16.8s\n",
      "57:\tlearn: 0.3628325\ttotal: 1.04s\tremaining: 16.9s\n",
      "58:\tlearn: 0.3627706\ttotal: 1.06s\tremaining: 16.9s\n",
      "59:\tlearn: 0.3623855\ttotal: 1.08s\tremaining: 17s\n",
      "60:\tlearn: 0.3619496\ttotal: 1.1s\tremaining: 17s\n",
      "61:\tlearn: 0.3617211\ttotal: 1.12s\tremaining: 17s\n",
      "62:\tlearn: 0.3616002\ttotal: 1.14s\tremaining: 16.9s\n",
      "63:\tlearn: 0.3613563\ttotal: 1.16s\tremaining: 16.9s\n",
      "64:\tlearn: 0.3612767\ttotal: 1.17s\tremaining: 16.8s\n",
      "65:\tlearn: 0.3609566\ttotal: 1.19s\tremaining: 16.8s\n",
      "66:\tlearn: 0.3607026\ttotal: 1.2s\tremaining: 16.8s\n",
      "67:\tlearn: 0.3605023\ttotal: 1.24s\tremaining: 17s\n",
      "68:\tlearn: 0.3602041\ttotal: 1.27s\tremaining: 17.1s\n",
      "69:\tlearn: 0.3598610\ttotal: 1.28s\tremaining: 17.1s\n",
      "70:\tlearn: 0.3598227\ttotal: 1.3s\tremaining: 17s\n",
      "71:\tlearn: 0.3597245\ttotal: 1.31s\tremaining: 16.9s\n",
      "72:\tlearn: 0.3596280\ttotal: 1.33s\tremaining: 16.9s\n",
      "73:\tlearn: 0.3593692\ttotal: 1.35s\tremaining: 16.9s\n",
      "74:\tlearn: 0.3592463\ttotal: 1.36s\tremaining: 16.8s\n",
      "75:\tlearn: 0.3588382\ttotal: 1.39s\tremaining: 16.9s\n",
      "76:\tlearn: 0.3588373\ttotal: 1.4s\tremaining: 16.7s\n",
      "77:\tlearn: 0.3586286\ttotal: 1.44s\tremaining: 17s\n",
      "78:\tlearn: 0.3586206\ttotal: 1.45s\tremaining: 16.9s\n",
      "79:\tlearn: 0.3584965\ttotal: 1.47s\tremaining: 16.9s\n",
      "80:\tlearn: 0.3584554\ttotal: 1.48s\tremaining: 16.8s\n",
      "81:\tlearn: 0.3583437\ttotal: 1.5s\tremaining: 16.8s\n",
      "82:\tlearn: 0.3582058\ttotal: 1.52s\tremaining: 16.8s\n",
      "83:\tlearn: 0.3581964\ttotal: 1.53s\tremaining: 16.7s\n",
      "84:\tlearn: 0.3581672\ttotal: 1.54s\tremaining: 16.6s\n",
      "85:\tlearn: 0.3580245\ttotal: 1.56s\tremaining: 16.6s\n",
      "86:\tlearn: 0.3579338\ttotal: 1.58s\tremaining: 16.6s\n",
      "87:\tlearn: 0.3578589\ttotal: 1.6s\tremaining: 16.6s\n",
      "88:\tlearn: 0.3577980\ttotal: 1.62s\tremaining: 16.6s\n",
      "89:\tlearn: 0.3577019\ttotal: 1.64s\tremaining: 16.6s\n",
      "90:\tlearn: 0.3577019\ttotal: 1.65s\tremaining: 16.5s\n",
      "91:\tlearn: 0.3576394\ttotal: 1.67s\tremaining: 16.4s\n",
      "92:\tlearn: 0.3575958\ttotal: 1.69s\tremaining: 16.5s\n",
      "93:\tlearn: 0.3574100\ttotal: 1.71s\tremaining: 16.5s\n",
      "94:\tlearn: 0.3573861\ttotal: 1.73s\tremaining: 16.5s\n",
      "95:\tlearn: 0.3572582\ttotal: 1.76s\tremaining: 16.6s\n",
      "96:\tlearn: 0.3570628\ttotal: 1.78s\tremaining: 16.5s\n",
      "97:\tlearn: 0.3569675\ttotal: 1.81s\tremaining: 16.6s\n",
      "98:\tlearn: 0.3568275\ttotal: 1.82s\tremaining: 16.6s\n",
      "99:\tlearn: 0.3567919\ttotal: 1.85s\tremaining: 16.7s\n",
      "100:\tlearn: 0.3566888\ttotal: 1.87s\tremaining: 16.7s\n",
      "101:\tlearn: 0.3566791\ttotal: 1.89s\tremaining: 16.7s\n",
      "102:\tlearn: 0.3566200\ttotal: 1.91s\tremaining: 16.7s\n",
      "103:\tlearn: 0.3566190\ttotal: 1.93s\tremaining: 16.6s\n",
      "104:\tlearn: 0.3566179\ttotal: 1.94s\tremaining: 16.5s\n",
      "105:\tlearn: 0.3565739\ttotal: 1.96s\tremaining: 16.5s\n",
      "106:\tlearn: 0.3565198\ttotal: 1.97s\tremaining: 16.5s\n",
      "107:\tlearn: 0.3565186\ttotal: 1.98s\tremaining: 16.3s\n",
      "108:\tlearn: 0.3564887\ttotal: 2s\tremaining: 16.3s\n",
      "109:\tlearn: 0.3564783\ttotal: 2.01s\tremaining: 16.2s\n",
      "110:\tlearn: 0.3563722\ttotal: 2.02s\tremaining: 16.2s\n",
      "111:\tlearn: 0.3563050\ttotal: 2.04s\tremaining: 16.2s\n",
      "112:\tlearn: 0.3562993\ttotal: 2.06s\tremaining: 16.2s\n",
      "113:\tlearn: 0.3561909\ttotal: 2.08s\tremaining: 16.2s\n",
      "114:\tlearn: 0.3561507\ttotal: 2.1s\tremaining: 16.2s\n",
      "115:\tlearn: 0.3559676\ttotal: 2.15s\tremaining: 16.4s\n",
      "116:\tlearn: 0.3558997\ttotal: 2.17s\tremaining: 16.3s\n",
      "117:\tlearn: 0.3556449\ttotal: 2.18s\tremaining: 16.3s\n",
      "118:\tlearn: 0.3554398\ttotal: 2.2s\tremaining: 16.3s\n",
      "119:\tlearn: 0.3554391\ttotal: 2.21s\tremaining: 16.2s\n",
      "120:\tlearn: 0.3554382\ttotal: 2.22s\tremaining: 16.1s\n",
      "121:\tlearn: 0.3553150\ttotal: 2.24s\tremaining: 16.1s\n",
      "122:\tlearn: 0.3553093\ttotal: 2.24s\tremaining: 16s\n",
      "123:\tlearn: 0.3552315\ttotal: 2.26s\tremaining: 16s\n",
      "124:\tlearn: 0.3552127\ttotal: 2.28s\tremaining: 15.9s\n",
      "125:\tlearn: 0.3551139\ttotal: 2.34s\tremaining: 16.3s\n",
      "126:\tlearn: 0.3550617\ttotal: 2.36s\tremaining: 16.2s\n",
      "127:\tlearn: 0.3549844\ttotal: 2.38s\tremaining: 16.2s\n",
      "128:\tlearn: 0.3549337\ttotal: 2.4s\tremaining: 16.2s\n",
      "129:\tlearn: 0.3547009\ttotal: 2.42s\tremaining: 16.2s\n",
      "130:\tlearn: 0.3546768\ttotal: 2.44s\tremaining: 16.2s\n",
      "131:\tlearn: 0.3543801\ttotal: 2.46s\tremaining: 16.2s\n",
      "132:\tlearn: 0.3543793\ttotal: 2.47s\tremaining: 16.1s\n",
      "133:\tlearn: 0.3543722\ttotal: 2.47s\tremaining: 16s\n",
      "134:\tlearn: 0.3543073\ttotal: 2.49s\tremaining: 16s\n",
      "135:\tlearn: 0.3542731\ttotal: 2.51s\tremaining: 16s\n",
      "136:\tlearn: 0.3542202\ttotal: 2.52s\tremaining: 15.9s\n",
      "137:\tlearn: 0.3539619\ttotal: 2.55s\tremaining: 15.9s\n",
      "138:\tlearn: 0.3539585\ttotal: 2.56s\tremaining: 15.8s\n",
      "139:\tlearn: 0.3539581\ttotal: 2.56s\tremaining: 15.8s\n",
      "140:\tlearn: 0.3538985\ttotal: 2.58s\tremaining: 15.7s\n",
      "141:\tlearn: 0.3538538\ttotal: 2.6s\tremaining: 15.7s\n",
      "142:\tlearn: 0.3538107\ttotal: 2.62s\tremaining: 15.7s\n",
      "143:\tlearn: 0.3537588\ttotal: 2.64s\tremaining: 15.7s\n",
      "144:\tlearn: 0.3535919\ttotal: 2.66s\tremaining: 15.7s\n",
      "145:\tlearn: 0.3535664\ttotal: 2.67s\tremaining: 15.6s\n",
      "146:\tlearn: 0.3534927\ttotal: 2.7s\tremaining: 15.7s\n",
      "147:\tlearn: 0.3533796\ttotal: 2.72s\tremaining: 15.7s\n",
      "148:\tlearn: 0.3530899\ttotal: 2.74s\tremaining: 15.6s\n",
      "149:\tlearn: 0.3530773\ttotal: 2.76s\tremaining: 15.6s\n",
      "150:\tlearn: 0.3529294\ttotal: 2.78s\tremaining: 15.6s\n",
      "151:\tlearn: 0.3526771\ttotal: 2.79s\tremaining: 15.6s\n",
      "152:\tlearn: 0.3526136\ttotal: 2.81s\tremaining: 15.6s\n",
      "153:\tlearn: 0.3526132\ttotal: 2.82s\tremaining: 15.5s\n",
      "154:\tlearn: 0.3526132\ttotal: 2.83s\tremaining: 15.4s\n",
      "155:\tlearn: 0.3524883\ttotal: 2.84s\tremaining: 15.4s\n",
      "156:\tlearn: 0.3524806\ttotal: 2.86s\tremaining: 15.4s\n",
      "157:\tlearn: 0.3524212\ttotal: 2.87s\tremaining: 15.3s\n",
      "158:\tlearn: 0.3523328\ttotal: 2.89s\tremaining: 15.3s\n",
      "159:\tlearn: 0.3523114\ttotal: 2.92s\tremaining: 15.3s\n",
      "160:\tlearn: 0.3520535\ttotal: 2.94s\tremaining: 15.3s\n"
     ]
    },
    {
     "name": "stdout",
     "output_type": "stream",
     "text": [
      "161:\tlearn: 0.3518818\ttotal: 2.96s\tremaining: 15.3s\n",
      "162:\tlearn: 0.3518711\ttotal: 2.98s\tremaining: 15.3s\n",
      "163:\tlearn: 0.3518673\ttotal: 3s\tremaining: 15.3s\n",
      "164:\tlearn: 0.3518568\ttotal: 3.01s\tremaining: 15.2s\n",
      "165:\tlearn: 0.3517763\ttotal: 3.03s\tremaining: 15.2s\n",
      "166:\tlearn: 0.3516565\ttotal: 3.05s\tremaining: 15.2s\n",
      "167:\tlearn: 0.3515615\ttotal: 3.07s\tremaining: 15.2s\n",
      "168:\tlearn: 0.3514319\ttotal: 3.09s\tremaining: 15.2s\n",
      "169:\tlearn: 0.3513054\ttotal: 3.11s\tremaining: 15.2s\n",
      "170:\tlearn: 0.3511777\ttotal: 3.13s\tremaining: 15.2s\n",
      "171:\tlearn: 0.3510476\ttotal: 3.15s\tremaining: 15.2s\n",
      "172:\tlearn: 0.3510444\ttotal: 3.17s\tremaining: 15.2s\n",
      "173:\tlearn: 0.3508460\ttotal: 3.19s\tremaining: 15.2s\n",
      "174:\tlearn: 0.3507866\ttotal: 3.21s\tremaining: 15.2s\n",
      "175:\tlearn: 0.3507864\ttotal: 3.22s\tremaining: 15.1s\n",
      "176:\tlearn: 0.3506766\ttotal: 3.25s\tremaining: 15.1s\n",
      "177:\tlearn: 0.3505376\ttotal: 3.27s\tremaining: 15.1s\n",
      "178:\tlearn: 0.3504968\ttotal: 3.29s\tremaining: 15.1s\n",
      "179:\tlearn: 0.3504897\ttotal: 3.31s\tremaining: 15.1s\n",
      "180:\tlearn: 0.3504071\ttotal: 3.33s\tremaining: 15s\n",
      "181:\tlearn: 0.3504069\ttotal: 3.33s\tremaining: 15s\n",
      "182:\tlearn: 0.3503828\ttotal: 3.36s\tremaining: 15s\n",
      "183:\tlearn: 0.3503519\ttotal: 3.41s\tremaining: 15.1s\n",
      "184:\tlearn: 0.3502934\ttotal: 3.44s\tremaining: 15.2s\n",
      "185:\tlearn: 0.3500933\ttotal: 3.46s\tremaining: 15.1s\n",
      "186:\tlearn: 0.3500533\ttotal: 3.49s\tremaining: 15.2s\n",
      "187:\tlearn: 0.3499920\ttotal: 3.51s\tremaining: 15.1s\n",
      "188:\tlearn: 0.3498578\ttotal: 3.52s\tremaining: 15.1s\n",
      "189:\tlearn: 0.3498531\ttotal: 3.55s\tremaining: 15.1s\n",
      "190:\tlearn: 0.3498283\ttotal: 3.57s\tremaining: 15.1s\n",
      "191:\tlearn: 0.3497431\ttotal: 3.6s\tremaining: 15.1s\n",
      "192:\tlearn: 0.3496899\ttotal: 3.62s\tremaining: 15.1s\n",
      "193:\tlearn: 0.3494528\ttotal: 3.64s\tremaining: 15.1s\n",
      "194:\tlearn: 0.3493033\ttotal: 3.66s\tremaining: 15.1s\n",
      "195:\tlearn: 0.3492945\ttotal: 3.68s\tremaining: 15.1s\n",
      "196:\tlearn: 0.3492807\ttotal: 3.7s\tremaining: 15.1s\n",
      "197:\tlearn: 0.3492763\ttotal: 3.72s\tremaining: 15.1s\n",
      "198:\tlearn: 0.3492144\ttotal: 3.75s\tremaining: 15.1s\n",
      "199:\tlearn: 0.3490440\ttotal: 3.77s\tremaining: 15.1s\n",
      "200:\tlearn: 0.3488838\ttotal: 3.79s\tremaining: 15.1s\n",
      "201:\tlearn: 0.3488267\ttotal: 3.81s\tremaining: 15s\n",
      "202:\tlearn: 0.3487163\ttotal: 3.86s\tremaining: 15.2s\n",
      "203:\tlearn: 0.3485777\ttotal: 3.9s\tremaining: 15.2s\n",
      "204:\tlearn: 0.3485583\ttotal: 3.95s\tremaining: 15.3s\n",
      "205:\tlearn: 0.3485411\ttotal: 3.97s\tremaining: 15.3s\n",
      "206:\tlearn: 0.3485290\ttotal: 3.99s\tremaining: 15.3s\n",
      "207:\tlearn: 0.3485272\ttotal: 4.01s\tremaining: 15.3s\n",
      "208:\tlearn: 0.3484842\ttotal: 4.05s\tremaining: 15.3s\n",
      "209:\tlearn: 0.3484766\ttotal: 4.07s\tremaining: 15.3s\n",
      "210:\tlearn: 0.3482982\ttotal: 4.08s\tremaining: 15.3s\n",
      "211:\tlearn: 0.3481556\ttotal: 4.1s\tremaining: 15.3s\n",
      "212:\tlearn: 0.3480203\ttotal: 4.12s\tremaining: 15.2s\n",
      "213:\tlearn: 0.3479936\ttotal: 4.14s\tremaining: 15.2s\n",
      "214:\tlearn: 0.3478306\ttotal: 4.16s\tremaining: 15.2s\n",
      "215:\tlearn: 0.3478217\ttotal: 4.17s\tremaining: 15.2s\n",
      "216:\tlearn: 0.3475990\ttotal: 4.19s\tremaining: 15.1s\n",
      "217:\tlearn: 0.3475892\ttotal: 4.21s\tremaining: 15.1s\n",
      "218:\tlearn: 0.3475776\ttotal: 4.24s\tremaining: 15.1s\n",
      "219:\tlearn: 0.3474211\ttotal: 4.26s\tremaining: 15.1s\n",
      "220:\tlearn: 0.3473041\ttotal: 4.28s\tremaining: 15.1s\n",
      "221:\tlearn: 0.3471962\ttotal: 4.31s\tremaining: 15.1s\n",
      "222:\tlearn: 0.3471925\ttotal: 4.33s\tremaining: 15.1s\n",
      "223:\tlearn: 0.3471737\ttotal: 4.34s\tremaining: 15s\n",
      "224:\tlearn: 0.3471686\ttotal: 4.36s\tremaining: 15s\n",
      "225:\tlearn: 0.3471457\ttotal: 4.38s\tremaining: 15s\n",
      "226:\tlearn: 0.3471320\ttotal: 4.4s\tremaining: 15s\n",
      "227:\tlearn: 0.3470538\ttotal: 4.42s\tremaining: 15s\n",
      "228:\tlearn: 0.3469960\ttotal: 4.43s\tremaining: 14.9s\n",
      "229:\tlearn: 0.3469914\ttotal: 4.45s\tremaining: 14.9s\n",
      "230:\tlearn: 0.3468945\ttotal: 4.47s\tremaining: 14.9s\n",
      "231:\tlearn: 0.3468783\ttotal: 4.49s\tremaining: 14.9s\n",
      "232:\tlearn: 0.3467514\ttotal: 4.52s\tremaining: 14.9s\n",
      "233:\tlearn: 0.3467182\ttotal: 4.55s\tremaining: 14.9s\n",
      "234:\tlearn: 0.3465751\ttotal: 4.57s\tremaining: 14.9s\n",
      "235:\tlearn: 0.3464681\ttotal: 4.59s\tremaining: 14.9s\n",
      "236:\tlearn: 0.3464089\ttotal: 4.61s\tremaining: 14.8s\n",
      "237:\tlearn: 0.3463161\ttotal: 4.63s\tremaining: 14.8s\n",
      "238:\tlearn: 0.3463154\ttotal: 4.64s\tremaining: 14.8s\n",
      "239:\tlearn: 0.3463059\ttotal: 4.66s\tremaining: 14.8s\n",
      "240:\tlearn: 0.3461448\ttotal: 4.68s\tremaining: 14.7s\n",
      "241:\tlearn: 0.3461326\ttotal: 4.71s\tremaining: 14.8s\n",
      "242:\tlearn: 0.3459456\ttotal: 4.73s\tremaining: 14.7s\n",
      "243:\tlearn: 0.3459370\ttotal: 4.75s\tremaining: 14.7s\n",
      "244:\tlearn: 0.3458076\ttotal: 4.77s\tremaining: 14.7s\n",
      "245:\tlearn: 0.3457775\ttotal: 4.79s\tremaining: 14.7s\n",
      "246:\tlearn: 0.3457424\ttotal: 4.81s\tremaining: 14.7s\n",
      "247:\tlearn: 0.3457356\ttotal: 4.83s\tremaining: 14.7s\n",
      "248:\tlearn: 0.3457309\ttotal: 4.85s\tremaining: 14.6s\n",
      "249:\tlearn: 0.3457081\ttotal: 4.87s\tremaining: 14.6s\n",
      "250:\tlearn: 0.3457030\ttotal: 4.89s\tremaining: 14.6s\n",
      "251:\tlearn: 0.3456921\ttotal: 4.92s\tremaining: 14.6s\n",
      "252:\tlearn: 0.3456918\ttotal: 4.95s\tremaining: 14.6s\n",
      "253:\tlearn: 0.3455901\ttotal: 4.97s\tremaining: 14.6s\n",
      "254:\tlearn: 0.3455255\ttotal: 4.99s\tremaining: 14.6s\n",
      "255:\tlearn: 0.3452545\ttotal: 5.01s\tremaining: 14.6s\n",
      "256:\tlearn: 0.3450451\ttotal: 5.03s\tremaining: 14.5s\n",
      "257:\tlearn: 0.3448780\ttotal: 5.06s\tremaining: 14.6s\n",
      "258:\tlearn: 0.3447782\ttotal: 5.09s\tremaining: 14.6s\n",
      "259:\tlearn: 0.3447675\ttotal: 5.11s\tremaining: 14.6s\n",
      "260:\tlearn: 0.3446430\ttotal: 5.13s\tremaining: 14.5s\n",
      "261:\tlearn: 0.3445555\ttotal: 5.15s\tremaining: 14.5s\n",
      "262:\tlearn: 0.3445544\ttotal: 5.18s\tremaining: 14.5s\n",
      "263:\tlearn: 0.3444200\ttotal: 5.21s\tremaining: 14.5s\n",
      "264:\tlearn: 0.3444023\ttotal: 5.25s\tremaining: 14.6s\n",
      "265:\tlearn: 0.3443856\ttotal: 5.27s\tremaining: 14.5s\n",
      "266:\tlearn: 0.3443502\ttotal: 5.3s\tremaining: 14.6s\n",
      "267:\tlearn: 0.3443378\ttotal: 5.32s\tremaining: 14.5s\n",
      "268:\tlearn: 0.3442253\ttotal: 5.34s\tremaining: 14.5s\n",
      "269:\tlearn: 0.3441036\ttotal: 5.36s\tremaining: 14.5s\n",
      "270:\tlearn: 0.3440465\ttotal: 5.38s\tremaining: 14.5s\n",
      "271:\tlearn: 0.3440463\ttotal: 5.4s\tremaining: 14.5s\n",
      "272:\tlearn: 0.3439532\ttotal: 5.43s\tremaining: 14.5s\n",
      "273:\tlearn: 0.3439253\ttotal: 5.45s\tremaining: 14.4s\n",
      "274:\tlearn: 0.3439095\ttotal: 5.47s\tremaining: 14.4s\n",
      "275:\tlearn: 0.3438455\ttotal: 5.49s\tremaining: 14.4s\n",
      "276:\tlearn: 0.3437387\ttotal: 5.5s\tremaining: 14.4s\n",
      "277:\tlearn: 0.3436942\ttotal: 5.52s\tremaining: 14.3s\n",
      "278:\tlearn: 0.3436778\ttotal: 5.54s\tremaining: 14.3s\n",
      "279:\tlearn: 0.3436431\ttotal: 5.56s\tremaining: 14.3s\n",
      "280:\tlearn: 0.3436037\ttotal: 5.58s\tremaining: 14.3s\n",
      "281:\tlearn: 0.3435929\ttotal: 5.61s\tremaining: 14.3s\n",
      "282:\tlearn: 0.3435217\ttotal: 5.63s\tremaining: 14.3s\n",
      "283:\tlearn: 0.3434179\ttotal: 5.66s\tremaining: 14.3s\n",
      "284:\tlearn: 0.3433873\ttotal: 5.68s\tremaining: 14.2s\n",
      "285:\tlearn: 0.3433076\ttotal: 5.7s\tremaining: 14.2s\n",
      "286:\tlearn: 0.3432285\ttotal: 5.71s\tremaining: 14.2s\n",
      "287:\tlearn: 0.3431853\ttotal: 5.74s\tremaining: 14.2s\n",
      "288:\tlearn: 0.3429504\ttotal: 5.76s\tremaining: 14.2s\n",
      "289:\tlearn: 0.3429259\ttotal: 5.78s\tremaining: 14.1s\n",
      "290:\tlearn: 0.3428759\ttotal: 5.79s\tremaining: 14.1s\n",
      "291:\tlearn: 0.3428636\ttotal: 5.81s\tremaining: 14.1s\n",
      "292:\tlearn: 0.3427484\ttotal: 5.83s\tremaining: 14.1s\n",
      "293:\tlearn: 0.3425976\ttotal: 5.85s\tremaining: 14s\n",
      "294:\tlearn: 0.3424063\ttotal: 5.87s\tremaining: 14s\n",
      "295:\tlearn: 0.3423096\ttotal: 5.89s\tremaining: 14s\n",
      "296:\tlearn: 0.3422256\ttotal: 5.9s\tremaining: 14s\n",
      "297:\tlearn: 0.3421846\ttotal: 5.92s\tremaining: 14s\n",
      "298:\tlearn: 0.3421598\ttotal: 5.94s\tremaining: 13.9s\n",
      "299:\tlearn: 0.3420933\ttotal: 5.96s\tremaining: 13.9s\n",
      "300:\tlearn: 0.3419395\ttotal: 6s\tremaining: 13.9s\n",
      "301:\tlearn: 0.3417678\ttotal: 6.02s\tremaining: 13.9s\n",
      "302:\tlearn: 0.3417511\ttotal: 6.04s\tremaining: 13.9s\n",
      "303:\tlearn: 0.3416525\ttotal: 6.06s\tremaining: 13.9s\n",
      "304:\tlearn: 0.3416163\ttotal: 6.08s\tremaining: 13.9s\n",
      "305:\tlearn: 0.3415281\ttotal: 6.1s\tremaining: 13.8s\n",
      "306:\tlearn: 0.3414377\ttotal: 6.12s\tremaining: 13.8s\n",
      "307:\tlearn: 0.3414196\ttotal: 6.14s\tremaining: 13.8s\n",
      "308:\tlearn: 0.3413789\ttotal: 6.17s\tremaining: 13.8s\n",
      "309:\tlearn: 0.3413174\ttotal: 6.19s\tremaining: 13.8s\n",
      "310:\tlearn: 0.3411978\ttotal: 6.21s\tremaining: 13.8s\n",
      "311:\tlearn: 0.3411708\ttotal: 6.23s\tremaining: 13.7s\n",
      "312:\tlearn: 0.3411421\ttotal: 6.25s\tremaining: 13.7s\n",
      "313:\tlearn: 0.3409839\ttotal: 6.27s\tremaining: 13.7s\n",
      "314:\tlearn: 0.3407741\ttotal: 6.3s\tremaining: 13.7s\n",
      "315:\tlearn: 0.3407386\ttotal: 6.32s\tremaining: 13.7s\n",
      "316:\tlearn: 0.3406513\ttotal: 6.34s\tremaining: 13.7s\n",
      "317:\tlearn: 0.3405515\ttotal: 6.36s\tremaining: 13.6s\n",
      "318:\tlearn: 0.3405476\ttotal: 6.38s\tremaining: 13.6s\n",
      "319:\tlearn: 0.3404501\ttotal: 6.41s\tremaining: 13.6s\n",
      "320:\tlearn: 0.3403859\ttotal: 6.43s\tremaining: 13.6s\n",
      "321:\tlearn: 0.3403385\ttotal: 6.45s\tremaining: 13.6s\n",
      "322:\tlearn: 0.3402434\ttotal: 6.47s\tremaining: 13.6s\n",
      "323:\tlearn: 0.3401549\ttotal: 6.49s\tremaining: 13.5s\n",
      "324:\tlearn: 0.3400106\ttotal: 6.51s\tremaining: 13.5s\n",
      "325:\tlearn: 0.3399248\ttotal: 6.53s\tremaining: 13.5s\n",
      "326:\tlearn: 0.3398455\ttotal: 6.55s\tremaining: 13.5s\n",
      "327:\tlearn: 0.3398290\ttotal: 6.57s\tremaining: 13.5s\n"
     ]
    },
    {
     "name": "stdout",
     "output_type": "stream",
     "text": [
      "328:\tlearn: 0.3397296\ttotal: 6.59s\tremaining: 13.4s\n",
      "329:\tlearn: 0.3395530\ttotal: 6.61s\tremaining: 13.4s\n",
      "330:\tlearn: 0.3394582\ttotal: 6.63s\tremaining: 13.4s\n",
      "331:\tlearn: 0.3393155\ttotal: 6.64s\tremaining: 13.4s\n",
      "332:\tlearn: 0.3392677\ttotal: 6.66s\tremaining: 13.3s\n",
      "333:\tlearn: 0.3391925\ttotal: 6.68s\tremaining: 13.3s\n",
      "334:\tlearn: 0.3391650\ttotal: 6.71s\tremaining: 13.3s\n",
      "335:\tlearn: 0.3391144\ttotal: 6.73s\tremaining: 13.3s\n",
      "336:\tlearn: 0.3390603\ttotal: 6.75s\tremaining: 13.3s\n",
      "337:\tlearn: 0.3389730\ttotal: 6.76s\tremaining: 13.2s\n",
      "338:\tlearn: 0.3389068\ttotal: 6.79s\tremaining: 13.2s\n",
      "339:\tlearn: 0.3387929\ttotal: 6.8s\tremaining: 13.2s\n",
      "340:\tlearn: 0.3386529\ttotal: 6.83s\tremaining: 13.2s\n",
      "341:\tlearn: 0.3385770\ttotal: 6.84s\tremaining: 13.2s\n",
      "342:\tlearn: 0.3385150\ttotal: 6.86s\tremaining: 13.1s\n",
      "343:\tlearn: 0.3383475\ttotal: 6.88s\tremaining: 13.1s\n",
      "344:\tlearn: 0.3383387\ttotal: 6.9s\tremaining: 13.1s\n",
      "345:\tlearn: 0.3382362\ttotal: 6.91s\tremaining: 13.1s\n",
      "346:\tlearn: 0.3380455\ttotal: 6.93s\tremaining: 13s\n",
      "347:\tlearn: 0.3379703\ttotal: 6.95s\tremaining: 13s\n",
      "348:\tlearn: 0.3379608\ttotal: 6.97s\tremaining: 13s\n",
      "349:\tlearn: 0.3378546\ttotal: 6.99s\tremaining: 13s\n",
      "350:\tlearn: 0.3377422\ttotal: 7s\tremaining: 13s\n",
      "351:\tlearn: 0.3377017\ttotal: 7.02s\tremaining: 12.9s\n",
      "352:\tlearn: 0.3376274\ttotal: 7.04s\tremaining: 12.9s\n",
      "353:\tlearn: 0.3376160\ttotal: 7.06s\tremaining: 12.9s\n",
      "354:\tlearn: 0.3375800\ttotal: 7.08s\tremaining: 12.9s\n",
      "355:\tlearn: 0.3374444\ttotal: 7.11s\tremaining: 12.9s\n",
      "356:\tlearn: 0.3372872\ttotal: 7.13s\tremaining: 12.8s\n",
      "357:\tlearn: 0.3371663\ttotal: 7.15s\tremaining: 12.8s\n",
      "358:\tlearn: 0.3370714\ttotal: 7.17s\tremaining: 12.8s\n",
      "359:\tlearn: 0.3370179\ttotal: 7.21s\tremaining: 12.8s\n",
      "360:\tlearn: 0.3369546\ttotal: 7.23s\tremaining: 12.8s\n",
      "361:\tlearn: 0.3368968\ttotal: 7.24s\tremaining: 12.8s\n",
      "362:\tlearn: 0.3368294\ttotal: 7.26s\tremaining: 12.7s\n",
      "363:\tlearn: 0.3366932\ttotal: 7.29s\tremaining: 12.7s\n",
      "364:\tlearn: 0.3366344\ttotal: 7.32s\tremaining: 12.7s\n",
      "365:\tlearn: 0.3365607\ttotal: 7.34s\tremaining: 12.7s\n",
      "366:\tlearn: 0.3365306\ttotal: 7.36s\tremaining: 12.7s\n",
      "367:\tlearn: 0.3364346\ttotal: 7.37s\tremaining: 12.7s\n",
      "368:\tlearn: 0.3363902\ttotal: 7.4s\tremaining: 12.7s\n",
      "369:\tlearn: 0.3363413\ttotal: 7.42s\tremaining: 12.6s\n",
      "370:\tlearn: 0.3363198\ttotal: 7.44s\tremaining: 12.6s\n",
      "371:\tlearn: 0.3360820\ttotal: 7.46s\tremaining: 12.6s\n",
      "372:\tlearn: 0.3360144\ttotal: 7.47s\tremaining: 12.6s\n",
      "373:\tlearn: 0.3359760\ttotal: 7.5s\tremaining: 12.5s\n",
      "374:\tlearn: 0.3359580\ttotal: 7.51s\tremaining: 12.5s\n",
      "375:\tlearn: 0.3359191\ttotal: 7.53s\tremaining: 12.5s\n",
      "376:\tlearn: 0.3358150\ttotal: 7.55s\tremaining: 12.5s\n",
      "377:\tlearn: 0.3357165\ttotal: 7.57s\tremaining: 12.5s\n",
      "378:\tlearn: 0.3356726\ttotal: 7.59s\tremaining: 12.4s\n",
      "379:\tlearn: 0.3355892\ttotal: 7.61s\tremaining: 12.4s\n",
      "380:\tlearn: 0.3354060\ttotal: 7.63s\tremaining: 12.4s\n",
      "381:\tlearn: 0.3353916\ttotal: 7.64s\tremaining: 12.4s\n",
      "382:\tlearn: 0.3353374\ttotal: 7.66s\tremaining: 12.3s\n",
      "383:\tlearn: 0.3351784\ttotal: 7.68s\tremaining: 12.3s\n",
      "384:\tlearn: 0.3351570\ttotal: 7.7s\tremaining: 12.3s\n",
      "385:\tlearn: 0.3350987\ttotal: 7.72s\tremaining: 12.3s\n",
      "386:\tlearn: 0.3350334\ttotal: 7.74s\tremaining: 12.3s\n",
      "387:\tlearn: 0.3349890\ttotal: 7.76s\tremaining: 12.2s\n",
      "388:\tlearn: 0.3349198\ttotal: 7.78s\tremaining: 12.2s\n",
      "389:\tlearn: 0.3348717\ttotal: 7.8s\tremaining: 12.2s\n",
      "390:\tlearn: 0.3348473\ttotal: 7.82s\tremaining: 12.2s\n",
      "391:\tlearn: 0.3347720\ttotal: 7.84s\tremaining: 12.2s\n",
      "392:\tlearn: 0.3347393\ttotal: 7.86s\tremaining: 12.1s\n",
      "393:\tlearn: 0.3347052\ttotal: 7.88s\tremaining: 12.1s\n",
      "394:\tlearn: 0.3345934\ttotal: 7.91s\tremaining: 12.1s\n",
      "395:\tlearn: 0.3345770\ttotal: 7.92s\tremaining: 12.1s\n",
      "396:\tlearn: 0.3344108\ttotal: 7.94s\tremaining: 12.1s\n",
      "397:\tlearn: 0.3343978\ttotal: 7.96s\tremaining: 12s\n",
      "398:\tlearn: 0.3343034\ttotal: 7.98s\tremaining: 12s\n",
      "399:\tlearn: 0.3341869\ttotal: 8s\tremaining: 12s\n",
      "400:\tlearn: 0.3341265\ttotal: 8.02s\tremaining: 12s\n",
      "401:\tlearn: 0.3340860\ttotal: 8.04s\tremaining: 12s\n",
      "402:\tlearn: 0.3340557\ttotal: 8.09s\tremaining: 12s\n",
      "403:\tlearn: 0.3339813\ttotal: 8.1s\tremaining: 12s\n",
      "404:\tlearn: 0.3339185\ttotal: 8.12s\tremaining: 11.9s\n",
      "405:\tlearn: 0.3338260\ttotal: 8.14s\tremaining: 11.9s\n",
      "406:\tlearn: 0.3337991\ttotal: 8.17s\tremaining: 11.9s\n",
      "407:\tlearn: 0.3337605\ttotal: 8.18s\tremaining: 11.9s\n",
      "408:\tlearn: 0.3337301\ttotal: 8.2s\tremaining: 11.9s\n",
      "409:\tlearn: 0.3336725\ttotal: 8.22s\tremaining: 11.8s\n",
      "410:\tlearn: 0.3336658\ttotal: 8.24s\tremaining: 11.8s\n",
      "411:\tlearn: 0.3336111\ttotal: 8.26s\tremaining: 11.8s\n",
      "412:\tlearn: 0.3335562\ttotal: 8.28s\tremaining: 11.8s\n",
      "413:\tlearn: 0.3335203\ttotal: 8.3s\tremaining: 11.7s\n",
      "414:\tlearn: 0.3334853\ttotal: 8.33s\tremaining: 11.7s\n",
      "415:\tlearn: 0.3334310\ttotal: 8.36s\tremaining: 11.7s\n",
      "416:\tlearn: 0.3333210\ttotal: 8.38s\tremaining: 11.7s\n",
      "417:\tlearn: 0.3332615\ttotal: 8.4s\tremaining: 11.7s\n",
      "418:\tlearn: 0.3331923\ttotal: 8.42s\tremaining: 11.7s\n",
      "419:\tlearn: 0.3330435\ttotal: 8.44s\tremaining: 11.7s\n",
      "420:\tlearn: 0.3329659\ttotal: 8.46s\tremaining: 11.6s\n",
      "421:\tlearn: 0.3328606\ttotal: 8.48s\tremaining: 11.6s\n",
      "422:\tlearn: 0.3328126\ttotal: 8.5s\tremaining: 11.6s\n",
      "423:\tlearn: 0.3327726\ttotal: 8.52s\tremaining: 11.6s\n",
      "424:\tlearn: 0.3326428\ttotal: 8.54s\tremaining: 11.6s\n",
      "425:\tlearn: 0.3326077\ttotal: 8.56s\tremaining: 11.5s\n",
      "426:\tlearn: 0.3325029\ttotal: 8.58s\tremaining: 11.5s\n",
      "427:\tlearn: 0.3323867\ttotal: 8.6s\tremaining: 11.5s\n",
      "428:\tlearn: 0.3322429\ttotal: 8.62s\tremaining: 11.5s\n",
      "429:\tlearn: 0.3322153\ttotal: 8.64s\tremaining: 11.5s\n",
      "430:\tlearn: 0.3321511\ttotal: 8.66s\tremaining: 11.4s\n",
      "431:\tlearn: 0.3321302\ttotal: 8.68s\tremaining: 11.4s\n",
      "432:\tlearn: 0.3319584\ttotal: 8.7s\tremaining: 11.4s\n",
      "433:\tlearn: 0.3318440\ttotal: 8.72s\tremaining: 11.4s\n",
      "434:\tlearn: 0.3317719\ttotal: 8.76s\tremaining: 11.4s\n",
      "435:\tlearn: 0.3316836\ttotal: 8.78s\tremaining: 11.4s\n",
      "436:\tlearn: 0.3316542\ttotal: 8.81s\tremaining: 11.3s\n",
      "437:\tlearn: 0.3316473\ttotal: 8.83s\tremaining: 11.3s\n",
      "438:\tlearn: 0.3316234\ttotal: 8.85s\tremaining: 11.3s\n",
      "439:\tlearn: 0.3315669\ttotal: 8.87s\tremaining: 11.3s\n",
      "440:\tlearn: 0.3315449\ttotal: 8.89s\tremaining: 11.3s\n",
      "441:\tlearn: 0.3314452\ttotal: 8.93s\tremaining: 11.3s\n",
      "442:\tlearn: 0.3312869\ttotal: 8.96s\tremaining: 11.3s\n",
      "443:\tlearn: 0.3312131\ttotal: 8.98s\tremaining: 11.2s\n",
      "444:\tlearn: 0.3310729\ttotal: 9s\tremaining: 11.2s\n",
      "445:\tlearn: 0.3310619\ttotal: 9.02s\tremaining: 11.2s\n",
      "446:\tlearn: 0.3310408\ttotal: 9.06s\tremaining: 11.2s\n",
      "447:\tlearn: 0.3309961\ttotal: 9.08s\tremaining: 11.2s\n",
      "448:\tlearn: 0.3309398\ttotal: 9.1s\tremaining: 11.2s\n",
      "449:\tlearn: 0.3308526\ttotal: 9.12s\tremaining: 11.1s\n",
      "450:\tlearn: 0.3307678\ttotal: 9.14s\tremaining: 11.1s\n",
      "451:\tlearn: 0.3307423\ttotal: 9.17s\tremaining: 11.1s\n",
      "452:\tlearn: 0.3307270\ttotal: 9.19s\tremaining: 11.1s\n",
      "453:\tlearn: 0.3306507\ttotal: 9.21s\tremaining: 11.1s\n",
      "454:\tlearn: 0.3306217\ttotal: 9.23s\tremaining: 11.1s\n",
      "455:\tlearn: 0.3305802\ttotal: 9.25s\tremaining: 11s\n",
      "456:\tlearn: 0.3305236\ttotal: 9.27s\tremaining: 11s\n",
      "457:\tlearn: 0.3304588\ttotal: 9.3s\tremaining: 11s\n",
      "458:\tlearn: 0.3303304\ttotal: 9.32s\tremaining: 11s\n",
      "459:\tlearn: 0.3302379\ttotal: 9.34s\tremaining: 11s\n",
      "460:\tlearn: 0.3301707\ttotal: 9.39s\tremaining: 11s\n",
      "461:\tlearn: 0.3300166\ttotal: 9.41s\tremaining: 11s\n",
      "462:\tlearn: 0.3299632\ttotal: 9.43s\tremaining: 10.9s\n",
      "463:\tlearn: 0.3298845\ttotal: 9.45s\tremaining: 10.9s\n",
      "464:\tlearn: 0.3297999\ttotal: 9.47s\tremaining: 10.9s\n",
      "465:\tlearn: 0.3297489\ttotal: 9.49s\tremaining: 10.9s\n",
      "466:\tlearn: 0.3296895\ttotal: 9.51s\tremaining: 10.9s\n",
      "467:\tlearn: 0.3296501\ttotal: 9.53s\tremaining: 10.8s\n",
      "468:\tlearn: 0.3296228\ttotal: 9.55s\tremaining: 10.8s\n",
      "469:\tlearn: 0.3295513\ttotal: 9.57s\tremaining: 10.8s\n",
      "470:\tlearn: 0.3294859\ttotal: 9.59s\tremaining: 10.8s\n",
      "471:\tlearn: 0.3293368\ttotal: 9.61s\tremaining: 10.8s\n",
      "472:\tlearn: 0.3292607\ttotal: 9.63s\tremaining: 10.7s\n",
      "473:\tlearn: 0.3292356\ttotal: 9.65s\tremaining: 10.7s\n",
      "474:\tlearn: 0.3291114\ttotal: 9.67s\tremaining: 10.7s\n",
      "475:\tlearn: 0.3290765\ttotal: 9.7s\tremaining: 10.7s\n",
      "476:\tlearn: 0.3290548\ttotal: 9.73s\tremaining: 10.7s\n",
      "477:\tlearn: 0.3289962\ttotal: 9.75s\tremaining: 10.6s\n",
      "478:\tlearn: 0.3289614\ttotal: 9.77s\tremaining: 10.6s\n",
      "479:\tlearn: 0.3289091\ttotal: 9.79s\tremaining: 10.6s\n",
      "480:\tlearn: 0.3288654\ttotal: 9.84s\tremaining: 10.6s\n",
      "481:\tlearn: 0.3286595\ttotal: 9.85s\tremaining: 10.6s\n",
      "482:\tlearn: 0.3285898\ttotal: 9.87s\tremaining: 10.6s\n",
      "483:\tlearn: 0.3284642\ttotal: 9.89s\tremaining: 10.5s\n",
      "484:\tlearn: 0.3284239\ttotal: 9.91s\tremaining: 10.5s\n",
      "485:\tlearn: 0.3283018\ttotal: 9.94s\tremaining: 10.5s\n",
      "486:\tlearn: 0.3281687\ttotal: 9.98s\tremaining: 10.5s\n",
      "487:\tlearn: 0.3281500\ttotal: 10s\tremaining: 10.5s\n",
      "488:\tlearn: 0.3280822\ttotal: 10s\tremaining: 10.5s\n",
      "489:\tlearn: 0.3280336\ttotal: 10s\tremaining: 10.4s\n",
      "490:\tlearn: 0.3279722\ttotal: 10.1s\tremaining: 10.4s\n",
      "491:\tlearn: 0.3279281\ttotal: 10.1s\tremaining: 10.4s\n"
     ]
    },
    {
     "name": "stdout",
     "output_type": "stream",
     "text": [
      "492:\tlearn: 0.3278551\ttotal: 10.1s\tremaining: 10.4s\n",
      "493:\tlearn: 0.3278109\ttotal: 10.2s\tremaining: 10.4s\n",
      "494:\tlearn: 0.3277591\ttotal: 10.2s\tremaining: 10.4s\n",
      "495:\tlearn: 0.3277107\ttotal: 10.2s\tremaining: 10.4s\n",
      "496:\tlearn: 0.3276370\ttotal: 10.2s\tremaining: 10.3s\n",
      "497:\tlearn: 0.3275455\ttotal: 10.2s\tremaining: 10.3s\n",
      "498:\tlearn: 0.3274845\ttotal: 10.3s\tremaining: 10.3s\n",
      "499:\tlearn: 0.3274416\ttotal: 10.3s\tremaining: 10.3s\n",
      "500:\tlearn: 0.3273409\ttotal: 10.3s\tremaining: 10.3s\n",
      "501:\tlearn: 0.3272468\ttotal: 10.3s\tremaining: 10.3s\n",
      "502:\tlearn: 0.3271667\ttotal: 10.4s\tremaining: 10.2s\n",
      "503:\tlearn: 0.3271598\ttotal: 10.4s\tremaining: 10.2s\n",
      "504:\tlearn: 0.3270886\ttotal: 10.4s\tremaining: 10.2s\n",
      "505:\tlearn: 0.3270494\ttotal: 10.4s\tremaining: 10.2s\n",
      "506:\tlearn: 0.3270189\ttotal: 10.5s\tremaining: 10.2s\n",
      "507:\tlearn: 0.3269700\ttotal: 10.5s\tremaining: 10.2s\n",
      "508:\tlearn: 0.3268942\ttotal: 10.5s\tremaining: 10.2s\n",
      "509:\tlearn: 0.3268700\ttotal: 10.6s\tremaining: 10.1s\n",
      "510:\tlearn: 0.3268237\ttotal: 10.6s\tremaining: 10.1s\n",
      "511:\tlearn: 0.3267129\ttotal: 10.6s\tremaining: 10.1s\n",
      "512:\tlearn: 0.3265313\ttotal: 10.6s\tremaining: 10.1s\n",
      "513:\tlearn: 0.3264343\ttotal: 10.7s\tremaining: 10.1s\n",
      "514:\tlearn: 0.3263830\ttotal: 10.7s\tremaining: 10.1s\n",
      "515:\tlearn: 0.3263486\ttotal: 10.7s\tremaining: 10s\n",
      "516:\tlearn: 0.3262945\ttotal: 10.7s\tremaining: 10s\n",
      "517:\tlearn: 0.3262376\ttotal: 10.7s\tremaining: 10s\n",
      "518:\tlearn: 0.3262191\ttotal: 10.8s\tremaining: 9.99s\n",
      "519:\tlearn: 0.3261179\ttotal: 10.8s\tremaining: 9.97s\n",
      "520:\tlearn: 0.3260602\ttotal: 10.8s\tremaining: 9.96s\n",
      "521:\tlearn: 0.3259829\ttotal: 10.8s\tremaining: 9.94s\n",
      "522:\tlearn: 0.3259097\ttotal: 10.9s\tremaining: 9.91s\n",
      "523:\tlearn: 0.3257917\ttotal: 10.9s\tremaining: 9.89s\n",
      "524:\tlearn: 0.3257214\ttotal: 10.9s\tremaining: 9.87s\n",
      "525:\tlearn: 0.3256996\ttotal: 10.9s\tremaining: 9.85s\n",
      "526:\tlearn: 0.3256360\ttotal: 11s\tremaining: 9.84s\n",
      "527:\tlearn: 0.3254823\ttotal: 11s\tremaining: 9.82s\n",
      "528:\tlearn: 0.3254524\ttotal: 11s\tremaining: 9.8s\n",
      "529:\tlearn: 0.3254286\ttotal: 11s\tremaining: 9.78s\n",
      "530:\tlearn: 0.3254222\ttotal: 11.1s\tremaining: 9.77s\n",
      "531:\tlearn: 0.3253093\ttotal: 11.1s\tremaining: 9.75s\n",
      "532:\tlearn: 0.3252180\ttotal: 11.1s\tremaining: 9.73s\n",
      "533:\tlearn: 0.3251491\ttotal: 11.2s\tremaining: 9.74s\n",
      "534:\tlearn: 0.3250776\ttotal: 11.2s\tremaining: 9.72s\n",
      "535:\tlearn: 0.3250142\ttotal: 11.2s\tremaining: 9.7s\n",
      "536:\tlearn: 0.3249703\ttotal: 11.2s\tremaining: 9.68s\n",
      "537:\tlearn: 0.3248821\ttotal: 11.2s\tremaining: 9.66s\n",
      "538:\tlearn: 0.3248322\ttotal: 11.3s\tremaining: 9.64s\n",
      "539:\tlearn: 0.3247524\ttotal: 11.3s\tremaining: 9.61s\n",
      "540:\tlearn: 0.3246650\ttotal: 11.3s\tremaining: 9.59s\n",
      "541:\tlearn: 0.3246539\ttotal: 11.3s\tremaining: 9.57s\n",
      "542:\tlearn: 0.3244971\ttotal: 11.3s\tremaining: 9.54s\n",
      "543:\tlearn: 0.3244359\ttotal: 11.4s\tremaining: 9.52s\n",
      "544:\tlearn: 0.3243892\ttotal: 11.4s\tremaining: 9.5s\n",
      "545:\tlearn: 0.3243480\ttotal: 11.4s\tremaining: 9.48s\n",
      "546:\tlearn: 0.3243160\ttotal: 11.4s\tremaining: 9.46s\n",
      "547:\tlearn: 0.3243026\ttotal: 11.4s\tremaining: 9.44s\n",
      "548:\tlearn: 0.3242633\ttotal: 11.5s\tremaining: 9.43s\n",
      "549:\tlearn: 0.3242236\ttotal: 11.5s\tremaining: 9.41s\n",
      "550:\tlearn: 0.3242010\ttotal: 11.5s\tremaining: 9.38s\n",
      "551:\tlearn: 0.3241432\ttotal: 11.5s\tremaining: 9.37s\n",
      "552:\tlearn: 0.3241312\ttotal: 11.6s\tremaining: 9.34s\n",
      "553:\tlearn: 0.3240819\ttotal: 11.6s\tremaining: 9.32s\n",
      "554:\tlearn: 0.3240118\ttotal: 11.6s\tremaining: 9.3s\n",
      "555:\tlearn: 0.3239992\ttotal: 11.6s\tremaining: 9.29s\n",
      "556:\tlearn: 0.3239679\ttotal: 11.7s\tremaining: 9.27s\n",
      "557:\tlearn: 0.3238971\ttotal: 11.7s\tremaining: 9.25s\n",
      "558:\tlearn: 0.3237931\ttotal: 11.7s\tremaining: 9.23s\n",
      "559:\tlearn: 0.3237916\ttotal: 11.7s\tremaining: 9.2s\n",
      "560:\tlearn: 0.3237340\ttotal: 11.7s\tremaining: 9.18s\n",
      "561:\tlearn: 0.3236305\ttotal: 11.8s\tremaining: 9.17s\n",
      "562:\tlearn: 0.3235696\ttotal: 11.8s\tremaining: 9.16s\n",
      "563:\tlearn: 0.3235037\ttotal: 11.8s\tremaining: 9.14s\n",
      "564:\tlearn: 0.3233399\ttotal: 11.9s\tremaining: 9.13s\n",
      "565:\tlearn: 0.3231769\ttotal: 11.9s\tremaining: 9.11s\n",
      "566:\tlearn: 0.3231207\ttotal: 11.9s\tremaining: 9.1s\n",
      "567:\tlearn: 0.3230088\ttotal: 11.9s\tremaining: 9.07s\n",
      "568:\tlearn: 0.3229605\ttotal: 12s\tremaining: 9.06s\n",
      "569:\tlearn: 0.3229583\ttotal: 12s\tremaining: 9.05s\n",
      "570:\tlearn: 0.3228458\ttotal: 12s\tremaining: 9.02s\n",
      "571:\tlearn: 0.3226973\ttotal: 12s\tremaining: 9s\n",
      "572:\tlearn: 0.3226573\ttotal: 12s\tremaining: 8.98s\n",
      "573:\tlearn: 0.3225602\ttotal: 12.1s\tremaining: 8.96s\n",
      "574:\tlearn: 0.3225488\ttotal: 12.1s\tremaining: 8.95s\n",
      "575:\tlearn: 0.3225449\ttotal: 12.1s\tremaining: 8.93s\n",
      "576:\tlearn: 0.3224662\ttotal: 12.1s\tremaining: 8.91s\n",
      "577:\tlearn: 0.3224366\ttotal: 12.2s\tremaining: 8.89s\n",
      "578:\tlearn: 0.3224045\ttotal: 12.2s\tremaining: 8.87s\n",
      "579:\tlearn: 0.3223295\ttotal: 12.2s\tremaining: 8.86s\n",
      "580:\tlearn: 0.3223020\ttotal: 12.3s\tremaining: 8.86s\n",
      "581:\tlearn: 0.3222981\ttotal: 12.3s\tremaining: 8.84s\n",
      "582:\tlearn: 0.3222475\ttotal: 12.3s\tremaining: 8.81s\n",
      "583:\tlearn: 0.3221976\ttotal: 12.3s\tremaining: 8.79s\n",
      "584:\tlearn: 0.3220857\ttotal: 12.4s\tremaining: 8.77s\n",
      "585:\tlearn: 0.3220613\ttotal: 12.4s\tremaining: 8.75s\n",
      "586:\tlearn: 0.3220107\ttotal: 12.4s\tremaining: 8.73s\n",
      "587:\tlearn: 0.3219877\ttotal: 12.4s\tremaining: 8.72s\n",
      "588:\tlearn: 0.3218367\ttotal: 12.5s\tremaining: 8.7s\n",
      "589:\tlearn: 0.3217348\ttotal: 12.5s\tremaining: 8.68s\n",
      "590:\tlearn: 0.3217150\ttotal: 12.5s\tremaining: 8.66s\n",
      "591:\tlearn: 0.3216540\ttotal: 12.5s\tremaining: 8.63s\n",
      "592:\tlearn: 0.3215912\ttotal: 12.5s\tremaining: 8.61s\n",
      "593:\tlearn: 0.3215673\ttotal: 12.6s\tremaining: 8.6s\n",
      "594:\tlearn: 0.3213766\ttotal: 12.6s\tremaining: 8.57s\n",
      "595:\tlearn: 0.3212931\ttotal: 12.6s\tremaining: 8.55s\n",
      "596:\tlearn: 0.3212819\ttotal: 12.6s\tremaining: 8.53s\n",
      "597:\tlearn: 0.3212152\ttotal: 12.7s\tremaining: 8.5s\n",
      "598:\tlearn: 0.3211848\ttotal: 12.7s\tremaining: 8.49s\n",
      "599:\tlearn: 0.3211711\ttotal: 12.7s\tremaining: 8.47s\n",
      "600:\tlearn: 0.3211270\ttotal: 12.7s\tremaining: 8.45s\n",
      "601:\tlearn: 0.3211013\ttotal: 12.8s\tremaining: 8.43s\n",
      "602:\tlearn: 0.3210431\ttotal: 12.8s\tremaining: 8.41s\n",
      "603:\tlearn: 0.3209835\ttotal: 12.8s\tremaining: 8.39s\n",
      "604:\tlearn: 0.3208543\ttotal: 12.8s\tremaining: 8.36s\n",
      "605:\tlearn: 0.3208193\ttotal: 12.8s\tremaining: 8.34s\n",
      "606:\tlearn: 0.3207417\ttotal: 12.9s\tremaining: 8.32s\n",
      "607:\tlearn: 0.3206141\ttotal: 12.9s\tremaining: 8.3s\n",
      "608:\tlearn: 0.3205950\ttotal: 12.9s\tremaining: 8.28s\n",
      "609:\tlearn: 0.3204992\ttotal: 12.9s\tremaining: 8.26s\n",
      "610:\tlearn: 0.3204978\ttotal: 12.9s\tremaining: 8.24s\n",
      "611:\tlearn: 0.3204664\ttotal: 13s\tremaining: 8.23s\n",
      "612:\tlearn: 0.3204518\ttotal: 13s\tremaining: 8.21s\n",
      "613:\tlearn: 0.3203928\ttotal: 13s\tremaining: 8.19s\n",
      "614:\tlearn: 0.3203488\ttotal: 13s\tremaining: 8.17s\n",
      "615:\tlearn: 0.3203004\ttotal: 13.1s\tremaining: 8.15s\n",
      "616:\tlearn: 0.3202817\ttotal: 13.1s\tremaining: 8.12s\n",
      "617:\tlearn: 0.3202072\ttotal: 13.1s\tremaining: 8.1s\n",
      "618:\tlearn: 0.3201857\ttotal: 13.1s\tremaining: 8.08s\n",
      "619:\tlearn: 0.3200898\ttotal: 13.1s\tremaining: 8.05s\n",
      "620:\tlearn: 0.3200295\ttotal: 13.2s\tremaining: 8.03s\n",
      "621:\tlearn: 0.3199855\ttotal: 13.2s\tremaining: 8.01s\n",
      "622:\tlearn: 0.3198373\ttotal: 13.2s\tremaining: 7.99s\n",
      "623:\tlearn: 0.3197328\ttotal: 13.2s\tremaining: 7.96s\n",
      "624:\tlearn: 0.3197142\ttotal: 13.2s\tremaining: 7.94s\n",
      "625:\tlearn: 0.3195797\ttotal: 13.3s\tremaining: 7.92s\n",
      "626:\tlearn: 0.3195185\ttotal: 13.3s\tremaining: 7.9s\n",
      "627:\tlearn: 0.3194187\ttotal: 13.3s\tremaining: 7.88s\n",
      "628:\tlearn: 0.3193344\ttotal: 13.3s\tremaining: 7.86s\n",
      "629:\tlearn: 0.3191766\ttotal: 13.3s\tremaining: 7.83s\n",
      "630:\tlearn: 0.3191386\ttotal: 13.4s\tremaining: 7.81s\n",
      "631:\tlearn: 0.3190739\ttotal: 13.4s\tremaining: 7.79s\n",
      "632:\tlearn: 0.3190263\ttotal: 13.4s\tremaining: 7.77s\n",
      "633:\tlearn: 0.3188713\ttotal: 13.4s\tremaining: 7.75s\n",
      "634:\tlearn: 0.3188005\ttotal: 13.4s\tremaining: 7.72s\n",
      "635:\tlearn: 0.3187525\ttotal: 13.5s\tremaining: 7.7s\n",
      "636:\tlearn: 0.3187097\ttotal: 13.5s\tremaining: 7.68s\n",
      "637:\tlearn: 0.3186828\ttotal: 13.5s\tremaining: 7.66s\n",
      "638:\tlearn: 0.3186381\ttotal: 13.5s\tremaining: 7.64s\n",
      "639:\tlearn: 0.3183860\ttotal: 13.5s\tremaining: 7.62s\n",
      "640:\tlearn: 0.3183688\ttotal: 13.6s\tremaining: 7.6s\n",
      "641:\tlearn: 0.3183439\ttotal: 13.6s\tremaining: 7.57s\n",
      "642:\tlearn: 0.3182933\ttotal: 13.6s\tremaining: 7.55s\n",
      "643:\tlearn: 0.3182349\ttotal: 13.6s\tremaining: 7.53s\n",
      "644:\tlearn: 0.3181830\ttotal: 13.6s\tremaining: 7.51s\n",
      "645:\tlearn: 0.3181765\ttotal: 13.7s\tremaining: 7.49s\n",
      "646:\tlearn: 0.3181360\ttotal: 13.7s\tremaining: 7.47s\n",
      "647:\tlearn: 0.3179862\ttotal: 13.7s\tremaining: 7.45s\n",
      "648:\tlearn: 0.3178968\ttotal: 13.7s\tremaining: 7.42s\n",
      "649:\tlearn: 0.3178556\ttotal: 13.7s\tremaining: 7.4s\n",
      "650:\tlearn: 0.3178234\ttotal: 13.8s\tremaining: 7.38s\n",
      "651:\tlearn: 0.3178078\ttotal: 13.8s\tremaining: 7.38s\n",
      "652:\tlearn: 0.3177761\ttotal: 13.8s\tremaining: 7.35s\n",
      "653:\tlearn: 0.3176923\ttotal: 13.9s\tremaining: 7.33s\n",
      "654:\tlearn: 0.3176376\ttotal: 13.9s\tremaining: 7.31s\n",
      "655:\tlearn: 0.3175912\ttotal: 13.9s\tremaining: 7.29s\n",
      "656:\tlearn: 0.3175234\ttotal: 13.9s\tremaining: 7.26s\n"
     ]
    },
    {
     "name": "stdout",
     "output_type": "stream",
     "text": [
      "657:\tlearn: 0.3174325\ttotal: 13.9s\tremaining: 7.24s\n",
      "658:\tlearn: 0.3174090\ttotal: 14s\tremaining: 7.22s\n",
      "659:\tlearn: 0.3172873\ttotal: 14s\tremaining: 7.2s\n",
      "660:\tlearn: 0.3172673\ttotal: 14s\tremaining: 7.18s\n",
      "661:\tlearn: 0.3171823\ttotal: 14s\tremaining: 7.16s\n",
      "662:\tlearn: 0.3170438\ttotal: 14s\tremaining: 7.14s\n",
      "663:\tlearn: 0.3169678\ttotal: 14.1s\tremaining: 7.12s\n",
      "664:\tlearn: 0.3169101\ttotal: 14.1s\tremaining: 7.1s\n",
      "665:\tlearn: 0.3167991\ttotal: 14.1s\tremaining: 7.07s\n",
      "666:\tlearn: 0.3167838\ttotal: 14.1s\tremaining: 7.05s\n",
      "667:\tlearn: 0.3167500\ttotal: 14.2s\tremaining: 7.03s\n",
      "668:\tlearn: 0.3167275\ttotal: 14.2s\tremaining: 7.01s\n",
      "669:\tlearn: 0.3166895\ttotal: 14.2s\tremaining: 6.99s\n",
      "670:\tlearn: 0.3166418\ttotal: 14.2s\tremaining: 6.96s\n",
      "671:\tlearn: 0.3165945\ttotal: 14.2s\tremaining: 6.94s\n",
      "672:\tlearn: 0.3164318\ttotal: 14.2s\tremaining: 6.92s\n",
      "673:\tlearn: 0.3163958\ttotal: 14.3s\tremaining: 6.9s\n",
      "674:\tlearn: 0.3163210\ttotal: 14.3s\tremaining: 6.88s\n",
      "675:\tlearn: 0.3162951\ttotal: 14.3s\tremaining: 6.86s\n",
      "676:\tlearn: 0.3162476\ttotal: 14.3s\tremaining: 6.84s\n",
      "677:\tlearn: 0.3162085\ttotal: 14.4s\tremaining: 6.82s\n",
      "678:\tlearn: 0.3161450\ttotal: 14.4s\tremaining: 6.8s\n",
      "679:\tlearn: 0.3161362\ttotal: 14.4s\tremaining: 6.78s\n",
      "680:\tlearn: 0.3160672\ttotal: 14.4s\tremaining: 6.75s\n",
      "681:\tlearn: 0.3160217\ttotal: 14.4s\tremaining: 6.73s\n",
      "682:\tlearn: 0.3159611\ttotal: 14.5s\tremaining: 6.71s\n",
      "683:\tlearn: 0.3158912\ttotal: 14.5s\tremaining: 6.69s\n",
      "684:\tlearn: 0.3157106\ttotal: 14.5s\tremaining: 6.68s\n",
      "685:\tlearn: 0.3155975\ttotal: 14.5s\tremaining: 6.66s\n",
      "686:\tlearn: 0.3155952\ttotal: 14.6s\tremaining: 6.63s\n",
      "687:\tlearn: 0.3155607\ttotal: 14.6s\tremaining: 6.61s\n",
      "688:\tlearn: 0.3155198\ttotal: 14.6s\tremaining: 6.59s\n",
      "689:\tlearn: 0.3153972\ttotal: 14.6s\tremaining: 6.57s\n",
      "690:\tlearn: 0.3153514\ttotal: 14.7s\tremaining: 6.55s\n",
      "691:\tlearn: 0.3153477\ttotal: 14.7s\tremaining: 6.53s\n",
      "692:\tlearn: 0.3152099\ttotal: 14.7s\tremaining: 6.51s\n",
      "693:\tlearn: 0.3151471\ttotal: 14.7s\tremaining: 6.49s\n",
      "694:\tlearn: 0.3150775\ttotal: 14.7s\tremaining: 6.46s\n",
      "695:\tlearn: 0.3150055\ttotal: 14.7s\tremaining: 6.44s\n",
      "696:\tlearn: 0.3149173\ttotal: 14.8s\tremaining: 6.42s\n",
      "697:\tlearn: 0.3148366\ttotal: 14.8s\tremaining: 6.4s\n",
      "698:\tlearn: 0.3147989\ttotal: 14.8s\tremaining: 6.37s\n",
      "699:\tlearn: 0.3147030\ttotal: 14.8s\tremaining: 6.35s\n",
      "700:\tlearn: 0.3146271\ttotal: 14.8s\tremaining: 6.33s\n",
      "701:\tlearn: 0.3146115\ttotal: 14.9s\tremaining: 6.31s\n",
      "702:\tlearn: 0.3145271\ttotal: 14.9s\tremaining: 6.29s\n",
      "703:\tlearn: 0.3144454\ttotal: 14.9s\tremaining: 6.26s\n",
      "704:\tlearn: 0.3143837\ttotal: 14.9s\tremaining: 6.24s\n",
      "705:\tlearn: 0.3142438\ttotal: 14.9s\tremaining: 6.22s\n",
      "706:\tlearn: 0.3142214\ttotal: 15s\tremaining: 6.2s\n",
      "707:\tlearn: 0.3141354\ttotal: 15s\tremaining: 6.17s\n",
      "708:\tlearn: 0.3141231\ttotal: 15s\tremaining: 6.15s\n",
      "709:\tlearn: 0.3140133\ttotal: 15s\tremaining: 6.13s\n",
      "710:\tlearn: 0.3139855\ttotal: 15s\tremaining: 6.11s\n",
      "711:\tlearn: 0.3138210\ttotal: 15s\tremaining: 6.09s\n",
      "712:\tlearn: 0.3137443\ttotal: 15.1s\tremaining: 6.06s\n",
      "713:\tlearn: 0.3136958\ttotal: 15.1s\tremaining: 6.04s\n",
      "714:\tlearn: 0.3135320\ttotal: 15.1s\tremaining: 6.02s\n",
      "715:\tlearn: 0.3135252\ttotal: 15.1s\tremaining: 6s\n",
      "716:\tlearn: 0.3135085\ttotal: 15.1s\tremaining: 5.98s\n",
      "717:\tlearn: 0.3134654\ttotal: 15.2s\tremaining: 5.95s\n",
      "718:\tlearn: 0.3134392\ttotal: 15.2s\tremaining: 5.94s\n",
      "719:\tlearn: 0.3133138\ttotal: 15.2s\tremaining: 5.91s\n",
      "720:\tlearn: 0.3132344\ttotal: 15.2s\tremaining: 5.89s\n",
      "721:\tlearn: 0.3132043\ttotal: 15.3s\tremaining: 5.87s\n",
      "722:\tlearn: 0.3130646\ttotal: 15.3s\tremaining: 5.85s\n",
      "723:\tlearn: 0.3130442\ttotal: 15.3s\tremaining: 5.83s\n",
      "724:\tlearn: 0.3130186\ttotal: 15.3s\tremaining: 5.8s\n",
      "725:\tlearn: 0.3129848\ttotal: 15.3s\tremaining: 5.79s\n",
      "726:\tlearn: 0.3129684\ttotal: 15.3s\tremaining: 5.76s\n",
      "727:\tlearn: 0.3129108\ttotal: 15.4s\tremaining: 5.74s\n",
      "728:\tlearn: 0.3128644\ttotal: 15.4s\tremaining: 5.72s\n",
      "729:\tlearn: 0.3128302\ttotal: 15.4s\tremaining: 5.7s\n",
      "730:\tlearn: 0.3127146\ttotal: 15.4s\tremaining: 5.67s\n",
      "731:\tlearn: 0.3126252\ttotal: 15.4s\tremaining: 5.65s\n",
      "732:\tlearn: 0.3124814\ttotal: 15.5s\tremaining: 5.63s\n",
      "733:\tlearn: 0.3124603\ttotal: 15.5s\tremaining: 5.62s\n",
      "734:\tlearn: 0.3123929\ttotal: 15.5s\tremaining: 5.6s\n",
      "735:\tlearn: 0.3122739\ttotal: 15.6s\tremaining: 5.58s\n",
      "736:\tlearn: 0.3121953\ttotal: 15.6s\tremaining: 5.56s\n",
      "737:\tlearn: 0.3121558\ttotal: 15.6s\tremaining: 5.54s\n",
      "738:\tlearn: 0.3121321\ttotal: 15.6s\tremaining: 5.51s\n",
      "739:\tlearn: 0.3121057\ttotal: 15.6s\tremaining: 5.49s\n",
      "740:\tlearn: 0.3120862\ttotal: 15.6s\tremaining: 5.47s\n",
      "741:\tlearn: 0.3119933\ttotal: 15.7s\tremaining: 5.45s\n",
      "742:\tlearn: 0.3118601\ttotal: 15.7s\tremaining: 5.42s\n",
      "743:\tlearn: 0.3118267\ttotal: 15.7s\tremaining: 5.4s\n",
      "744:\tlearn: 0.3117472\ttotal: 15.7s\tremaining: 5.38s\n",
      "745:\tlearn: 0.3116831\ttotal: 15.7s\tremaining: 5.36s\n",
      "746:\tlearn: 0.3116389\ttotal: 15.8s\tremaining: 5.33s\n",
      "747:\tlearn: 0.3114762\ttotal: 15.8s\tremaining: 5.31s\n",
      "748:\tlearn: 0.3114468\ttotal: 15.8s\tremaining: 5.29s\n",
      "749:\tlearn: 0.3113464\ttotal: 15.8s\tremaining: 5.27s\n",
      "750:\tlearn: 0.3112902\ttotal: 15.8s\tremaining: 5.25s\n",
      "751:\tlearn: 0.3112371\ttotal: 15.9s\tremaining: 5.23s\n",
      "752:\tlearn: 0.3111693\ttotal: 15.9s\tremaining: 5.21s\n",
      "753:\tlearn: 0.3110924\ttotal: 15.9s\tremaining: 5.19s\n",
      "754:\tlearn: 0.3110122\ttotal: 15.9s\tremaining: 5.17s\n",
      "755:\tlearn: 0.3109693\ttotal: 15.9s\tremaining: 5.14s\n",
      "756:\tlearn: 0.3108957\ttotal: 16s\tremaining: 5.13s\n",
      "757:\tlearn: 0.3108319\ttotal: 16s\tremaining: 5.1s\n",
      "758:\tlearn: 0.3108020\ttotal: 16s\tremaining: 5.08s\n",
      "759:\tlearn: 0.3107717\ttotal: 16s\tremaining: 5.06s\n",
      "760:\tlearn: 0.3106618\ttotal: 16s\tremaining: 5.04s\n",
      "761:\tlearn: 0.3106029\ttotal: 16.1s\tremaining: 5.02s\n",
      "762:\tlearn: 0.3105111\ttotal: 16.1s\tremaining: 5s\n",
      "763:\tlearn: 0.3104773\ttotal: 16.1s\tremaining: 4.97s\n",
      "764:\tlearn: 0.3103666\ttotal: 16.1s\tremaining: 4.95s\n",
      "765:\tlearn: 0.3102904\ttotal: 16.1s\tremaining: 4.93s\n",
      "766:\tlearn: 0.3101803\ttotal: 16.2s\tremaining: 4.91s\n",
      "767:\tlearn: 0.3101516\ttotal: 16.2s\tremaining: 4.89s\n",
      "768:\tlearn: 0.3100512\ttotal: 16.2s\tremaining: 4.87s\n",
      "769:\tlearn: 0.3100377\ttotal: 16.2s\tremaining: 4.85s\n",
      "770:\tlearn: 0.3099624\ttotal: 16.3s\tremaining: 4.83s\n",
      "771:\tlearn: 0.3099433\ttotal: 16.3s\tremaining: 4.8s\n",
      "772:\tlearn: 0.3099405\ttotal: 16.3s\tremaining: 4.78s\n",
      "773:\tlearn: 0.3099004\ttotal: 16.3s\tremaining: 4.76s\n",
      "774:\tlearn: 0.3097608\ttotal: 16.3s\tremaining: 4.74s\n",
      "775:\tlearn: 0.3097219\ttotal: 16.3s\tremaining: 4.72s\n",
      "776:\tlearn: 0.3095055\ttotal: 16.4s\tremaining: 4.7s\n",
      "777:\tlearn: 0.3094476\ttotal: 16.4s\tremaining: 4.68s\n",
      "778:\tlearn: 0.3094151\ttotal: 16.4s\tremaining: 4.66s\n",
      "779:\tlearn: 0.3093234\ttotal: 16.4s\tremaining: 4.64s\n",
      "780:\tlearn: 0.3092917\ttotal: 16.5s\tremaining: 4.62s\n",
      "781:\tlearn: 0.3091329\ttotal: 16.5s\tremaining: 4.59s\n",
      "782:\tlearn: 0.3091142\ttotal: 16.5s\tremaining: 4.57s\n",
      "783:\tlearn: 0.3091076\ttotal: 16.5s\tremaining: 4.55s\n",
      "784:\tlearn: 0.3090864\ttotal: 16.5s\tremaining: 4.53s\n",
      "785:\tlearn: 0.3090396\ttotal: 16.6s\tremaining: 4.51s\n",
      "786:\tlearn: 0.3089144\ttotal: 16.6s\tremaining: 4.49s\n",
      "787:\tlearn: 0.3088408\ttotal: 16.6s\tremaining: 4.47s\n",
      "788:\tlearn: 0.3087940\ttotal: 16.6s\tremaining: 4.45s\n",
      "789:\tlearn: 0.3087355\ttotal: 16.7s\tremaining: 4.43s\n",
      "790:\tlearn: 0.3087024\ttotal: 16.7s\tremaining: 4.41s\n",
      "791:\tlearn: 0.3086827\ttotal: 16.7s\tremaining: 4.39s\n",
      "792:\tlearn: 0.3086500\ttotal: 16.7s\tremaining: 4.37s\n",
      "793:\tlearn: 0.3085920\ttotal: 16.8s\tremaining: 4.35s\n",
      "794:\tlearn: 0.3085420\ttotal: 16.8s\tremaining: 4.33s\n",
      "795:\tlearn: 0.3084941\ttotal: 16.8s\tremaining: 4.31s\n",
      "796:\tlearn: 0.3084376\ttotal: 16.8s\tremaining: 4.29s\n",
      "797:\tlearn: 0.3083855\ttotal: 16.9s\tremaining: 4.26s\n",
      "798:\tlearn: 0.3083419\ttotal: 16.9s\tremaining: 4.24s\n",
      "799:\tlearn: 0.3083240\ttotal: 16.9s\tremaining: 4.22s\n",
      "800:\tlearn: 0.3082041\ttotal: 16.9s\tremaining: 4.2s\n",
      "801:\tlearn: 0.3080935\ttotal: 16.9s\tremaining: 4.18s\n",
      "802:\tlearn: 0.3080629\ttotal: 17s\tremaining: 4.16s\n",
      "803:\tlearn: 0.3080458\ttotal: 17s\tremaining: 4.14s\n",
      "804:\tlearn: 0.3080151\ttotal: 17s\tremaining: 4.12s\n",
      "805:\tlearn: 0.3079734\ttotal: 17s\tremaining: 4.09s\n",
      "806:\tlearn: 0.3078448\ttotal: 17s\tremaining: 4.07s\n",
      "807:\tlearn: 0.3078054\ttotal: 17.1s\tremaining: 4.05s\n",
      "808:\tlearn: 0.3076756\ttotal: 17.1s\tremaining: 4.03s\n",
      "809:\tlearn: 0.3076293\ttotal: 17.1s\tremaining: 4.01s\n",
      "810:\tlearn: 0.3075301\ttotal: 17.1s\tremaining: 3.99s\n",
      "811:\tlearn: 0.3074573\ttotal: 17.2s\tremaining: 3.97s\n",
      "812:\tlearn: 0.3074213\ttotal: 17.2s\tremaining: 3.95s\n",
      "813:\tlearn: 0.3073708\ttotal: 17.2s\tremaining: 3.93s\n",
      "814:\tlearn: 0.3072926\ttotal: 17.2s\tremaining: 3.91s\n",
      "815:\tlearn: 0.3072343\ttotal: 17.2s\tremaining: 3.89s\n",
      "816:\tlearn: 0.3071968\ttotal: 17.3s\tremaining: 3.86s\n",
      "817:\tlearn: 0.3071371\ttotal: 17.3s\tremaining: 3.84s\n"
     ]
    },
    {
     "name": "stdout",
     "output_type": "stream",
     "text": [
      "818:\tlearn: 0.3070202\ttotal: 17.3s\tremaining: 3.83s\n",
      "819:\tlearn: 0.3069426\ttotal: 17.3s\tremaining: 3.81s\n",
      "820:\tlearn: 0.3067480\ttotal: 17.4s\tremaining: 3.79s\n",
      "821:\tlearn: 0.3066712\ttotal: 17.4s\tremaining: 3.77s\n",
      "822:\tlearn: 0.3066276\ttotal: 17.4s\tremaining: 3.75s\n",
      "823:\tlearn: 0.3065686\ttotal: 17.5s\tremaining: 3.73s\n",
      "824:\tlearn: 0.3064613\ttotal: 17.5s\tremaining: 3.71s\n",
      "825:\tlearn: 0.3063451\ttotal: 17.5s\tremaining: 3.69s\n",
      "826:\tlearn: 0.3063022\ttotal: 17.6s\tremaining: 3.68s\n",
      "827:\tlearn: 0.3062469\ttotal: 17.6s\tremaining: 3.66s\n",
      "828:\tlearn: 0.3061310\ttotal: 17.6s\tremaining: 3.63s\n",
      "829:\tlearn: 0.3060724\ttotal: 17.6s\tremaining: 3.62s\n",
      "830:\tlearn: 0.3060263\ttotal: 17.7s\tremaining: 3.6s\n",
      "831:\tlearn: 0.3059427\ttotal: 17.7s\tremaining: 3.58s\n",
      "832:\tlearn: 0.3059022\ttotal: 17.8s\tremaining: 3.56s\n",
      "833:\tlearn: 0.3058629\ttotal: 17.8s\tremaining: 3.54s\n",
      "834:\tlearn: 0.3058219\ttotal: 17.8s\tremaining: 3.52s\n",
      "835:\tlearn: 0.3057952\ttotal: 17.8s\tremaining: 3.5s\n",
      "836:\tlearn: 0.3057657\ttotal: 17.9s\tremaining: 3.48s\n",
      "837:\tlearn: 0.3056301\ttotal: 17.9s\tremaining: 3.46s\n",
      "838:\tlearn: 0.3055083\ttotal: 17.9s\tremaining: 3.44s\n",
      "839:\tlearn: 0.3054817\ttotal: 17.9s\tremaining: 3.41s\n",
      "840:\tlearn: 0.3054684\ttotal: 17.9s\tremaining: 3.39s\n",
      "841:\tlearn: 0.3053618\ttotal: 18s\tremaining: 3.37s\n",
      "842:\tlearn: 0.3052609\ttotal: 18s\tremaining: 3.35s\n",
      "843:\tlearn: 0.3051535\ttotal: 18s\tremaining: 3.33s\n",
      "844:\tlearn: 0.3050516\ttotal: 18s\tremaining: 3.31s\n",
      "845:\tlearn: 0.3050248\ttotal: 18.1s\tremaining: 3.29s\n",
      "846:\tlearn: 0.3049587\ttotal: 18.1s\tremaining: 3.27s\n",
      "847:\tlearn: 0.3049136\ttotal: 18.1s\tremaining: 3.25s\n",
      "848:\tlearn: 0.3048627\ttotal: 18.2s\tremaining: 3.23s\n",
      "849:\tlearn: 0.3048241\ttotal: 18.2s\tremaining: 3.21s\n",
      "850:\tlearn: 0.3048215\ttotal: 18.2s\tremaining: 3.19s\n",
      "851:\tlearn: 0.3047510\ttotal: 18.2s\tremaining: 3.17s\n",
      "852:\tlearn: 0.3047186\ttotal: 18.3s\tremaining: 3.15s\n",
      "853:\tlearn: 0.3046208\ttotal: 18.3s\tremaining: 3.13s\n",
      "854:\tlearn: 0.3045998\ttotal: 18.3s\tremaining: 3.11s\n",
      "855:\tlearn: 0.3044621\ttotal: 18.3s\tremaining: 3.09s\n",
      "856:\tlearn: 0.3044147\ttotal: 18.4s\tremaining: 3.06s\n",
      "857:\tlearn: 0.3042801\ttotal: 18.4s\tremaining: 3.04s\n",
      "858:\tlearn: 0.3042733\ttotal: 18.4s\tremaining: 3.02s\n",
      "859:\tlearn: 0.3042346\ttotal: 18.4s\tremaining: 3s\n",
      "860:\tlearn: 0.3041880\ttotal: 18.5s\tremaining: 2.98s\n",
      "861:\tlearn: 0.3041087\ttotal: 18.5s\tremaining: 2.96s\n",
      "862:\tlearn: 0.3039181\ttotal: 18.5s\tremaining: 2.94s\n",
      "863:\tlearn: 0.3038916\ttotal: 18.6s\tremaining: 2.92s\n",
      "864:\tlearn: 0.3038098\ttotal: 18.6s\tremaining: 2.9s\n",
      "865:\tlearn: 0.3037709\ttotal: 18.6s\tremaining: 2.88s\n",
      "866:\tlearn: 0.3036783\ttotal: 18.7s\tremaining: 2.87s\n",
      "867:\tlearn: 0.3035395\ttotal: 18.7s\tremaining: 2.85s\n",
      "868:\tlearn: 0.3034959\ttotal: 18.7s\tremaining: 2.82s\n",
      "869:\tlearn: 0.3034262\ttotal: 18.8s\tremaining: 2.8s\n",
      "870:\tlearn: 0.3033333\ttotal: 18.8s\tremaining: 2.78s\n",
      "871:\tlearn: 0.3032574\ttotal: 18.8s\tremaining: 2.76s\n",
      "872:\tlearn: 0.3031983\ttotal: 18.8s\tremaining: 2.74s\n",
      "873:\tlearn: 0.3031536\ttotal: 18.9s\tremaining: 2.72s\n",
      "874:\tlearn: 0.3031426\ttotal: 18.9s\tremaining: 2.69s\n",
      "875:\tlearn: 0.3030861\ttotal: 18.9s\tremaining: 2.67s\n",
      "876:\tlearn: 0.3030658\ttotal: 18.9s\tremaining: 2.66s\n",
      "877:\tlearn: 0.3029790\ttotal: 19s\tremaining: 2.63s\n",
      "878:\tlearn: 0.3029195\ttotal: 19s\tremaining: 2.61s\n",
      "879:\tlearn: 0.3028738\ttotal: 19s\tremaining: 2.59s\n",
      "880:\tlearn: 0.3028446\ttotal: 19s\tremaining: 2.57s\n",
      "881:\tlearn: 0.3027650\ttotal: 19s\tremaining: 2.55s\n",
      "882:\tlearn: 0.3027249\ttotal: 19.1s\tremaining: 2.52s\n",
      "883:\tlearn: 0.3026874\ttotal: 19.1s\tremaining: 2.5s\n",
      "884:\tlearn: 0.3026700\ttotal: 19.1s\tremaining: 2.48s\n",
      "885:\tlearn: 0.3026492\ttotal: 19.1s\tremaining: 2.46s\n",
      "886:\tlearn: 0.3025143\ttotal: 19.2s\tremaining: 2.44s\n",
      "887:\tlearn: 0.3025057\ttotal: 19.2s\tremaining: 2.42s\n",
      "888:\tlearn: 0.3024784\ttotal: 19.2s\tremaining: 2.4s\n",
      "889:\tlearn: 0.3024432\ttotal: 19.2s\tremaining: 2.37s\n",
      "890:\tlearn: 0.3023760\ttotal: 19.2s\tremaining: 2.35s\n",
      "891:\tlearn: 0.3023433\ttotal: 19.3s\tremaining: 2.33s\n",
      "892:\tlearn: 0.3022870\ttotal: 19.3s\tremaining: 2.31s\n",
      "893:\tlearn: 0.3022754\ttotal: 19.3s\tremaining: 2.29s\n",
      "894:\tlearn: 0.3021813\ttotal: 19.3s\tremaining: 2.27s\n",
      "895:\tlearn: 0.3021418\ttotal: 19.3s\tremaining: 2.25s\n",
      "896:\tlearn: 0.3021196\ttotal: 19.4s\tremaining: 2.22s\n",
      "897:\tlearn: 0.3020630\ttotal: 19.4s\tremaining: 2.2s\n",
      "898:\tlearn: 0.3019703\ttotal: 19.4s\tremaining: 2.18s\n",
      "899:\tlearn: 0.3019004\ttotal: 19.4s\tremaining: 2.16s\n",
      "900:\tlearn: 0.3018621\ttotal: 19.4s\tremaining: 2.14s\n",
      "901:\tlearn: 0.3018077\ttotal: 19.5s\tremaining: 2.12s\n",
      "902:\tlearn: 0.3017369\ttotal: 19.5s\tremaining: 2.09s\n",
      "903:\tlearn: 0.3016555\ttotal: 19.5s\tremaining: 2.07s\n",
      "904:\tlearn: 0.3016097\ttotal: 19.5s\tremaining: 2.05s\n",
      "905:\tlearn: 0.3014269\ttotal: 19.5s\tremaining: 2.03s\n",
      "906:\tlearn: 0.3014090\ttotal: 19.6s\tremaining: 2.01s\n",
      "907:\tlearn: 0.3013826\ttotal: 19.6s\tremaining: 1.98s\n",
      "908:\tlearn: 0.3013514\ttotal: 19.6s\tremaining: 1.96s\n",
      "909:\tlearn: 0.3013112\ttotal: 19.6s\tremaining: 1.94s\n",
      "910:\tlearn: 0.3012737\ttotal: 19.7s\tremaining: 1.92s\n",
      "911:\tlearn: 0.3011696\ttotal: 19.7s\tremaining: 1.9s\n",
      "912:\tlearn: 0.3011303\ttotal: 19.7s\tremaining: 1.88s\n",
      "913:\tlearn: 0.3010974\ttotal: 19.7s\tremaining: 1.85s\n",
      "914:\tlearn: 0.3010680\ttotal: 19.7s\tremaining: 1.83s\n",
      "915:\tlearn: 0.3010202\ttotal: 19.8s\tremaining: 1.81s\n",
      "916:\tlearn: 0.3009948\ttotal: 19.8s\tremaining: 1.79s\n",
      "917:\tlearn: 0.3009429\ttotal: 19.8s\tremaining: 1.77s\n",
      "918:\tlearn: 0.3009173\ttotal: 19.8s\tremaining: 1.75s\n",
      "919:\tlearn: 0.3007905\ttotal: 19.9s\tremaining: 1.73s\n",
      "920:\tlearn: 0.3007037\ttotal: 19.9s\tremaining: 1.7s\n",
      "921:\tlearn: 0.3006704\ttotal: 19.9s\tremaining: 1.68s\n",
      "922:\tlearn: 0.3005760\ttotal: 19.9s\tremaining: 1.66s\n",
      "923:\tlearn: 0.3004472\ttotal: 19.9s\tremaining: 1.64s\n",
      "924:\tlearn: 0.3004071\ttotal: 19.9s\tremaining: 1.62s\n",
      "925:\tlearn: 0.3002491\ttotal: 20s\tremaining: 1.59s\n",
      "926:\tlearn: 0.3002252\ttotal: 20s\tremaining: 1.58s\n",
      "927:\tlearn: 0.3001820\ttotal: 20s\tremaining: 1.55s\n",
      "928:\tlearn: 0.3001427\ttotal: 20.1s\tremaining: 1.53s\n",
      "929:\tlearn: 0.3001176\ttotal: 20.1s\tremaining: 1.51s\n",
      "930:\tlearn: 0.3000715\ttotal: 20.1s\tremaining: 1.49s\n",
      "931:\tlearn: 0.2999848\ttotal: 20.1s\tremaining: 1.47s\n",
      "932:\tlearn: 0.2998490\ttotal: 20.1s\tremaining: 1.45s\n",
      "933:\tlearn: 0.2998146\ttotal: 20.2s\tremaining: 1.43s\n",
      "934:\tlearn: 0.2998049\ttotal: 20.2s\tremaining: 1.4s\n",
      "935:\tlearn: 0.2997772\ttotal: 20.2s\tremaining: 1.38s\n",
      "936:\tlearn: 0.2997507\ttotal: 20.3s\tremaining: 1.36s\n",
      "937:\tlearn: 0.2995750\ttotal: 20.3s\tremaining: 1.34s\n",
      "938:\tlearn: 0.2995256\ttotal: 20.3s\tremaining: 1.32s\n",
      "939:\tlearn: 0.2994948\ttotal: 20.3s\tremaining: 1.3s\n",
      "940:\tlearn: 0.2994327\ttotal: 20.4s\tremaining: 1.28s\n",
      "941:\tlearn: 0.2993563\ttotal: 20.4s\tremaining: 1.25s\n",
      "942:\tlearn: 0.2993132\ttotal: 20.4s\tremaining: 1.23s\n",
      "943:\tlearn: 0.2993088\ttotal: 20.5s\tremaining: 1.21s\n",
      "944:\tlearn: 0.2992559\ttotal: 20.5s\tremaining: 1.19s\n",
      "945:\tlearn: 0.2991219\ttotal: 20.5s\tremaining: 1.17s\n",
      "946:\tlearn: 0.2990885\ttotal: 20.5s\tremaining: 1.15s\n",
      "947:\tlearn: 0.2990163\ttotal: 20.5s\tremaining: 1.13s\n",
      "948:\tlearn: 0.2989972\ttotal: 20.6s\tremaining: 1.1s\n",
      "949:\tlearn: 0.2989859\ttotal: 20.6s\tremaining: 1.08s\n",
      "950:\tlearn: 0.2989657\ttotal: 20.6s\tremaining: 1.06s\n",
      "951:\tlearn: 0.2989428\ttotal: 20.6s\tremaining: 1.04s\n",
      "952:\tlearn: 0.2988898\ttotal: 20.6s\tremaining: 1.02s\n",
      "953:\tlearn: 0.2988758\ttotal: 20.7s\tremaining: 997ms\n",
      "954:\tlearn: 0.2987785\ttotal: 20.7s\tremaining: 975ms\n",
      "955:\tlearn: 0.2986526\ttotal: 20.7s\tremaining: 953ms\n",
      "956:\tlearn: 0.2986333\ttotal: 20.7s\tremaining: 931ms\n",
      "957:\tlearn: 0.2986006\ttotal: 20.7s\tremaining: 910ms\n",
      "958:\tlearn: 0.2985726\ttotal: 20.8s\tremaining: 888ms\n",
      "959:\tlearn: 0.2984923\ttotal: 20.8s\tremaining: 866ms\n",
      "960:\tlearn: 0.2984683\ttotal: 20.8s\tremaining: 844ms\n",
      "961:\tlearn: 0.2984195\ttotal: 20.8s\tremaining: 823ms\n",
      "962:\tlearn: 0.2983452\ttotal: 20.8s\tremaining: 801ms\n",
      "963:\tlearn: 0.2982292\ttotal: 20.9s\tremaining: 779ms\n",
      "964:\tlearn: 0.2982052\ttotal: 20.9s\tremaining: 757ms\n",
      "965:\tlearn: 0.2981508\ttotal: 20.9s\tremaining: 736ms\n",
      "966:\tlearn: 0.2980854\ttotal: 20.9s\tremaining: 714ms\n",
      "967:\tlearn: 0.2980648\ttotal: 20.9s\tremaining: 692ms\n",
      "968:\tlearn: 0.2980334\ttotal: 21s\tremaining: 671ms\n",
      "969:\tlearn: 0.2979380\ttotal: 21s\tremaining: 649ms\n",
      "970:\tlearn: 0.2978432\ttotal: 21s\tremaining: 627ms\n",
      "971:\tlearn: 0.2977935\ttotal: 21s\tremaining: 606ms\n",
      "972:\tlearn: 0.2977815\ttotal: 21s\tremaining: 584ms\n",
      "973:\tlearn: 0.2977573\ttotal: 21.1s\tremaining: 562ms\n",
      "974:\tlearn: 0.2977167\ttotal: 21.1s\tremaining: 541ms\n",
      "975:\tlearn: 0.2976320\ttotal: 21.1s\tremaining: 519ms\n",
      "976:\tlearn: 0.2976063\ttotal: 21.1s\tremaining: 497ms\n",
      "977:\tlearn: 0.2975698\ttotal: 21.1s\tremaining: 476ms\n",
      "978:\tlearn: 0.2975149\ttotal: 21.2s\tremaining: 454ms\n",
      "979:\tlearn: 0.2974527\ttotal: 21.2s\tremaining: 432ms\n",
      "980:\tlearn: 0.2973284\ttotal: 21.2s\tremaining: 411ms\n",
      "981:\tlearn: 0.2972432\ttotal: 21.2s\tremaining: 389ms\n",
      "982:\tlearn: 0.2970487\ttotal: 21.3s\tremaining: 368ms\n",
      "983:\tlearn: 0.2970138\ttotal: 21.3s\tremaining: 346ms\n",
      "984:\tlearn: 0.2969178\ttotal: 21.3s\tremaining: 324ms\n",
      "985:\tlearn: 0.2968902\ttotal: 21.3s\tremaining: 303ms\n"
     ]
    },
    {
     "name": "stdout",
     "output_type": "stream",
     "text": [
      "986:\tlearn: 0.2968015\ttotal: 21.3s\tremaining: 281ms\n",
      "987:\tlearn: 0.2967259\ttotal: 21.4s\tremaining: 259ms\n",
      "988:\tlearn: 0.2967189\ttotal: 21.4s\tremaining: 238ms\n",
      "989:\tlearn: 0.2966163\ttotal: 21.4s\tremaining: 216ms\n",
      "990:\tlearn: 0.2965940\ttotal: 21.4s\tremaining: 195ms\n",
      "991:\tlearn: 0.2965643\ttotal: 21.5s\tremaining: 173ms\n",
      "992:\tlearn: 0.2965057\ttotal: 21.5s\tremaining: 151ms\n",
      "993:\tlearn: 0.2963881\ttotal: 21.5s\tremaining: 130ms\n",
      "994:\tlearn: 0.2963170\ttotal: 21.5s\tremaining: 108ms\n",
      "995:\tlearn: 0.2962396\ttotal: 21.5s\tremaining: 86.5ms\n",
      "996:\tlearn: 0.2962291\ttotal: 21.6s\tremaining: 64.9ms\n",
      "997:\tlearn: 0.2961955\ttotal: 21.6s\tremaining: 43.4ms\n",
      "998:\tlearn: 0.2961512\ttotal: 21.7s\tremaining: 21.7ms\n",
      "999:\tlearn: 0.2960587\ttotal: 21.7s\tremaining: 0us\n"
     ]
    },
    {
     "data": {
      "text/plain": [
       "<catboost.core.CatBoost at 0x1f8eec45e48>"
      ]
     },
     "execution_count": 65,
     "metadata": {},
     "output_type": "execute_result"
    }
   ],
   "source": [
    "model.fit(X_train, y_train, cat_features=cat_cols)"
   ]
  },
  {
   "cell_type": "code",
   "execution_count": 66,
   "metadata": {},
   "outputs": [],
   "source": [
    "from sklearn.metrics import roc_auc_score as ras"
   ]
  },
  {
   "cell_type": "code",
   "execution_count": 67,
   "metadata": {},
   "outputs": [
    {
     "data": {
      "text/plain": [
       "0.9197088149239484"
      ]
     },
     "execution_count": 67,
     "metadata": {},
     "output_type": "execute_result"
    }
   ],
   "source": [
    "ras(y_train, model.predict(X_train))"
   ]
  },
  {
   "cell_type": "code",
   "execution_count": 68,
   "metadata": {},
   "outputs": [
    {
     "data": {
      "text/plain": [
       "0.8291609284786452"
      ]
     },
     "execution_count": 68,
     "metadata": {},
     "output_type": "execute_result"
    }
   ],
   "source": [
    "ras(y_val, model.predict(X_val))"
   ]
  },
  {
   "cell_type": "markdown",
   "metadata": {},
   "source": [
    "**Вывод**: стандартная модель сильно переобучается на train. "
   ]
  },
  {
   "cell_type": "markdown",
   "metadata": {},
   "source": [
    "2. Подбор параметров."
   ]
  },
  {
   "cell_type": "markdown",
   "metadata": {},
   "source": [
    "Здесь была долгая работа по работе с grid_search и ручному подбору параметров перебором. К сожалению, до финальной версии дожили лишь окончательные параметры, а параметры grid_search канули в небытие, поскольку сильно переобучали модель на тренировочную выборку (даже с прикрутом cv). grid_search использовался из библиотеки catBoost"
   ]
  },
  {
   "cell_type": "code",
   "execution_count": 69,
   "metadata": {},
   "outputs": [],
   "source": [
    "params = {\"iterations\": 150,\n",
    "          \"depth\": 5,\n",
    "          \"bagging_temperature\": 100,\n",
    "          \"min_child_samples\": 5,\n",
    "          \"learning_rate\": 0.1,\n",
    "          'l2_leaf_reg': 5\n",
    "         }"
   ]
  },
  {
   "cell_type": "code",
   "execution_count": 70,
   "metadata": {},
   "outputs": [],
   "source": [
    "model = CatBoost(params)"
   ]
  },
  {
   "cell_type": "code",
   "execution_count": 71,
   "metadata": {
    "scrolled": true
   },
   "outputs": [
    {
     "name": "stdout",
     "output_type": "stream",
     "text": [
      "0:\tlearn: 0.4350309\ttotal: 13.3ms\tremaining: 1.98s\n",
      "1:\tlearn: 0.4257807\ttotal: 26.9ms\tremaining: 1.99s\n",
      "2:\tlearn: 0.4179674\ttotal: 40.4ms\tremaining: 1.98s\n",
      "3:\tlearn: 0.4114521\ttotal: 53.1ms\tremaining: 1.94s\n",
      "4:\tlearn: 0.4057344\ttotal: 79.7ms\tremaining: 2.31s\n",
      "5:\tlearn: 0.4027274\ttotal: 86.1ms\tremaining: 2.07s\n",
      "6:\tlearn: 0.3983022\ttotal: 97.8ms\tremaining: 2s\n",
      "7:\tlearn: 0.3944213\ttotal: 110ms\tremaining: 1.96s\n",
      "8:\tlearn: 0.3910900\ttotal: 124ms\tremaining: 1.94s\n",
      "9:\tlearn: 0.3888090\ttotal: 137ms\tremaining: 1.92s\n",
      "10:\tlearn: 0.3865441\ttotal: 145ms\tremaining: 1.83s\n",
      "11:\tlearn: 0.3839502\ttotal: 157ms\tremaining: 1.8s\n",
      "12:\tlearn: 0.3818064\ttotal: 170ms\tremaining: 1.79s\n",
      "13:\tlearn: 0.3801001\ttotal: 181ms\tremaining: 1.76s\n",
      "14:\tlearn: 0.3782163\ttotal: 195ms\tremaining: 1.75s\n",
      "15:\tlearn: 0.3768362\ttotal: 207ms\tremaining: 1.73s\n",
      "16:\tlearn: 0.3758897\ttotal: 224ms\tremaining: 1.76s\n",
      "17:\tlearn: 0.3752174\ttotal: 233ms\tremaining: 1.71s\n",
      "18:\tlearn: 0.3742304\ttotal: 245ms\tremaining: 1.69s\n",
      "19:\tlearn: 0.3733112\ttotal: 258ms\tremaining: 1.68s\n",
      "20:\tlearn: 0.3723539\ttotal: 272ms\tremaining: 1.67s\n",
      "21:\tlearn: 0.3712388\ttotal: 284ms\tremaining: 1.65s\n",
      "22:\tlearn: 0.3707015\ttotal: 306ms\tremaining: 1.69s\n",
      "23:\tlearn: 0.3701987\ttotal: 320ms\tremaining: 1.68s\n",
      "24:\tlearn: 0.3694544\ttotal: 333ms\tremaining: 1.67s\n",
      "25:\tlearn: 0.3687081\ttotal: 346ms\tremaining: 1.65s\n",
      "26:\tlearn: 0.3681720\ttotal: 361ms\tremaining: 1.64s\n",
      "27:\tlearn: 0.3679849\ttotal: 367ms\tremaining: 1.6s\n",
      "28:\tlearn: 0.3675167\ttotal: 381ms\tremaining: 1.59s\n",
      "29:\tlearn: 0.3673353\ttotal: 389ms\tremaining: 1.56s\n",
      "30:\tlearn: 0.3669729\ttotal: 402ms\tremaining: 1.54s\n",
      "31:\tlearn: 0.3663989\ttotal: 420ms\tremaining: 1.55s\n",
      "32:\tlearn: 0.3659322\ttotal: 436ms\tremaining: 1.54s\n",
      "33:\tlearn: 0.3657455\ttotal: 446ms\tremaining: 1.52s\n",
      "34:\tlearn: 0.3655196\ttotal: 464ms\tremaining: 1.52s\n",
      "35:\tlearn: 0.3649060\ttotal: 485ms\tremaining: 1.53s\n",
      "36:\tlearn: 0.3644210\ttotal: 498ms\tremaining: 1.52s\n",
      "37:\tlearn: 0.3643710\ttotal: 503ms\tremaining: 1.48s\n",
      "38:\tlearn: 0.3640223\ttotal: 516ms\tremaining: 1.47s\n",
      "39:\tlearn: 0.3639419\ttotal: 529ms\tremaining: 1.45s\n",
      "40:\tlearn: 0.3637862\ttotal: 541ms\tremaining: 1.44s\n",
      "41:\tlearn: 0.3635549\ttotal: 554ms\tremaining: 1.42s\n",
      "42:\tlearn: 0.3632915\ttotal: 567ms\tremaining: 1.41s\n",
      "43:\tlearn: 0.3631394\ttotal: 580ms\tremaining: 1.4s\n",
      "44:\tlearn: 0.3628609\ttotal: 603ms\tremaining: 1.41s\n",
      "45:\tlearn: 0.3627473\ttotal: 619ms\tremaining: 1.4s\n",
      "46:\tlearn: 0.3623773\ttotal: 637ms\tremaining: 1.4s\n",
      "47:\tlearn: 0.3622534\ttotal: 651ms\tremaining: 1.38s\n",
      "48:\tlearn: 0.3622496\ttotal: 663ms\tremaining: 1.37s\n",
      "49:\tlearn: 0.3622406\ttotal: 676ms\tremaining: 1.35s\n",
      "50:\tlearn: 0.3621505\ttotal: 689ms\tremaining: 1.34s\n",
      "51:\tlearn: 0.3620522\ttotal: 703ms\tremaining: 1.32s\n",
      "52:\tlearn: 0.3616661\ttotal: 716ms\tremaining: 1.31s\n",
      "53:\tlearn: 0.3615529\ttotal: 730ms\tremaining: 1.3s\n",
      "54:\tlearn: 0.3613777\ttotal: 741ms\tremaining: 1.28s\n",
      "55:\tlearn: 0.3612780\ttotal: 755ms\tremaining: 1.27s\n",
      "56:\tlearn: 0.3611539\ttotal: 769ms\tremaining: 1.25s\n",
      "57:\tlearn: 0.3610933\ttotal: 777ms\tremaining: 1.23s\n",
      "58:\tlearn: 0.3610388\ttotal: 791ms\tremaining: 1.22s\n",
      "59:\tlearn: 0.3607530\ttotal: 803ms\tremaining: 1.2s\n",
      "60:\tlearn: 0.3607364\ttotal: 830ms\tremaining: 1.21s\n",
      "61:\tlearn: 0.3606546\ttotal: 849ms\tremaining: 1.21s\n",
      "62:\tlearn: 0.3606386\ttotal: 869ms\tremaining: 1.2s\n",
      "63:\tlearn: 0.3606218\ttotal: 884ms\tremaining: 1.19s\n",
      "64:\tlearn: 0.3605812\ttotal: 898ms\tremaining: 1.17s\n",
      "65:\tlearn: 0.3605799\ttotal: 906ms\tremaining: 1.15s\n",
      "66:\tlearn: 0.3605370\ttotal: 920ms\tremaining: 1.14s\n",
      "67:\tlearn: 0.3603563\ttotal: 950ms\tremaining: 1.15s\n",
      "68:\tlearn: 0.3603362\ttotal: 989ms\tremaining: 1.16s\n",
      "69:\tlearn: 0.3603013\ttotal: 1s\tremaining: 1.14s\n",
      "70:\tlearn: 0.3602633\ttotal: 1.02s\tremaining: 1.14s\n",
      "71:\tlearn: 0.3602279\ttotal: 1.04s\tremaining: 1.13s\n",
      "72:\tlearn: 0.3600317\ttotal: 1.06s\tremaining: 1.12s\n",
      "73:\tlearn: 0.3600304\ttotal: 1.07s\tremaining: 1.1s\n",
      "74:\tlearn: 0.3598982\ttotal: 1.1s\tremaining: 1.1s\n",
      "75:\tlearn: 0.3598973\ttotal: 1.1s\tremaining: 1.07s\n",
      "76:\tlearn: 0.3597465\ttotal: 1.11s\tremaining: 1.06s\n",
      "77:\tlearn: 0.3596905\ttotal: 1.13s\tremaining: 1.04s\n",
      "78:\tlearn: 0.3596897\ttotal: 1.13s\tremaining: 1.02s\n",
      "79:\tlearn: 0.3596474\ttotal: 1.15s\tremaining: 1s\n",
      "80:\tlearn: 0.3594532\ttotal: 1.16s\tremaining: 988ms\n",
      "81:\tlearn: 0.3593641\ttotal: 1.17s\tremaining: 972ms\n",
      "82:\tlearn: 0.3593526\ttotal: 1.18s\tremaining: 956ms\n",
      "83:\tlearn: 0.3593516\ttotal: 1.19s\tremaining: 935ms\n",
      "84:\tlearn: 0.3591576\ttotal: 1.2s\tremaining: 919ms\n",
      "85:\tlearn: 0.3587733\ttotal: 1.22s\tremaining: 907ms\n",
      "86:\tlearn: 0.3586225\ttotal: 1.23s\tremaining: 892ms\n",
      "87:\tlearn: 0.3583607\ttotal: 1.24s\tremaining: 877ms\n",
      "88:\tlearn: 0.3583602\ttotal: 1.25s\tremaining: 858ms\n",
      "89:\tlearn: 0.3582781\ttotal: 1.26s\tremaining: 842ms\n",
      "90:\tlearn: 0.3582304\ttotal: 1.28s\tremaining: 828ms\n",
      "91:\tlearn: 0.3581952\ttotal: 1.29s\tremaining: 813ms\n",
      "92:\tlearn: 0.3579867\ttotal: 1.3s\tremaining: 798ms\n",
      "93:\tlearn: 0.3579864\ttotal: 1.31s\tremaining: 779ms\n",
      "94:\tlearn: 0.3577164\ttotal: 1.32s\tremaining: 765ms\n",
      "95:\tlearn: 0.3575288\ttotal: 1.33s\tremaining: 750ms\n",
      "96:\tlearn: 0.3575286\ttotal: 1.34s\tremaining: 732ms\n",
      "97:\tlearn: 0.3574884\ttotal: 1.35s\tremaining: 718ms\n",
      "98:\tlearn: 0.3573745\ttotal: 1.37s\tremaining: 708ms\n",
      "99:\tlearn: 0.3572848\ttotal: 1.39s\tremaining: 694ms\n",
      "100:\tlearn: 0.3570187\ttotal: 1.4s\tremaining: 680ms\n",
      "101:\tlearn: 0.3569605\ttotal: 1.41s\tremaining: 665ms\n",
      "102:\tlearn: 0.3568126\ttotal: 1.44s\tremaining: 655ms\n",
      "103:\tlearn: 0.3566293\ttotal: 1.45s\tremaining: 641ms\n",
      "104:\tlearn: 0.3565788\ttotal: 1.46s\tremaining: 627ms\n",
      "105:\tlearn: 0.3565748\ttotal: 1.48s\tremaining: 613ms\n",
      "106:\tlearn: 0.3564284\ttotal: 1.49s\tremaining: 599ms\n",
      "107:\tlearn: 0.3564258\ttotal: 1.51s\tremaining: 588ms\n",
      "108:\tlearn: 0.3562904\ttotal: 1.52s\tremaining: 574ms\n",
      "109:\tlearn: 0.3560536\ttotal: 1.54s\tremaining: 560ms\n",
      "110:\tlearn: 0.3558860\ttotal: 1.55s\tremaining: 546ms\n",
      "111:\tlearn: 0.3556229\ttotal: 1.57s\tremaining: 532ms\n",
      "112:\tlearn: 0.3555578\ttotal: 1.58s\tremaining: 518ms\n",
      "113:\tlearn: 0.3553929\ttotal: 1.6s\tremaining: 507ms\n",
      "114:\tlearn: 0.3553044\ttotal: 1.62s\tremaining: 492ms\n",
      "115:\tlearn: 0.3551988\ttotal: 1.63s\tremaining: 479ms\n",
      "116:\tlearn: 0.3550992\ttotal: 1.65s\tremaining: 465ms\n",
      "117:\tlearn: 0.3548730\ttotal: 1.66s\tremaining: 450ms\n",
      "118:\tlearn: 0.3546460\ttotal: 1.67s\tremaining: 436ms\n",
      "119:\tlearn: 0.3545450\ttotal: 1.7s\tremaining: 424ms\n",
      "120:\tlearn: 0.3545376\ttotal: 1.71s\tremaining: 410ms\n",
      "121:\tlearn: 0.3544271\ttotal: 1.72s\tremaining: 396ms\n",
      "122:\tlearn: 0.3542580\ttotal: 1.74s\tremaining: 382ms\n",
      "123:\tlearn: 0.3539975\ttotal: 1.75s\tremaining: 367ms\n",
      "124:\tlearn: 0.3538504\ttotal: 1.77s\tremaining: 353ms\n",
      "125:\tlearn: 0.3537564\ttotal: 1.78s\tremaining: 339ms\n",
      "126:\tlearn: 0.3536353\ttotal: 1.79s\tremaining: 324ms\n",
      "127:\tlearn: 0.3534194\ttotal: 1.82s\tremaining: 312ms\n",
      "128:\tlearn: 0.3533995\ttotal: 1.85s\tremaining: 301ms\n",
      "129:\tlearn: 0.3532606\ttotal: 1.86s\tremaining: 286ms\n",
      "130:\tlearn: 0.3531362\ttotal: 1.87s\tremaining: 272ms\n",
      "131:\tlearn: 0.3528986\ttotal: 1.89s\tremaining: 257ms\n",
      "132:\tlearn: 0.3527736\ttotal: 1.9s\tremaining: 243ms\n",
      "133:\tlearn: 0.3527641\ttotal: 1.91s\tremaining: 229ms\n",
      "134:\tlearn: 0.3527589\ttotal: 1.93s\tremaining: 214ms\n",
      "135:\tlearn: 0.3526052\ttotal: 1.94s\tremaining: 200ms\n",
      "136:\tlearn: 0.3525424\ttotal: 1.95s\tremaining: 185ms\n",
      "137:\tlearn: 0.3524436\ttotal: 1.97s\tremaining: 171ms\n",
      "138:\tlearn: 0.3524356\ttotal: 1.98s\tremaining: 157ms\n",
      "139:\tlearn: 0.3523298\ttotal: 2s\tremaining: 143ms\n",
      "140:\tlearn: 0.3521263\ttotal: 2.01s\tremaining: 128ms\n",
      "141:\tlearn: 0.3519780\ttotal: 2.02s\tremaining: 114ms\n",
      "142:\tlearn: 0.3519718\ttotal: 2.04s\tremaining: 99.8ms\n",
      "143:\tlearn: 0.3518531\ttotal: 2.05s\tremaining: 85.5ms\n",
      "144:\tlearn: 0.3518475\ttotal: 2.06s\tremaining: 71.2ms\n",
      "145:\tlearn: 0.3517551\ttotal: 2.08s\tremaining: 57ms\n",
      "146:\tlearn: 0.3516589\ttotal: 2.09s\tremaining: 42.7ms\n",
      "147:\tlearn: 0.3515680\ttotal: 2.11s\tremaining: 28.5ms\n",
      "148:\tlearn: 0.3514545\ttotal: 2.13s\tremaining: 14.3ms\n",
      "149:\tlearn: 0.3513704\ttotal: 2.15s\tremaining: 0us\n"
     ]
    },
    {
     "data": {
      "text/plain": [
       "<catboost.core.CatBoost at 0x1f8ebd2ce80>"
      ]
     },
     "execution_count": 71,
     "metadata": {},
     "output_type": "execute_result"
    }
   ],
   "source": [
    "model.fit(X_train, y_train, cat_features=cat_cols)"
   ]
  },
  {
   "cell_type": "code",
   "execution_count": 72,
   "metadata": {},
   "outputs": [
    {
     "data": {
      "text/plain": [
       "0.871441614765057"
      ]
     },
     "execution_count": 72,
     "metadata": {},
     "output_type": "execute_result"
    }
   ],
   "source": [
    "ras(y_train, model.predict(X_train, prediction_type='Probability')[:,1])"
   ]
  },
  {
   "cell_type": "code",
   "execution_count": 73,
   "metadata": {},
   "outputs": [
    {
     "data": {
      "text/plain": [
       "0.8420148316774045"
      ]
     },
     "execution_count": 73,
     "metadata": {},
     "output_type": "execute_result"
    }
   ],
   "source": [
    "ras(y_val, model.predict(X_val, prediction_type='Probability')[:,1])"
   ]
  },
  {
   "cell_type": "markdown",
   "metadata": {
    "id": "rf4Kjt96EEZU"
   },
   "source": [
    "Выпишите какое лучшее качество и с какими параметрами вам удалось получить"
   ]
  },
  {
   "cell_type": "markdown",
   "metadata": {
    "id": "d2d9GolXEEZV"
   },
   "source": []
  },
  {
   "cell_type": "markdown",
   "metadata": {},
   "source": [
    "**Вывод**: получилось настроить параметры так, чтобы модель меньше переобучалась. "
   ]
  },
  {
   "cell_type": "code",
   "execution_count": 74,
   "metadata": {},
   "outputs": [
    {
     "name": "stdout",
     "output_type": "stream",
     "text": [
      "Train score: 0.871441614765057\n",
      "Val score: 0.8420148316774045\n",
      "Params: {'iterations': 150, 'depth': 5, 'bagging_temperature': 100, 'min_child_samples': 5, 'learning_rate': 0.1, 'l2_leaf_reg': 5}\n"
     ]
    }
   ],
   "source": [
    "print(\"Train score: 0.871441614765057\")\n",
    "print(\"Val score: 0.8420148316774045\")\n",
    "print(\"Params:\", params)"
   ]
  },
  {
   "cell_type": "markdown",
   "metadata": {},
   "source": [
    "## Ансамбль линейной модели и CatBoost"
   ]
  },
  {
   "cell_type": "markdown",
   "metadata": {},
   "source": [
    "Попробуем сделать линейную свертку линейной модели и CatBoost."
   ]
  },
  {
   "cell_type": "code",
   "execution_count": 76,
   "metadata": {},
   "outputs": [],
   "source": [
    "X_train_linear, X_val_linear = X_train.copy(), X_val.copy()"
   ]
  },
  {
   "cell_type": "code",
   "execution_count": 77,
   "metadata": {},
   "outputs": [
    {
     "data": {
      "text/html": [
       "<div>\n",
       "<style scoped>\n",
       "    .dataframe tbody tr th:only-of-type {\n",
       "        vertical-align: middle;\n",
       "    }\n",
       "\n",
       "    .dataframe tbody tr th {\n",
       "        vertical-align: top;\n",
       "    }\n",
       "\n",
       "    .dataframe thead th {\n",
       "        text-align: right;\n",
       "    }\n",
       "</style>\n",
       "<table border=\"1\" class=\"dataframe\">\n",
       "  <thead>\n",
       "    <tr style=\"text-align: right;\">\n",
       "      <th></th>\n",
       "      <th>ClientPeriod</th>\n",
       "      <th>MonthlySpending</th>\n",
       "      <th>TotalSpent</th>\n",
       "      <th>Sex</th>\n",
       "      <th>IsSeniorCitizen</th>\n",
       "      <th>HasPartner</th>\n",
       "      <th>HasChild</th>\n",
       "      <th>HasPhoneService</th>\n",
       "      <th>HasMultiplePhoneNumbers</th>\n",
       "      <th>HasInternetService</th>\n",
       "      <th>HasOnlineSecurityService</th>\n",
       "      <th>HasOnlineBackup</th>\n",
       "      <th>HasDeviceProtection</th>\n",
       "      <th>HasTechSupportAccess</th>\n",
       "      <th>HasOnlineTV</th>\n",
       "      <th>HasMovieSubscription</th>\n",
       "      <th>HasContractPhone</th>\n",
       "      <th>IsBillingPaperless</th>\n",
       "      <th>PaymentMethod</th>\n",
       "    </tr>\n",
       "  </thead>\n",
       "  <tbody>\n",
       "    <tr>\n",
       "      <th>235</th>\n",
       "      <td>22</td>\n",
       "      <td>79.20</td>\n",
       "      <td>1742.75</td>\n",
       "      <td>Female</td>\n",
       "      <td>0</td>\n",
       "      <td>Yes</td>\n",
       "      <td>No</td>\n",
       "      <td>Yes</td>\n",
       "      <td>Yes</td>\n",
       "      <td>DSL</td>\n",
       "      <td>Yes</td>\n",
       "      <td>No</td>\n",
       "      <td>No</td>\n",
       "      <td>Yes</td>\n",
       "      <td>Yes</td>\n",
       "      <td>Yes</td>\n",
       "      <td>Month-to-month</td>\n",
       "      <td>Yes</td>\n",
       "      <td>Electronic check</td>\n",
       "    </tr>\n",
       "    <tr>\n",
       "      <th>110</th>\n",
       "      <td>15</td>\n",
       "      <td>65.60</td>\n",
       "      <td>1010.00</td>\n",
       "      <td>Female</td>\n",
       "      <td>0</td>\n",
       "      <td>No</td>\n",
       "      <td>Yes</td>\n",
       "      <td>Yes</td>\n",
       "      <td>No</td>\n",
       "      <td>DSL</td>\n",
       "      <td>Yes</td>\n",
       "      <td>Yes</td>\n",
       "      <td>Yes</td>\n",
       "      <td>Yes</td>\n",
       "      <td>No</td>\n",
       "      <td>No</td>\n",
       "      <td>One year</td>\n",
       "      <td>No</td>\n",
       "      <td>Credit card (automatic)</td>\n",
       "    </tr>\n",
       "    <tr>\n",
       "      <th>292</th>\n",
       "      <td>12</td>\n",
       "      <td>91.30</td>\n",
       "      <td>1094.50</td>\n",
       "      <td>Female</td>\n",
       "      <td>1</td>\n",
       "      <td>No</td>\n",
       "      <td>No</td>\n",
       "      <td>Yes</td>\n",
       "      <td>Yes</td>\n",
       "      <td>Fiber optic</td>\n",
       "      <td>No</td>\n",
       "      <td>Yes</td>\n",
       "      <td>No</td>\n",
       "      <td>No</td>\n",
       "      <td>Yes</td>\n",
       "      <td>No</td>\n",
       "      <td>Month-to-month</td>\n",
       "      <td>Yes</td>\n",
       "      <td>Electronic check</td>\n",
       "    </tr>\n",
       "    <tr>\n",
       "      <th>713</th>\n",
       "      <td>7</td>\n",
       "      <td>35.50</td>\n",
       "      <td>249.55</td>\n",
       "      <td>Male</td>\n",
       "      <td>0</td>\n",
       "      <td>No</td>\n",
       "      <td>No</td>\n",
       "      <td>No</td>\n",
       "      <td>No phone service</td>\n",
       "      <td>DSL</td>\n",
       "      <td>No</td>\n",
       "      <td>No</td>\n",
       "      <td>Yes</td>\n",
       "      <td>Yes</td>\n",
       "      <td>No</td>\n",
       "      <td>No</td>\n",
       "      <td>One year</td>\n",
       "      <td>Yes</td>\n",
       "      <td>Credit card (automatic)</td>\n",
       "    </tr>\n",
       "    <tr>\n",
       "      <th>1754</th>\n",
       "      <td>21</td>\n",
       "      <td>36.00</td>\n",
       "      <td>780.15</td>\n",
       "      <td>Male</td>\n",
       "      <td>0</td>\n",
       "      <td>No</td>\n",
       "      <td>No</td>\n",
       "      <td>No</td>\n",
       "      <td>No phone service</td>\n",
       "      <td>DSL</td>\n",
       "      <td>No</td>\n",
       "      <td>Yes</td>\n",
       "      <td>No</td>\n",
       "      <td>Yes</td>\n",
       "      <td>No</td>\n",
       "      <td>No</td>\n",
       "      <td>Month-to-month</td>\n",
       "      <td>Yes</td>\n",
       "      <td>Mailed check</td>\n",
       "    </tr>\n",
       "    <tr>\n",
       "      <th>...</th>\n",
       "      <td>...</td>\n",
       "      <td>...</td>\n",
       "      <td>...</td>\n",
       "      <td>...</td>\n",
       "      <td>...</td>\n",
       "      <td>...</td>\n",
       "      <td>...</td>\n",
       "      <td>...</td>\n",
       "      <td>...</td>\n",
       "      <td>...</td>\n",
       "      <td>...</td>\n",
       "      <td>...</td>\n",
       "      <td>...</td>\n",
       "      <td>...</td>\n",
       "      <td>...</td>\n",
       "      <td>...</td>\n",
       "      <td>...</td>\n",
       "      <td>...</td>\n",
       "      <td>...</td>\n",
       "    </tr>\n",
       "    <tr>\n",
       "      <th>2800</th>\n",
       "      <td>66</td>\n",
       "      <td>100.80</td>\n",
       "      <td>6690.75</td>\n",
       "      <td>Female</td>\n",
       "      <td>1</td>\n",
       "      <td>Yes</td>\n",
       "      <td>No</td>\n",
       "      <td>Yes</td>\n",
       "      <td>Yes</td>\n",
       "      <td>Fiber optic</td>\n",
       "      <td>No</td>\n",
       "      <td>Yes</td>\n",
       "      <td>No</td>\n",
       "      <td>No</td>\n",
       "      <td>Yes</td>\n",
       "      <td>Yes</td>\n",
       "      <td>Month-to-month</td>\n",
       "      <td>Yes</td>\n",
       "      <td>Electronic check</td>\n",
       "    </tr>\n",
       "    <tr>\n",
       "      <th>1337</th>\n",
       "      <td>14</td>\n",
       "      <td>61.40</td>\n",
       "      <td>815.55</td>\n",
       "      <td>Male</td>\n",
       "      <td>0</td>\n",
       "      <td>Yes</td>\n",
       "      <td>Yes</td>\n",
       "      <td>Yes</td>\n",
       "      <td>No</td>\n",
       "      <td>DSL</td>\n",
       "      <td>Yes</td>\n",
       "      <td>Yes</td>\n",
       "      <td>No</td>\n",
       "      <td>No</td>\n",
       "      <td>No</td>\n",
       "      <td>Yes</td>\n",
       "      <td>Two year</td>\n",
       "      <td>Yes</td>\n",
       "      <td>Bank transfer (automatic)</td>\n",
       "    </tr>\n",
       "    <tr>\n",
       "      <th>406</th>\n",
       "      <td>1</td>\n",
       "      <td>69.50</td>\n",
       "      <td>69.50</td>\n",
       "      <td>Male</td>\n",
       "      <td>1</td>\n",
       "      <td>No</td>\n",
       "      <td>No</td>\n",
       "      <td>Yes</td>\n",
       "      <td>No</td>\n",
       "      <td>Fiber optic</td>\n",
       "      <td>No</td>\n",
       "      <td>No</td>\n",
       "      <td>No</td>\n",
       "      <td>No</td>\n",
       "      <td>No</td>\n",
       "      <td>No</td>\n",
       "      <td>Month-to-month</td>\n",
       "      <td>Yes</td>\n",
       "      <td>Bank transfer (automatic)</td>\n",
       "    </tr>\n",
       "    <tr>\n",
       "      <th>2191</th>\n",
       "      <td>14</td>\n",
       "      <td>74.95</td>\n",
       "      <td>1036.75</td>\n",
       "      <td>Male</td>\n",
       "      <td>1</td>\n",
       "      <td>No</td>\n",
       "      <td>No</td>\n",
       "      <td>Yes</td>\n",
       "      <td>Yes</td>\n",
       "      <td>Fiber optic</td>\n",
       "      <td>No</td>\n",
       "      <td>No</td>\n",
       "      <td>No</td>\n",
       "      <td>No</td>\n",
       "      <td>No</td>\n",
       "      <td>No</td>\n",
       "      <td>Month-to-month</td>\n",
       "      <td>Yes</td>\n",
       "      <td>Electronic check</td>\n",
       "    </tr>\n",
       "    <tr>\n",
       "      <th>2671</th>\n",
       "      <td>50</td>\n",
       "      <td>84.40</td>\n",
       "      <td>4116.15</td>\n",
       "      <td>Female</td>\n",
       "      <td>0</td>\n",
       "      <td>Yes</td>\n",
       "      <td>Yes</td>\n",
       "      <td>Yes</td>\n",
       "      <td>Yes</td>\n",
       "      <td>Fiber optic</td>\n",
       "      <td>No</td>\n",
       "      <td>No</td>\n",
       "      <td>No</td>\n",
       "      <td>No</td>\n",
       "      <td>Yes</td>\n",
       "      <td>No</td>\n",
       "      <td>Month-to-month</td>\n",
       "      <td>Yes</td>\n",
       "      <td>Bank transfer (automatic)</td>\n",
       "    </tr>\n",
       "  </tbody>\n",
       "</table>\n",
       "<p>3697 rows × 19 columns</p>\n",
       "</div>"
      ],
      "text/plain": [
       "      ClientPeriod  MonthlySpending  TotalSpent     Sex  IsSeniorCitizen  \\\n",
       "235             22            79.20     1742.75  Female                0   \n",
       "110             15            65.60     1010.00  Female                0   \n",
       "292             12            91.30     1094.50  Female                1   \n",
       "713              7            35.50      249.55    Male                0   \n",
       "1754            21            36.00      780.15    Male                0   \n",
       "...            ...              ...         ...     ...              ...   \n",
       "2800            66           100.80     6690.75  Female                1   \n",
       "1337            14            61.40      815.55    Male                0   \n",
       "406              1            69.50       69.50    Male                1   \n",
       "2191            14            74.95     1036.75    Male                1   \n",
       "2671            50            84.40     4116.15  Female                0   \n",
       "\n",
       "     HasPartner HasChild HasPhoneService HasMultiplePhoneNumbers  \\\n",
       "235         Yes       No             Yes                     Yes   \n",
       "110          No      Yes             Yes                      No   \n",
       "292          No       No             Yes                     Yes   \n",
       "713          No       No              No        No phone service   \n",
       "1754         No       No              No        No phone service   \n",
       "...         ...      ...             ...                     ...   \n",
       "2800        Yes       No             Yes                     Yes   \n",
       "1337        Yes      Yes             Yes                      No   \n",
       "406          No       No             Yes                      No   \n",
       "2191         No       No             Yes                     Yes   \n",
       "2671        Yes      Yes             Yes                     Yes   \n",
       "\n",
       "     HasInternetService HasOnlineSecurityService HasOnlineBackup  \\\n",
       "235                 DSL                      Yes              No   \n",
       "110                 DSL                      Yes             Yes   \n",
       "292         Fiber optic                       No             Yes   \n",
       "713                 DSL                       No              No   \n",
       "1754                DSL                       No             Yes   \n",
       "...                 ...                      ...             ...   \n",
       "2800        Fiber optic                       No             Yes   \n",
       "1337                DSL                      Yes             Yes   \n",
       "406         Fiber optic                       No              No   \n",
       "2191        Fiber optic                       No              No   \n",
       "2671        Fiber optic                       No              No   \n",
       "\n",
       "     HasDeviceProtection HasTechSupportAccess HasOnlineTV  \\\n",
       "235                   No                  Yes         Yes   \n",
       "110                  Yes                  Yes          No   \n",
       "292                   No                   No         Yes   \n",
       "713                  Yes                  Yes          No   \n",
       "1754                  No                  Yes          No   \n",
       "...                  ...                  ...         ...   \n",
       "2800                  No                   No         Yes   \n",
       "1337                  No                   No          No   \n",
       "406                   No                   No          No   \n",
       "2191                  No                   No          No   \n",
       "2671                  No                   No         Yes   \n",
       "\n",
       "     HasMovieSubscription HasContractPhone IsBillingPaperless  \\\n",
       "235                   Yes   Month-to-month                Yes   \n",
       "110                    No         One year                 No   \n",
       "292                    No   Month-to-month                Yes   \n",
       "713                    No         One year                Yes   \n",
       "1754                   No   Month-to-month                Yes   \n",
       "...                   ...              ...                ...   \n",
       "2800                  Yes   Month-to-month                Yes   \n",
       "1337                  Yes         Two year                Yes   \n",
       "406                    No   Month-to-month                Yes   \n",
       "2191                   No   Month-to-month                Yes   \n",
       "2671                   No   Month-to-month                Yes   \n",
       "\n",
       "                  PaymentMethod  \n",
       "235            Electronic check  \n",
       "110     Credit card (automatic)  \n",
       "292            Electronic check  \n",
       "713     Credit card (automatic)  \n",
       "1754               Mailed check  \n",
       "...                         ...  \n",
       "2800           Electronic check  \n",
       "1337  Bank transfer (automatic)  \n",
       "406   Bank transfer (automatic)  \n",
       "2191           Electronic check  \n",
       "2671  Bank transfer (automatic)  \n",
       "\n",
       "[3697 rows x 19 columns]"
      ]
     },
     "execution_count": 77,
     "metadata": {},
     "output_type": "execute_result"
    }
   ],
   "source": [
    "X_train_linear"
   ]
  },
  {
   "cell_type": "code",
   "execution_count": 78,
   "metadata": {},
   "outputs": [],
   "source": [
    "X_train_linear[num_cols] = ss.transform(X_train_linear[num_cols])\n",
    "X_val_linear[num_cols] = ss.transform(X_val_linear[num_cols])"
   ]
  },
  {
   "cell_type": "code",
   "execution_count": 79,
   "metadata": {},
   "outputs": [],
   "source": [
    "for cat_col in cat_cols:\n",
    "    le = label_encoders[cat_col]\n",
    "    X_train_linear[cat_col] = le.transform(X_train_linear[cat_col])\n",
    "    X_val_linear[cat_col] = le.transform(X_val_linear[cat_col])"
   ]
  },
  {
   "cell_type": "code",
   "execution_count": 80,
   "metadata": {},
   "outputs": [],
   "source": [
    "X_train_linear_cat = ohe.transform(X_train_linear[cat_cols]).toarray()\n",
    "X_val_linear_cat = ohe.transform(X_val_linear[cat_cols]).toarray()"
   ]
  },
  {
   "cell_type": "code",
   "execution_count": 81,
   "metadata": {},
   "outputs": [],
   "source": [
    "X_train_linear = np.concatenate([X_train_linear[num_cols], X_train_linear_cat], axis=1)\n",
    "X_val_linear = np.concatenate([X_val_linear[num_cols], X_val_linear_cat], axis=1)"
   ]
  },
  {
   "cell_type": "code",
   "execution_count": 82,
   "metadata": {},
   "outputs": [],
   "source": [
    "cl_pred_train = clf.predict_proba(X_train_linear)\n",
    "cl_pred_val = clf.predict_proba(X_val_linear)"
   ]
  },
  {
   "cell_type": "code",
   "execution_count": 83,
   "metadata": {},
   "outputs": [],
   "source": [
    "cb_pred_train = model.predict(X_train, prediction_type='Probability')"
   ]
  },
  {
   "cell_type": "code",
   "execution_count": 84,
   "metadata": {},
   "outputs": [],
   "source": [
    "cb_pred_val = model.predict(X_val, prediction_type='Probability')"
   ]
  },
  {
   "cell_type": "markdown",
   "metadata": {},
   "source": [
    "Попробуем линейную свертку с кэфами 1/10 - 9/10, 2/10 - 8/10, ..., 9/10 - 1/10."
   ]
  },
  {
   "cell_type": "code",
   "execution_count": 85,
   "metadata": {},
   "outputs": [],
   "source": [
    "def linear_coeffs(i, factor):\n",
    "    coeff = i / factor\n",
    "    return coeff, 1 - coeff"
   ]
  },
  {
   "cell_type": "code",
   "execution_count": 87,
   "metadata": {},
   "outputs": [
    {
     "name": "stdout",
     "output_type": "stream",
     "text": [
      "Coeffs:  0.1 0.9\n",
      "Train: 0.8672088297459217\n",
      "Val: 0.8425969771877159\n",
      "\n",
      "Coeffs:  0.2 0.8\n",
      "Train: 0.8637119557000863\n",
      "Val: 0.8419279442878056\n",
      "\n",
      "Coeffs:  0.3 0.7\n",
      "Train: 0.8609847126167601\n",
      "Val: 0.8411416134119375\n",
      "\n",
      "Coeffs:  0.4 0.6\n",
      "Train: 0.8587840201341684\n",
      "Val: 0.8405399182389662\n",
      "\n",
      "Coeffs:  0.5 0.5\n",
      "Train: 0.8569931552127398\n",
      "Val: 0.8402836004396501\n",
      "\n",
      "Coeffs:  0.6 0.4\n",
      "Train: 0.8555309675487718\n",
      "Val: 0.8397123158530386\n",
      "\n",
      "Coeffs:  0.7 0.30000000000000004\n",
      "Train: 0.8542799930040287\n",
      "Val: 0.8392409517644657\n",
      "\n",
      "Coeffs:  0.8 0.19999999999999996\n",
      "Train: 0.8532087348852928\n",
      "Val: 0.8389346737161303\n",
      "\n",
      "Coeffs:  0.9 0.09999999999999998\n",
      "Train: 0.8522805088086987\n",
      "Val: 0.8386740115473341\n",
      "\n"
     ]
    }
   ],
   "source": [
    "factor = 10\n",
    "for i in range(1, factor):\n",
    "    c1, c2 = linear_coeffs(i, factor)\n",
    "    print(\"Coeffs: \", c1, c2)\n",
    "    agg_pred_train = cl_pred_train * c1 + cb_pred_train * c2\n",
    "    agg_pred_val = cl_pred_val * c1 + cb_pred_val * c2\n",
    "    print(\"Train:\", ras(y_train, agg_pred_train[:,1]))\n",
    "    print(\"Val:\", ras(y_val, agg_pred_val[:,1]))\n",
    "    print()"
   ]
  },
  {
   "cell_type": "markdown",
   "metadata": {},
   "source": [
    "**Вывод**: ансамбль с кэфами 1/10 - 9/10 показывает наилучший результат. Эту модель выберем в качестве итоговой."
   ]
  },
  {
   "cell_type": "markdown",
   "metadata": {
    "id": "dDMXbvNZEEZV"
   },
   "source": [
    "# Предсказания"
   ]
  },
  {
   "cell_type": "markdown",
   "metadata": {},
   "source": [
    "Подготовим тестовые данные, чтобы с ними могла работать и линейная модель."
   ]
  },
  {
   "cell_type": "code",
   "execution_count": 88,
   "metadata": {},
   "outputs": [],
   "source": [
    "X_test = pd.read_csv('./test.csv')"
   ]
  },
  {
   "cell_type": "markdown",
   "metadata": {},
   "source": [
    "Заполним пропуски *TotalSpent* медианой."
   ]
  },
  {
   "cell_type": "code",
   "execution_count": 89,
   "metadata": {},
   "outputs": [],
   "source": [
    "X_test['TotalSpent'].replace({' ': total_spent_median}, inplace=True)"
   ]
  },
  {
   "cell_type": "code",
   "execution_count": 90,
   "metadata": {},
   "outputs": [],
   "source": [
    "X_test_l = X_test.copy()"
   ]
  },
  {
   "cell_type": "code",
   "execution_count": 91,
   "metadata": {},
   "outputs": [],
   "source": [
    "X_test_l[num_cols] = ss.transform(X_test_l[num_cols])"
   ]
  },
  {
   "cell_type": "code",
   "execution_count": 92,
   "metadata": {},
   "outputs": [],
   "source": [
    "for cat_col in cat_cols:\n",
    "    le = label_encoders[cat_col]\n",
    "    X_test_l[cat_col] = le.transform(X_test_l[cat_col])"
   ]
  },
  {
   "cell_type": "code",
   "execution_count": 93,
   "metadata": {},
   "outputs": [],
   "source": [
    "X_test_l_cat = ohe.transform(X_test_l[cat_cols]).toarray()"
   ]
  },
  {
   "cell_type": "code",
   "execution_count": 94,
   "metadata": {},
   "outputs": [],
   "source": [
    "X_test_l = np.concatenate([X_test_l[num_cols], X_test_l_cat], axis=1)"
   ]
  },
  {
   "cell_type": "markdown",
   "metadata": {},
   "source": [
    "Делаем предикт обеими моделями."
   ]
  },
  {
   "cell_type": "code",
   "execution_count": 95,
   "metadata": {},
   "outputs": [],
   "source": [
    "cl_pred_test = clf.predict_proba(X_test_l)"
   ]
  },
  {
   "cell_type": "code",
   "execution_count": 96,
   "metadata": {},
   "outputs": [],
   "source": [
    "cb_pred_test = model.predict(X_test, prediction_type='Probability')"
   ]
  },
  {
   "cell_type": "markdown",
   "metadata": {},
   "source": [
    "Запишем конечный результат."
   ]
  },
  {
   "cell_type": "code",
   "execution_count": 97,
   "metadata": {
    "id": "FfSufx0CEEZZ"
   },
   "outputs": [],
   "source": [
    "submission = pd.read_csv('./submission.csv')\n",
    "submission['Churn'] = (cl_pred_test * (1 / 10) + cb_pred_test * (1 - 1 / 10))[:,1]\n",
    "submission.to_csv('./my_submission.csv', index=False)"
   ]
  },
  {
   "cell_type": "markdown",
   "metadata": {
    "id": "mkxjbGkVEEZc"
   },
   "source": [
    "# Kaggle (5 баллов)\n",
    "\n",
    "Как выставить баллы:\n",
    "\n",
    "1) 1 >= roc auc > 0.84 это 5 баллов\n",
    "\n",
    "2) 0.84 >= roc auc > 0.7 это 3 балла\n",
    "\n",
    "3) 0.7 >= roc auc > 0.6 это 1 балл\n",
    "\n",
    "4) 0.6 >= roc auc это 0 баллов\n",
    "\n",
    "\n",
    "Для выполнения задания необходимо выполнить следующие шаги.\n",
    "* Зарегистрироваться на платформе [kaggle.com](kaggle.com). Процесс выставления оценок будет проходить при подведении итогового рейтинга. Пожалуйста, укажите во вкладке Team -> Team name свои имя и фамилию в формате Имя_Фамилия (важно, чтобы имя и фамилия совпадали с данными на Stepik).\n",
    "* Обучить модель, получить файл с ответами в формате .csv и сдать его в конкурс. Пробуйте и экспериментируйте. Обратите внимание, что вы можете выполнять до 20 попыток сдачи на kaggle в день.\n",
    "* После окончания соревнования отправить в итоговый ноутбук с решением на степик. \n",
    "* После дедлайна проверьте посылки других участников по критериям. Для этого надо зайти на степик, скачать их ноутбук и проверить скор в соревновании."
   ]
  },
  {
   "cell_type": "markdown",
   "metadata": {},
   "source": [
    "**Продублирую.**\n",
    "\n",
    "Ник на  Kaggle: Alexander_Morshinin\n",
    "\n",
    "Score на момент отправки тетради: 0.84906"
   ]
  },
  {
   "cell_type": "code",
   "execution_count": null,
   "metadata": {},
   "outputs": [],
   "source": []
  }
 ],
 "metadata": {
  "colab": {
   "collapsed_sections": [],
   "name": "baseline.ipynb",
   "provenance": []
  },
  "kernelspec": {
   "display_name": "Python 3",
   "language": "python",
   "name": "python3"
  },
  "language_info": {
   "codemirror_mode": {
    "name": "ipython",
    "version": 3
   },
   "file_extension": ".py",
   "mimetype": "text/x-python",
   "name": "python",
   "nbconvert_exporter": "python",
   "pygments_lexer": "ipython3",
   "version": "3.7.0"
  }
 },
 "nbformat": 4,
 "nbformat_minor": 1
}
